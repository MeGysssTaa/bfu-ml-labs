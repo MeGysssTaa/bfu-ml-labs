{
 "nbformat": 4,
 "nbformat_minor": 0,
 "metadata": {
  "colab": {
   "provenance": []
  },
  "kernelspec": {
   "name": "python3",
   "language": "python",
   "display_name": "Python 3 (ipykernel)"
  },
  "language_info": {
   "name": "python"
  }
 },
 "cells": [
  {
   "cell_type": "code",
   "execution_count": 493,
   "outputs": [],
   "source": [
    "dir = 'D:/projects/datascience/bfu-ml-labs/lab_8'"
   ],
   "metadata": {
    "collapsed": false,
    "ExecuteTime": {
     "end_time": "2023-05-20T17:25:13.169829300Z",
     "start_time": "2023-05-20T17:25:12.281748200Z"
    }
   }
  },
  {
   "cell_type": "code",
   "execution_count": 494,
   "metadata": {
    "id": "MHxedL0_dm3v",
    "ExecuteTime": {
     "end_time": "2023-05-20T17:25:13.339444500Z",
     "start_time": "2023-05-20T17:25:12.304244Z"
    }
   },
   "outputs": [],
   "source": [
    "import tensorflow as tf\n",
    "import tensorflow_datasets as tfds"
   ]
  },
  {
   "cell_type": "code",
   "execution_count": 495,
   "outputs": [],
   "source": [
    "tf.random.set_seed(123)"
   ],
   "metadata": {
    "collapsed": false,
    "ExecuteTime": {
     "end_time": "2023-05-20T17:25:13.340446400Z",
     "start_time": "2023-05-20T17:25:12.328976Z"
    }
   }
  },
  {
   "cell_type": "code",
   "source": [
    "(ds_train, ds_test), ds_info = tfds.load(\n",
    "    'mnist',\n",
    "    split=['train', 'test'],\n",
    "    shuffle_files=True,\n",
    "    as_supervised=True,\n",
    "    with_info=True,\n",
    ")"
   ],
   "metadata": {
    "id": "UIHcvK3odoZ3",
    "ExecuteTime": {
     "end_time": "2023-05-20T17:25:13.342443900Z",
     "start_time": "2023-05-20T17:25:12.360019800Z"
    }
   },
   "execution_count": 496,
   "outputs": []
  },
  {
   "cell_type": "code",
   "source": [
    "type(ds_train)"
   ],
   "metadata": {
    "colab": {
     "base_uri": "https://localhost:8080/"
    },
    "id": "wgyKQeKzeZbP",
    "outputId": "a17ea6d4-a2c1-4a4a-8e93-67253956eeec",
    "ExecuteTime": {
     "end_time": "2023-05-20T17:25:13.342443900Z",
     "start_time": "2023-05-20T17:25:12.604914100Z"
    }
   },
   "execution_count": 497,
   "outputs": [
    {
     "data": {
      "text/plain": "tensorflow.python.data.ops.prefetch_op._PrefetchDataset"
     },
     "execution_count": 497,
     "metadata": {},
     "output_type": "execute_result"
    }
   ]
  },
  {
   "cell_type": "code",
   "source": [
    "ds_train"
   ],
   "metadata": {
    "colab": {
     "base_uri": "https://localhost:8080/"
    },
    "id": "jtOiSJfAenyG",
    "outputId": "93c8a4cd-ab2c-4479-8c4f-f8385b24d8f3",
    "ExecuteTime": {
     "end_time": "2023-05-20T17:25:13.342443900Z",
     "start_time": "2023-05-20T17:25:12.620915Z"
    }
   },
   "execution_count": 498,
   "outputs": [
    {
     "data": {
      "text/plain": "<_PrefetchDataset element_spec=(TensorSpec(shape=(28, 28, 1), dtype=tf.uint8, name=None), TensorSpec(shape=(), dtype=tf.int64, name=None))>"
     },
     "execution_count": 498,
     "metadata": {},
     "output_type": "execute_result"
    }
   ]
  },
  {
   "cell_type": "code",
   "source": [
    "type(ds_test)"
   ],
   "metadata": {
    "colab": {
     "base_uri": "https://localhost:8080/"
    },
    "id": "MJAX-06eeoMM",
    "outputId": "4195da32-6cc6-4708-f77c-fb337d7aa327",
    "ExecuteTime": {
     "end_time": "2023-05-20T17:25:13.343444300Z",
     "start_time": "2023-05-20T17:25:12.637433200Z"
    }
   },
   "execution_count": 499,
   "outputs": [
    {
     "data": {
      "text/plain": "tensorflow.python.data.ops.prefetch_op._PrefetchDataset"
     },
     "execution_count": 499,
     "metadata": {},
     "output_type": "execute_result"
    }
   ]
  },
  {
   "cell_type": "code",
   "source": [
    "ds_test"
   ],
   "metadata": {
    "colab": {
     "base_uri": "https://localhost:8080/"
    },
    "id": "Cw-_GTyQeo0x",
    "outputId": "db66bb79-6003-44aa-d787-4bea9277db69",
    "ExecuteTime": {
     "end_time": "2023-05-20T17:25:13.343444300Z",
     "start_time": "2023-05-20T17:25:12.660967700Z"
    }
   },
   "execution_count": 500,
   "outputs": [
    {
     "data": {
      "text/plain": "<_PrefetchDataset element_spec=(TensorSpec(shape=(28, 28, 1), dtype=tf.uint8, name=None), TensorSpec(shape=(), dtype=tf.int64, name=None))>"
     },
     "execution_count": 500,
     "metadata": {},
     "output_type": "execute_result"
    }
   ]
  },
  {
   "cell_type": "code",
   "source": [
    "type(ds_info)"
   ],
   "metadata": {
    "colab": {
     "base_uri": "https://localhost:8080/"
    },
    "id": "hBF7eUZIepOw",
    "outputId": "f9b9ad6c-dd48-4394-f031-e622586cbbe8",
    "ExecuteTime": {
     "end_time": "2023-05-20T17:25:13.343444300Z",
     "start_time": "2023-05-20T17:25:12.677399300Z"
    }
   },
   "execution_count": 501,
   "outputs": [
    {
     "data": {
      "text/plain": "tensorflow_datasets.core.dataset_info.DatasetInfo"
     },
     "execution_count": 501,
     "metadata": {},
     "output_type": "execute_result"
    }
   ]
  },
  {
   "cell_type": "code",
   "source": [
    "ds_info"
   ],
   "metadata": {
    "colab": {
     "base_uri": "https://localhost:8080/"
    },
    "id": "xYZff90Zep4H",
    "outputId": "67c27d02-a412-487a-c26a-3700b6866ac4",
    "ExecuteTime": {
     "end_time": "2023-05-20T17:25:13.343444300Z",
     "start_time": "2023-05-20T17:25:12.698280100Z"
    }
   },
   "execution_count": 502,
   "outputs": [
    {
     "data": {
      "text/plain": "tfds.core.DatasetInfo(\n    name='mnist',\n    full_name='mnist/3.0.1',\n    description=\"\"\"\n    The MNIST database of handwritten digits.\n    \"\"\",\n    homepage='http://yann.lecun.com/exdb/mnist/',\n    data_path='C:\\\\Users\\\\German\\\\tensorflow_datasets\\\\mnist\\\\3.0.1',\n    file_format=tfrecord,\n    download_size=11.06 MiB,\n    dataset_size=21.00 MiB,\n    features=FeaturesDict({\n        'image': Image(shape=(28, 28, 1), dtype=uint8),\n        'label': ClassLabel(shape=(), dtype=int64, num_classes=10),\n    }),\n    supervised_keys=('image', 'label'),\n    disable_shuffling=False,\n    splits={\n        'test': <SplitInfo num_examples=10000, num_shards=1>,\n        'train': <SplitInfo num_examples=60000, num_shards=1>,\n    },\n    citation=\"\"\"@article{lecun2010mnist,\n      title={MNIST handwritten digit database},\n      author={LeCun, Yann and Cortes, Corinna and Burges, CJ},\n      journal={ATT Labs [Online]. Available: http://yann.lecun.com/exdb/mnist},\n      volume={2},\n      year={2010}\n    }\"\"\",\n)"
     },
     "execution_count": 502,
     "metadata": {},
     "output_type": "execute_result"
    }
   ]
  },
  {
   "cell_type": "code",
   "source": [
    "def normalize_image(image, label):\n",
    "    return tf.cast(image, tf.float32) / 255., label"
   ],
   "metadata": {
    "id": "Pyhr_Dy1eqVO",
    "ExecuteTime": {
     "end_time": "2023-05-20T17:25:13.343444300Z",
     "start_time": "2023-05-20T17:25:12.725347200Z"
    }
   },
   "execution_count": 503,
   "outputs": []
  },
  {
   "cell_type": "code",
   "execution_count": 504,
   "outputs": [],
   "source": [
    "ds_train = ds_train.map(normalize_image, num_parallel_calls=tf.data.AUTOTUNE)\n",
    "#ds_train = ds_train.cache()\n",
    "ds_train = ds_train.shuffle(ds_info.splits['train'].num_examples)\n",
    "ds_train = ds_train.batch(128, drop_remainder=True)\n",
    "ds_train = ds_train.prefetch(tf.data.AUTOTUNE)"
   ],
   "metadata": {
    "collapsed": false,
    "ExecuteTime": {
     "end_time": "2023-05-20T17:25:13.344443700Z",
     "start_time": "2023-05-20T17:25:12.754320400Z"
    }
   }
  },
  {
   "cell_type": "code",
   "source": [
    "ds_test = ds_test.map(normalize_image, num_parallel_calls=tf.data.AUTOTUNE)\n",
    "ds_test = ds_test.batch(128, drop_remainder=True)\n",
    "#ds_test = ds_test.cache()\n",
    "ds_test = ds_test.prefetch(tf.data.AUTOTUNE)"
   ],
   "metadata": {
    "id": "k3uHl4gmgwC9",
    "ExecuteTime": {
     "end_time": "2023-05-20T17:25:13.344443700Z",
     "start_time": "2023-05-20T17:25:12.818799500Z"
    }
   },
   "execution_count": 505,
   "outputs": []
  },
  {
   "cell_type": "markdown",
   "source": [
    "# 1. MLP"
   ],
   "metadata": {
    "id": "ZuSxCWUIyUos"
   }
  },
  {
   "cell_type": "code",
   "source": [
    "model = tf.keras.models.Sequential([\n",
    "    # Input layer (28*28=784 neurons).\n",
    "    tf.keras.layers.Flatten(input_shape=(28, 28)),\n",
    "    # 3 hidden fully-connected layers (simple feed-forward), each with 100 neurons and with ReLU activation.\n",
    "    tf.keras.layers.Dense(100, activation='relu'),\n",
    "    tf.keras.layers.Dense(100, activation='relu'),\n",
    "    tf.keras.layers.Dense(100, activation='relu'),\n",
    "    # Output layer (10 neurons: one for each possible digit (target label) in the dataset: 0, 1, ..., 9).\n",
    "    tf.keras.layers.Dense(10)\n",
    "])\n",
    "\n",
    "model.compile(\n",
    "    optimizer=tf.keras.optimizers.Adam(0.001),\n",
    "    loss=tf.keras.losses.SparseCategoricalCrossentropy(from_logits=True),\n",
    "    metrics=[tf.keras.metrics.SparseCategoricalAccuracy()],\n",
    ")\n",
    "\n",
    "history = model.fit(\n",
    "    ds_train,\n",
    "    epochs=5,\n",
    "    validation_data=ds_test,\n",
    ")"
   ],
   "metadata": {
    "colab": {
     "base_uri": "https://localhost:8080/"
    },
    "id": "_tI3JVuNiqGe",
    "outputId": "22062f9a-d11d-41b6-abc1-28d94c38a6ea",
    "ExecuteTime": {
     "end_time": "2023-05-20T17:25:36.828071400Z",
     "start_time": "2023-05-20T17:25:12.878201100Z"
    }
   },
   "execution_count": 506,
   "outputs": [
    {
     "name": "stdout",
     "output_type": "stream",
     "text": [
      "Epoch 1/5\n",
      "468/468 [==============================] - 6s 6ms/step - loss: 0.3249 - sparse_categorical_accuracy: 0.9066 - val_loss: 0.1499 - val_sparse_categorical_accuracy: 0.9553\n",
      "Epoch 2/5\n",
      "468/468 [==============================] - 4s 6ms/step - loss: 0.1249 - sparse_categorical_accuracy: 0.9634 - val_loss: 0.1215 - val_sparse_categorical_accuracy: 0.9639\n",
      "Epoch 3/5\n",
      "468/468 [==============================] - 5s 8ms/step - loss: 0.0891 - sparse_categorical_accuracy: 0.9733 - val_loss: 0.0945 - val_sparse_categorical_accuracy: 0.9711\n",
      "Epoch 4/5\n",
      "468/468 [==============================] - 4s 5ms/step - loss: 0.0673 - sparse_categorical_accuracy: 0.9793 - val_loss: 0.0819 - val_sparse_categorical_accuracy: 0.9733\n",
      "Epoch 5/5\n",
      "468/468 [==============================] - 4s 6ms/step - loss: 0.0528 - sparse_categorical_accuracy: 0.9832 - val_loss: 0.0898 - val_sparse_categorical_accuracy: 0.9734\n"
     ]
    }
   ]
  },
  {
   "cell_type": "code",
   "source": [
    "model.summary()"
   ],
   "metadata": {
    "colab": {
     "base_uri": "https://localhost:8080/"
    },
    "id": "xxfqaN7p12gw",
    "outputId": "ae0d14ad-73de-4cb9-cf78-2c7a6bb3a54a",
    "ExecuteTime": {
     "end_time": "2023-05-20T17:25:36.906235Z",
     "start_time": "2023-05-20T17:25:36.831074900Z"
    }
   },
   "execution_count": 507,
   "outputs": [
    {
     "name": "stdout",
     "output_type": "stream",
     "text": [
      "Model: \"sequential_9\"\n",
      "_________________________________________________________________\n",
      " Layer (type)                Output Shape              Param #   \n",
      "=================================================================\n",
      " flatten_9 (Flatten)         (None, 784)               0         \n",
      "                                                                 \n",
      " dense_36 (Dense)            (None, 100)               78500     \n",
      "                                                                 \n",
      " dense_37 (Dense)            (None, 100)               10100     \n",
      "                                                                 \n",
      " dense_38 (Dense)            (None, 100)               10100     \n",
      "                                                                 \n",
      " dense_39 (Dense)            (None, 10)                1010      \n",
      "                                                                 \n",
      "=================================================================\n",
      "Total params: 99,710\n",
      "Trainable params: 99,710\n",
      "Non-trainable params: 0\n",
      "_________________________________________________________________\n"
     ]
    }
   ]
  },
  {
   "cell_type": "code",
   "source": [
    "import numpy as np\n",
    "\n",
    "X_test = []\n",
    "y_test = []\n",
    "for image, label in ds_test.unbatch().as_numpy_iterator():\n",
    "    X_test.append(image)\n",
    "    y_test.append(label)\n",
    "X_test = np.array(X_test)\n",
    "y_test = np.array(y_test)"
   ],
   "metadata": {
    "id": "0fCy3nav2G44",
    "ExecuteTime": {
     "end_time": "2023-05-20T17:25:39.622184300Z",
     "start_time": "2023-05-20T17:25:36.874740300Z"
    }
   },
   "execution_count": 508,
   "outputs": []
  },
  {
   "cell_type": "code",
   "source": [
    "X_test.shape"
   ],
   "metadata": {
    "colab": {
     "base_uri": "https://localhost:8080/"
    },
    "id": "EVZQ2PPG6848",
    "outputId": "e57038fa-1175-41ac-d2ac-7333530ba7b9",
    "ExecuteTime": {
     "end_time": "2023-05-20T17:25:39.637185200Z",
     "start_time": "2023-05-20T17:25:39.626184800Z"
    }
   },
   "execution_count": 509,
   "outputs": [
    {
     "data": {
      "text/plain": "(9984, 28, 28, 1)"
     },
     "execution_count": 509,
     "metadata": {},
     "output_type": "execute_result"
    }
   ]
  },
  {
   "cell_type": "code",
   "source": [
    "y_test.shape"
   ],
   "metadata": {
    "colab": {
     "base_uri": "https://localhost:8080/"
    },
    "id": "HdZEqCox69U8",
    "outputId": "fc44f971-9941-421f-8f94-5b1b87b333e4",
    "ExecuteTime": {
     "end_time": "2023-05-20T17:25:39.711000800Z",
     "start_time": "2023-05-20T17:25:39.640185400Z"
    }
   },
   "execution_count": 510,
   "outputs": [
    {
     "data": {
      "text/plain": "(9984,)"
     },
     "execution_count": 510,
     "metadata": {},
     "output_type": "execute_result"
    }
   ]
  },
  {
   "cell_type": "code",
   "execution_count": 511,
   "outputs": [
    {
     "name": "stdout",
     "output_type": "stream",
     "text": [
      "312/312 [==============================] - 1s 2ms/step\n"
     ]
    }
   ],
   "source": [
    "y_pred = model.predict(X_test)"
   ],
   "metadata": {
    "collapsed": false,
    "ExecuteTime": {
     "end_time": "2023-05-20T17:25:40.579183400Z",
     "start_time": "2023-05-20T17:25:39.656323300Z"
    }
   }
  },
  {
   "cell_type": "code",
   "execution_count": 512,
   "outputs": [
    {
     "data": {
      "text/plain": "numpy.ndarray"
     },
     "execution_count": 512,
     "metadata": {},
     "output_type": "execute_result"
    }
   ],
   "source": [
    "type(y_pred)"
   ],
   "metadata": {
    "collapsed": false,
    "ExecuteTime": {
     "end_time": "2023-05-20T17:25:40.595188100Z",
     "start_time": "2023-05-20T17:25:40.581187200Z"
    }
   }
  },
  {
   "cell_type": "code",
   "execution_count": 513,
   "outputs": [
    {
     "data": {
      "text/plain": "(9984, 10)"
     },
     "execution_count": 513,
     "metadata": {},
     "output_type": "execute_result"
    }
   ],
   "source": [
    "y_pred.shape"
   ],
   "metadata": {
    "collapsed": false,
    "ExecuteTime": {
     "end_time": "2023-05-20T17:25:40.670007400Z",
     "start_time": "2023-05-20T17:25:40.597187500Z"
    }
   }
  },
  {
   "cell_type": "code",
   "execution_count": 514,
   "outputs": [
    {
     "data": {
      "text/plain": "array([-10.018439 ,   3.1146615,  15.4985695,   4.3998322,  -4.5493445,\n        -2.5280757,  -6.208394 ,   1.602454 ,  -0.0682753,  -7.2109194],\n      dtype=float32)"
     },
     "execution_count": 514,
     "metadata": {},
     "output_type": "execute_result"
    }
   ],
   "source": [
    "y_pred[0]"
   ],
   "metadata": {
    "collapsed": false,
    "ExecuteTime": {
     "end_time": "2023-05-20T17:25:40.685130100Z",
     "start_time": "2023-05-20T17:25:40.613184700Z"
    }
   }
  },
  {
   "cell_type": "code",
   "execution_count": 515,
   "outputs": [],
   "source": [
    "y_pred_classes = np.argmax(y_pred, axis=1)"
   ],
   "metadata": {
    "collapsed": false,
    "ExecuteTime": {
     "end_time": "2023-05-20T17:25:40.686262Z",
     "start_time": "2023-05-20T17:25:40.628377Z"
    }
   }
  },
  {
   "cell_type": "code",
   "execution_count": 516,
   "outputs": [
    {
     "data": {
      "text/plain": "2"
     },
     "execution_count": 516,
     "metadata": {},
     "output_type": "execute_result"
    }
   ],
   "source": [
    "y_pred_classes[0]"
   ],
   "metadata": {
    "collapsed": false,
    "ExecuteTime": {
     "end_time": "2023-05-20T17:25:40.686396300Z",
     "start_time": "2023-05-20T17:25:40.643526400Z"
    }
   }
  },
  {
   "cell_type": "code",
   "execution_count": 517,
   "outputs": [
    {
     "name": "stdout",
     "output_type": "stream",
     "text": [
      "              precision    recall  f1-score   support\n",
      "\n",
      "           0       0.98      0.99      0.98       978\n",
      "           1       0.99      0.99      0.99      1133\n",
      "           2       0.98      0.96      0.97      1030\n",
      "           3       0.94      0.98      0.96      1009\n",
      "           4       0.96      0.99      0.97       980\n",
      "           5       0.98      0.96      0.97       888\n",
      "           6       0.97      0.99      0.98       958\n",
      "           7       0.98      0.98      0.98      1027\n",
      "           8       0.97      0.95      0.96       973\n",
      "           9       0.98      0.96      0.97      1008\n",
      "\n",
      "    accuracy                           0.97      9984\n",
      "   macro avg       0.97      0.97      0.97      9984\n",
      "weighted avg       0.97      0.97      0.97      9984\n",
      "\n"
     ]
    }
   ],
   "source": [
    "from sklearn.metrics import classification_report\n",
    "\n",
    "print(classification_report(y_test, y_pred_classes))"
   ],
   "metadata": {
    "collapsed": false,
    "ExecuteTime": {
     "end_time": "2023-05-20T17:25:40.756529700Z",
     "start_time": "2023-05-20T17:25:40.670007400Z"
    }
   }
  },
  {
   "cell_type": "code",
   "execution_count": 560,
   "outputs": [],
   "source": [
    "import matplotlib.pyplot as plt\n",
    "\n",
    "\n",
    "def plot_bars(model_name, y_pred_):\n",
    "    metric = 'f1-score'\n",
    "\n",
    "    report = classification_report(y_test, y_pred_, output_dict=True)\n",
    "    keys = range(10)\n",
    "    values = [report[str(k)][metric] for k in keys]\n",
    "\n",
    "    plt.figure(figsize=(4, 5))\n",
    "\n",
    "    plt.bar(keys, values)\n",
    "    plt.axhline(np.asarray(values).mean(), c='green', linestyle='dashed')  # average\n",
    "    plt.axhline(1., c='cyan', linestyle='dashed')  # perfect\n",
    "\n",
    "    plt.xticks(keys)\n",
    "    plt.yticks(np.arange(0., 1.05, 0.05))\n",
    "    plt.xlabel('digit')\n",
    "    plt.ylabel(metric)\n",
    "    plt.title('Handwritten Digits Recognition: ' + model_name)\n",
    "\n",
    "    plt.show()"
   ],
   "metadata": {
    "collapsed": false,
    "ExecuteTime": {
     "end_time": "2023-05-20T17:32:21.287009Z",
     "start_time": "2023-05-20T17:32:21.258013Z"
    }
   }
  },
  {
   "cell_type": "code",
   "execution_count": 561,
   "outputs": [
    {
     "data": {
      "text/plain": "<Figure size 400x500 with 1 Axes>",
      "image/png": "[encoded data removed]"
     },
     "metadata": {},
     "output_type": "display_data"
    }
   ],
   "source": [
    "plot_bars('TensorFlow MLP', y_pred_classes)"
   ],
   "metadata": {
    "collapsed": false,
    "ExecuteTime": {
     "end_time": "2023-05-20T17:32:21.954017300Z",
     "start_time": "2023-05-20T17:32:21.385010200Z"
    }
   }
  },
  {
   "cell_type": "code",
   "execution_count": 520,
   "outputs": [],
   "source": [
    "def plot_learning_curve(history_):\n",
    "    plt.figure(figsize=(12, 4))\n",
    "\n",
    "    # Accuracy\n",
    "    plt.subplot(1, 2, 1)\n",
    "    plt.plot(history_.history['sparse_categorical_accuracy'], label='Training Accuracy')\n",
    "    plt.plot(history_.history['val_sparse_categorical_accuracy'], label='Validation Accuracy')\n",
    "    plt.legend()\n",
    "    plt.xticks(range(len(history_.history)))\n",
    "    plt.xlabel('Epoch')\n",
    "    plt.ylabel('Accuracy')\n",
    "    plt.title('Model Accuracy')\n",
    "\n",
    "    # Loss\n",
    "    plt.subplot(1, 2, 2)\n",
    "    plt.plot(history.history['loss'], label='Training Loss')\n",
    "    plt.plot(history.history['val_loss'], label='Validation Loss')\n",
    "    plt.legend()\n",
    "    plt.xticks(range(len(history_.history)))\n",
    "    plt.xlabel('Epoch')\n",
    "    plt.ylabel('Loss')\n",
    "    plt.title('Model Loss')\n",
    "\n",
    "    plt.show()"
   ],
   "metadata": {
    "collapsed": false,
    "ExecuteTime": {
     "end_time": "2023-05-20T17:25:41.109925400Z",
     "start_time": "2023-05-20T17:25:41.057913700Z"
    }
   }
  },
  {
   "cell_type": "code",
   "execution_count": 521,
   "outputs": [
    {
     "data": {
      "text/plain": "<Figure size 1200x400 with 2 Axes>",
      "image/png": "[encoded data removed]"
     },
     "metadata": {},
     "output_type": "display_data"
    }
   ],
   "source": [
    "plot_learning_curve(history)"
   ],
   "metadata": {
    "collapsed": false,
    "ExecuteTime": {
     "end_time": "2023-05-20T17:25:41.509670600Z",
     "start_time": "2023-05-20T17:25:41.079525700Z"
    }
   }
  },
  {
   "cell_type": "code",
   "source": [
    "from PIL import Image"
   ],
   "metadata": {
    "id": "z0xfPSjyi_VA",
    "ExecuteTime": {
     "end_time": "2023-05-20T17:25:41.524666500Z",
     "start_time": "2023-05-20T17:25:41.510670500Z"
    }
   },
   "execution_count": 522,
   "outputs": []
  },
  {
   "cell_type": "code",
   "source": [
    "image = Image.open(f'{dir}/test_1.png').convert('L').resize((28, 28))  # grayscale 28x28\n",
    "image"
   ],
   "metadata": {
    "colab": {
     "base_uri": "https://localhost:8080/",
     "height": 45
    },
    "id": "wlBeSgBaotiR",
    "outputId": "0670824e-1216-4875-998e-4ab18b7c2c04",
    "ExecuteTime": {
     "end_time": "2023-05-20T17:25:41.636044100Z",
     "start_time": "2023-05-20T17:25:41.525701200Z"
    }
   },
   "execution_count": 523,
   "outputs": [
    {
     "data": {
      "text/plain": "<PIL.Image.Image image mode=L size=28x28>",
      "image/png": "[encoded data removed]"
     },
     "execution_count": 523,
     "metadata": {},
     "output_type": "execute_result"
    }
   ]
  },
  {
   "cell_type": "code",
   "source": [
    "import numpy as np"
   ],
   "metadata": {
    "id": "pfpXwuQFqQNz",
    "ExecuteTime": {
     "end_time": "2023-05-20T17:25:41.636044100Z",
     "start_time": "2023-05-20T17:25:41.541711200Z"
    }
   },
   "execution_count": 524,
   "outputs": []
  },
  {
   "cell_type": "code",
   "source": [
    "image_arr = np.array(image) / 256."
   ],
   "metadata": {
    "id": "gFFZhEsgpVyK",
    "ExecuteTime": {
     "end_time": "2023-05-20T17:25:41.636044100Z",
     "start_time": "2023-05-20T17:25:41.559172200Z"
    }
   },
   "execution_count": 525,
   "outputs": []
  },
  {
   "cell_type": "code",
   "source": [
    "type(image_arr)"
   ],
   "metadata": {
    "colab": {
     "base_uri": "https://localhost:8080/"
    },
    "id": "wNUazj27qNgp",
    "outputId": "f8ebb853-8c68-431e-d354-1300fa7f217f",
    "ExecuteTime": {
     "end_time": "2023-05-20T17:25:41.637046800Z",
     "start_time": "2023-05-20T17:25:41.573338700Z"
    }
   },
   "execution_count": 526,
   "outputs": [
    {
     "data": {
      "text/plain": "numpy.ndarray"
     },
     "execution_count": 526,
     "metadata": {},
     "output_type": "execute_result"
    }
   ]
  },
  {
   "cell_type": "code",
   "source": [
    "image_arr.shape"
   ],
   "metadata": {
    "colab": {
     "base_uri": "https://localhost:8080/"
    },
    "id": "7wvTFewbqci0",
    "outputId": "88087aa2-0cbc-4faf-ca8a-fcdb166932ee",
    "ExecuteTime": {
     "end_time": "2023-05-20T17:25:41.637046800Z",
     "start_time": "2023-05-20T17:25:41.588561400Z"
    }
   },
   "execution_count": 527,
   "outputs": [
    {
     "data": {
      "text/plain": "(28, 28)"
     },
     "execution_count": 527,
     "metadata": {},
     "output_type": "execute_result"
    }
   ]
  },
  {
   "cell_type": "code",
   "source": [
    "image_arr"
   ],
   "metadata": {
    "colab": {
     "base_uri": "https://localhost:8080/"
    },
    "id": "sXA48NtdqdFs",
    "outputId": "4a090fe0-53ba-4e6e-e761-a0e66ba49f8b",
    "ExecuteTime": {
     "end_time": "2023-05-20T17:25:41.637046800Z",
     "start_time": "2023-05-20T17:25:41.604560300Z"
    }
   },
   "execution_count": 528,
   "outputs": [
    {
     "data": {
      "text/plain": "array([[0.        , 0.        , 0.        , 0.        , 0.        ,\n        0.        , 0.        , 0.        , 0.        , 0.        ,\n        0.        , 0.        , 0.        , 0.        , 0.        ,\n        0.        , 0.        , 0.        , 0.        , 0.        ,\n        0.        , 0.        , 0.        , 0.        , 0.        ,\n        0.        , 0.        , 0.        ],\n       [0.        , 0.        , 0.        , 0.        , 0.        ,\n        0.        , 0.        , 0.        , 0.        , 0.        ,\n        0.        , 0.        , 0.        , 0.        , 0.        ,\n        0.        , 0.        , 0.        , 0.        , 0.        ,\n        0.        , 0.        , 0.        , 0.        , 0.        ,\n        0.        , 0.        , 0.        ],\n       [0.        , 0.        , 0.        , 0.        , 0.        ,\n        0.        , 0.        , 0.        , 0.        , 0.        ,\n        0.        , 0.        , 0.        , 0.        , 0.        ,\n        0.        , 0.        , 0.        , 0.        , 0.        ,\n        0.        , 0.        , 0.        , 0.        , 0.        ,\n        0.        , 0.        , 0.        ],\n       [0.        , 0.        , 0.        , 0.        , 0.        ,\n        0.        , 0.        , 0.        , 0.        , 0.        ,\n        0.        , 0.        , 0.        , 0.        , 0.        ,\n        0.        , 0.        , 0.        , 0.        , 0.        ,\n        0.        , 0.        , 0.        , 0.        , 0.        ,\n        0.        , 0.        , 0.        ],\n       [0.        , 0.        , 0.        , 0.        , 0.        ,\n        0.        , 0.        , 0.        , 0.        , 0.        ,\n        0.        , 0.        , 0.        , 0.        , 0.        ,\n        0.        , 0.        , 0.        , 0.        , 0.        ,\n        0.        , 0.        , 0.        , 0.        , 0.        ,\n        0.        , 0.        , 0.        ],\n       [0.        , 0.        , 0.        , 0.        , 0.        ,\n        0.        , 0.        , 0.        , 0.        , 0.        ,\n        0.        , 0.        , 0.        , 0.        , 0.        ,\n        0.        , 0.        , 0.        , 0.        , 0.        ,\n        0.        , 0.        , 0.        , 0.        , 0.        ,\n        0.        , 0.        , 0.        ],\n       [0.        , 0.        , 0.        , 0.        , 0.        ,\n        0.        , 0.        , 0.        , 0.        , 0.        ,\n        0.        , 0.        , 0.        , 0.        , 0.        ,\n        0.99609375, 0.        , 0.        , 0.        , 0.        ,\n        0.        , 0.        , 0.        , 0.        , 0.        ,\n        0.        , 0.        , 0.        ],\n       [0.        , 0.        , 0.        , 0.        , 0.        ,\n        0.        , 0.        , 0.        , 0.        , 0.        ,\n        0.        , 0.        , 0.        , 0.        , 0.99609375,\n        0.99609375, 0.99609375, 0.        , 0.        , 0.        ,\n        0.        , 0.        , 0.        , 0.        , 0.        ,\n        0.        , 0.        , 0.        ],\n       [0.        , 0.        , 0.        , 0.        , 0.        ,\n        0.        , 0.        , 0.        , 0.        , 0.        ,\n        0.        , 0.        , 0.        , 0.        , 0.99609375,\n        0.99609375, 0.        , 0.        , 0.        , 0.        ,\n        0.        , 0.        , 0.        , 0.        , 0.        ,\n        0.        , 0.        , 0.        ],\n       [0.        , 0.        , 0.        , 0.        , 0.        ,\n        0.        , 0.        , 0.        , 0.        , 0.        ,\n        0.        , 0.        , 0.        , 0.        , 0.99609375,\n        0.99609375, 0.        , 0.        , 0.        , 0.        ,\n        0.        , 0.        , 0.        , 0.        , 0.        ,\n        0.        , 0.        , 0.        ],\n       [0.        , 0.        , 0.        , 0.        , 0.        ,\n        0.        , 0.        , 0.        , 0.        , 0.        ,\n        0.        , 0.        , 0.        , 0.        , 0.99609375,\n        0.99609375, 0.        , 0.        , 0.        , 0.        ,\n        0.        , 0.        , 0.        , 0.        , 0.        ,\n        0.        , 0.        , 0.        ],\n       [0.        , 0.        , 0.        , 0.        , 0.        ,\n        0.        , 0.        , 0.        , 0.        , 0.        ,\n        0.        , 0.        , 0.        , 0.        , 0.99609375,\n        0.99609375, 0.        , 0.        , 0.        , 0.        ,\n        0.        , 0.        , 0.        , 0.        , 0.        ,\n        0.        , 0.        , 0.        ],\n       [0.        , 0.        , 0.        , 0.        , 0.        ,\n        0.        , 0.        , 0.        , 0.        , 0.        ,\n        0.        , 0.        , 0.        , 0.        , 0.99609375,\n        0.99609375, 0.        , 0.        , 0.        , 0.        ,\n        0.        , 0.        , 0.        , 0.        , 0.        ,\n        0.        , 0.        , 0.        ],\n       [0.        , 0.        , 0.        , 0.        , 0.        ,\n        0.        , 0.        , 0.        , 0.        , 0.        ,\n        0.        , 0.        , 0.        , 0.        , 0.99609375,\n        0.99609375, 0.        , 0.        , 0.        , 0.        ,\n        0.        , 0.        , 0.        , 0.        , 0.        ,\n        0.        , 0.        , 0.        ],\n       [0.        , 0.        , 0.        , 0.        , 0.        ,\n        0.        , 0.        , 0.        , 0.        , 0.        ,\n        0.        , 0.        , 0.        , 0.        , 0.99609375,\n        0.99609375, 0.        , 0.        , 0.        , 0.        ,\n        0.        , 0.        , 0.        , 0.        , 0.        ,\n        0.        , 0.        , 0.        ],\n       [0.        , 0.        , 0.        , 0.        , 0.        ,\n        0.        , 0.        , 0.        , 0.        , 0.        ,\n        0.        , 0.        , 0.        , 0.        , 0.99609375,\n        0.99609375, 0.        , 0.        , 0.        , 0.        ,\n        0.        , 0.        , 0.        , 0.        , 0.        ,\n        0.        , 0.        , 0.        ],\n       [0.        , 0.        , 0.        , 0.        , 0.        ,\n        0.        , 0.        , 0.        , 0.        , 0.        ,\n        0.        , 0.        , 0.        , 0.        , 0.99609375,\n        0.99609375, 0.        , 0.        , 0.        , 0.        ,\n        0.        , 0.        , 0.        , 0.        , 0.        ,\n        0.        , 0.        , 0.        ],\n       [0.        , 0.        , 0.        , 0.        , 0.        ,\n        0.        , 0.        , 0.        , 0.        , 0.        ,\n        0.        , 0.        , 0.        , 0.99609375, 0.99609375,\n        0.99609375, 0.        , 0.        , 0.        , 0.        ,\n        0.        , 0.        , 0.        , 0.        , 0.        ,\n        0.        , 0.        , 0.        ],\n       [0.        , 0.        , 0.        , 0.        , 0.        ,\n        0.        , 0.        , 0.        , 0.        , 0.        ,\n        0.        , 0.        , 0.        , 0.99609375, 0.99609375,\n        0.        , 0.        , 0.        , 0.        , 0.        ,\n        0.        , 0.        , 0.        , 0.        , 0.        ,\n        0.        , 0.        , 0.        ],\n       [0.        , 0.        , 0.        , 0.        , 0.        ,\n        0.        , 0.        , 0.        , 0.        , 0.        ,\n        0.        , 0.        , 0.        , 0.99609375, 0.99609375,\n        0.        , 0.        , 0.        , 0.        , 0.        ,\n        0.        , 0.        , 0.        , 0.        , 0.        ,\n        0.        , 0.        , 0.        ],\n       [0.        , 0.        , 0.        , 0.        , 0.        ,\n        0.        , 0.        , 0.        , 0.        , 0.        ,\n        0.        , 0.        , 0.        , 0.99609375, 0.99609375,\n        0.        , 0.        , 0.        , 0.        , 0.        ,\n        0.        , 0.        , 0.        , 0.        , 0.        ,\n        0.        , 0.        , 0.        ],\n       [0.        , 0.        , 0.        , 0.        , 0.        ,\n        0.        , 0.        , 0.        , 0.        , 0.        ,\n        0.        , 0.        , 0.        , 0.99609375, 0.99609375,\n        0.        , 0.        , 0.        , 0.        , 0.        ,\n        0.        , 0.        , 0.        , 0.        , 0.        ,\n        0.        , 0.        , 0.        ],\n       [0.        , 0.        , 0.        , 0.        , 0.        ,\n        0.        , 0.        , 0.        , 0.        , 0.        ,\n        0.        , 0.        , 0.        , 0.99609375, 0.99609375,\n        0.        , 0.        , 0.        , 0.        , 0.        ,\n        0.        , 0.        , 0.        , 0.        , 0.        ,\n        0.        , 0.        , 0.        ],\n       [0.        , 0.        , 0.        , 0.        , 0.        ,\n        0.        , 0.        , 0.        , 0.        , 0.        ,\n        0.        , 0.        , 0.        , 0.99609375, 0.99609375,\n        0.        , 0.        , 0.        , 0.        , 0.        ,\n        0.        , 0.        , 0.        , 0.        , 0.        ,\n        0.        , 0.        , 0.        ],\n       [0.        , 0.        , 0.        , 0.        , 0.        ,\n        0.        , 0.        , 0.        , 0.        , 0.        ,\n        0.        , 0.        , 0.        , 0.        , 0.        ,\n        0.        , 0.        , 0.        , 0.        , 0.        ,\n        0.        , 0.        , 0.        , 0.        , 0.        ,\n        0.        , 0.        , 0.        ],\n       [0.        , 0.        , 0.        , 0.        , 0.        ,\n        0.        , 0.        , 0.        , 0.        , 0.        ,\n        0.        , 0.        , 0.        , 0.        , 0.        ,\n        0.        , 0.        , 0.        , 0.        , 0.        ,\n        0.        , 0.        , 0.        , 0.        , 0.        ,\n        0.        , 0.        , 0.        ],\n       [0.        , 0.        , 0.        , 0.        , 0.        ,\n        0.        , 0.        , 0.        , 0.        , 0.        ,\n        0.        , 0.        , 0.        , 0.        , 0.        ,\n        0.        , 0.        , 0.        , 0.        , 0.        ,\n        0.        , 0.        , 0.        , 0.        , 0.        ,\n        0.        , 0.        , 0.        ],\n       [0.        , 0.        , 0.        , 0.        , 0.        ,\n        0.        , 0.        , 0.        , 0.        , 0.        ,\n        0.        , 0.        , 0.        , 0.        , 0.        ,\n        0.        , 0.        , 0.        , 0.        , 0.        ,\n        0.        , 0.        , 0.        , 0.        , 0.        ,\n        0.        , 0.        , 0.        ]])"
     },
     "execution_count": 528,
     "metadata": {},
     "output_type": "execute_result"
    }
   ]
  },
  {
   "cell_type": "code",
   "source": [
    "image_arr = np.expand_dims(image_arr, axis=0)"
   ],
   "metadata": {
    "id": "ni5kAQdVqdc-",
    "ExecuteTime": {
     "end_time": "2023-05-20T17:25:41.638049300Z",
     "start_time": "2023-05-20T17:25:41.620560600Z"
    }
   },
   "execution_count": 529,
   "outputs": []
  },
  {
   "cell_type": "code",
   "source": [
    "type(image_arr)"
   ],
   "metadata": {
    "colab": {
     "base_uri": "https://localhost:8080/"
    },
    "id": "Bxz_Mq1Sq5fN",
    "outputId": "c0013e01-7604-499a-941f-24ebda68b820",
    "ExecuteTime": {
     "end_time": "2023-05-20T17:25:41.653189400Z",
     "start_time": "2023-05-20T17:25:41.635699800Z"
    }
   },
   "execution_count": 530,
   "outputs": [
    {
     "data": {
      "text/plain": "numpy.ndarray"
     },
     "execution_count": 530,
     "metadata": {},
     "output_type": "execute_result"
    }
   ]
  },
  {
   "cell_type": "code",
   "source": [
    "image_arr.shape"
   ],
   "metadata": {
    "colab": {
     "base_uri": "https://localhost:8080/"
    },
    "id": "AQBJn_0qq7qB",
    "outputId": "ebf5b214-2130-4f71-e409-632d49135f91",
    "ExecuteTime": {
     "end_time": "2023-05-20T17:25:41.768155700Z",
     "start_time": "2023-05-20T17:25:41.652201300Z"
    }
   },
   "execution_count": 531,
   "outputs": [
    {
     "data": {
      "text/plain": "(1, 28, 28)"
     },
     "execution_count": 531,
     "metadata": {},
     "output_type": "execute_result"
    }
   ]
  },
  {
   "cell_type": "code",
   "source": [
    "image_arr"
   ],
   "metadata": {
    "colab": {
     "base_uri": "https://localhost:8080/"
    },
    "id": "fqa6lKvTq8eD",
    "outputId": "761878b0-53a2-47f7-e5bb-1c23674f7d47",
    "ExecuteTime": {
     "end_time": "2023-05-20T17:25:41.788496400Z",
     "start_time": "2023-05-20T17:25:41.665364300Z"
    }
   },
   "execution_count": 532,
   "outputs": [
    {
     "data": {
      "text/plain": "array([[[0.        , 0.        , 0.        , 0.        , 0.        ,\n         0.        , 0.        , 0.        , 0.        , 0.        ,\n         0.        , 0.        , 0.        , 0.        , 0.        ,\n         0.        , 0.        , 0.        , 0.        , 0.        ,\n         0.        , 0.        , 0.        , 0.        , 0.        ,\n         0.        , 0.        , 0.        ],\n        [0.        , 0.        , 0.        , 0.        , 0.        ,\n         0.        , 0.        , 0.        , 0.        , 0.        ,\n         0.        , 0.        , 0.        , 0.        , 0.        ,\n         0.        , 0.        , 0.        , 0.        , 0.        ,\n         0.        , 0.        , 0.        , 0.        , 0.        ,\n         0.        , 0.        , 0.        ],\n        [0.        , 0.        , 0.        , 0.        , 0.        ,\n         0.        , 0.        , 0.        , 0.        , 0.        ,\n         0.        , 0.        , 0.        , 0.        , 0.        ,\n         0.        , 0.        , 0.        , 0.        , 0.        ,\n         0.        , 0.        , 0.        , 0.        , 0.        ,\n         0.        , 0.        , 0.        ],\n        [0.        , 0.        , 0.        , 0.        , 0.        ,\n         0.        , 0.        , 0.        , 0.        , 0.        ,\n         0.        , 0.        , 0.        , 0.        , 0.        ,\n         0.        , 0.        , 0.        , 0.        , 0.        ,\n         0.        , 0.        , 0.        , 0.        , 0.        ,\n         0.        , 0.        , 0.        ],\n        [0.        , 0.        , 0.        , 0.        , 0.        ,\n         0.        , 0.        , 0.        , 0.        , 0.        ,\n         0.        , 0.        , 0.        , 0.        , 0.        ,\n         0.        , 0.        , 0.        , 0.        , 0.        ,\n         0.        , 0.        , 0.        , 0.        , 0.        ,\n         0.        , 0.        , 0.        ],\n        [0.        , 0.        , 0.        , 0.        , 0.        ,\n         0.        , 0.        , 0.        , 0.        , 0.        ,\n         0.        , 0.        , 0.        , 0.        , 0.        ,\n         0.        , 0.        , 0.        , 0.        , 0.        ,\n         0.        , 0.        , 0.        , 0.        , 0.        ,\n         0.        , 0.        , 0.        ],\n        [0.        , 0.        , 0.        , 0.        , 0.        ,\n         0.        , 0.        , 0.        , 0.        , 0.        ,\n         0.        , 0.        , 0.        , 0.        , 0.        ,\n         0.99609375, 0.        , 0.        , 0.        , 0.        ,\n         0.        , 0.        , 0.        , 0.        , 0.        ,\n         0.        , 0.        , 0.        ],\n        [0.        , 0.        , 0.        , 0.        , 0.        ,\n         0.        , 0.        , 0.        , 0.        , 0.        ,\n         0.        , 0.        , 0.        , 0.        , 0.99609375,\n         0.99609375, 0.99609375, 0.        , 0.        , 0.        ,\n         0.        , 0.        , 0.        , 0.        , 0.        ,\n         0.        , 0.        , 0.        ],\n        [0.        , 0.        , 0.        , 0.        , 0.        ,\n         0.        , 0.        , 0.        , 0.        , 0.        ,\n         0.        , 0.        , 0.        , 0.        , 0.99609375,\n         0.99609375, 0.        , 0.        , 0.        , 0.        ,\n         0.        , 0.        , 0.        , 0.        , 0.        ,\n         0.        , 0.        , 0.        ],\n        [0.        , 0.        , 0.        , 0.        , 0.        ,\n         0.        , 0.        , 0.        , 0.        , 0.        ,\n         0.        , 0.        , 0.        , 0.        , 0.99609375,\n         0.99609375, 0.        , 0.        , 0.        , 0.        ,\n         0.        , 0.        , 0.        , 0.        , 0.        ,\n         0.        , 0.        , 0.        ],\n        [0.        , 0.        , 0.        , 0.        , 0.        ,\n         0.        , 0.        , 0.        , 0.        , 0.        ,\n         0.        , 0.        , 0.        , 0.        , 0.99609375,\n         0.99609375, 0.        , 0.        , 0.        , 0.        ,\n         0.        , 0.        , 0.        , 0.        , 0.        ,\n         0.        , 0.        , 0.        ],\n        [0.        , 0.        , 0.        , 0.        , 0.        ,\n         0.        , 0.        , 0.        , 0.        , 0.        ,\n         0.        , 0.        , 0.        , 0.        , 0.99609375,\n         0.99609375, 0.        , 0.        , 0.        , 0.        ,\n         0.        , 0.        , 0.        , 0.        , 0.        ,\n         0.        , 0.        , 0.        ],\n        [0.        , 0.        , 0.        , 0.        , 0.        ,\n         0.        , 0.        , 0.        , 0.        , 0.        ,\n         0.        , 0.        , 0.        , 0.        , 0.99609375,\n         0.99609375, 0.        , 0.        , 0.        , 0.        ,\n         0.        , 0.        , 0.        , 0.        , 0.        ,\n         0.        , 0.        , 0.        ],\n        [0.        , 0.        , 0.        , 0.        , 0.        ,\n         0.        , 0.        , 0.        , 0.        , 0.        ,\n         0.        , 0.        , 0.        , 0.        , 0.99609375,\n         0.99609375, 0.        , 0.        , 0.        , 0.        ,\n         0.        , 0.        , 0.        , 0.        , 0.        ,\n         0.        , 0.        , 0.        ],\n        [0.        , 0.        , 0.        , 0.        , 0.        ,\n         0.        , 0.        , 0.        , 0.        , 0.        ,\n         0.        , 0.        , 0.        , 0.        , 0.99609375,\n         0.99609375, 0.        , 0.        , 0.        , 0.        ,\n         0.        , 0.        , 0.        , 0.        , 0.        ,\n         0.        , 0.        , 0.        ],\n        [0.        , 0.        , 0.        , 0.        , 0.        ,\n         0.        , 0.        , 0.        , 0.        , 0.        ,\n         0.        , 0.        , 0.        , 0.        , 0.99609375,\n         0.99609375, 0.        , 0.        , 0.        , 0.        ,\n         0.        , 0.        , 0.        , 0.        , 0.        ,\n         0.        , 0.        , 0.        ],\n        [0.        , 0.        , 0.        , 0.        , 0.        ,\n         0.        , 0.        , 0.        , 0.        , 0.        ,\n         0.        , 0.        , 0.        , 0.        , 0.99609375,\n         0.99609375, 0.        , 0.        , 0.        , 0.        ,\n         0.        , 0.        , 0.        , 0.        , 0.        ,\n         0.        , 0.        , 0.        ],\n        [0.        , 0.        , 0.        , 0.        , 0.        ,\n         0.        , 0.        , 0.        , 0.        , 0.        ,\n         0.        , 0.        , 0.        , 0.99609375, 0.99609375,\n         0.99609375, 0.        , 0.        , 0.        , 0.        ,\n         0.        , 0.        , 0.        , 0.        , 0.        ,\n         0.        , 0.        , 0.        ],\n        [0.        , 0.        , 0.        , 0.        , 0.        ,\n         0.        , 0.        , 0.        , 0.        , 0.        ,\n         0.        , 0.        , 0.        , 0.99609375, 0.99609375,\n         0.        , 0.        , 0.        , 0.        , 0.        ,\n         0.        , 0.        , 0.        , 0.        , 0.        ,\n         0.        , 0.        , 0.        ],\n        [0.        , 0.        , 0.        , 0.        , 0.        ,\n         0.        , 0.        , 0.        , 0.        , 0.        ,\n         0.        , 0.        , 0.        , 0.99609375, 0.99609375,\n         0.        , 0.        , 0.        , 0.        , 0.        ,\n         0.        , 0.        , 0.        , 0.        , 0.        ,\n         0.        , 0.        , 0.        ],\n        [0.        , 0.        , 0.        , 0.        , 0.        ,\n         0.        , 0.        , 0.        , 0.        , 0.        ,\n         0.        , 0.        , 0.        , 0.99609375, 0.99609375,\n         0.        , 0.        , 0.        , 0.        , 0.        ,\n         0.        , 0.        , 0.        , 0.        , 0.        ,\n         0.        , 0.        , 0.        ],\n        [0.        , 0.        , 0.        , 0.        , 0.        ,\n         0.        , 0.        , 0.        , 0.        , 0.        ,\n         0.        , 0.        , 0.        , 0.99609375, 0.99609375,\n         0.        , 0.        , 0.        , 0.        , 0.        ,\n         0.        , 0.        , 0.        , 0.        , 0.        ,\n         0.        , 0.        , 0.        ],\n        [0.        , 0.        , 0.        , 0.        , 0.        ,\n         0.        , 0.        , 0.        , 0.        , 0.        ,\n         0.        , 0.        , 0.        , 0.99609375, 0.99609375,\n         0.        , 0.        , 0.        , 0.        , 0.        ,\n         0.        , 0.        , 0.        , 0.        , 0.        ,\n         0.        , 0.        , 0.        ],\n        [0.        , 0.        , 0.        , 0.        , 0.        ,\n         0.        , 0.        , 0.        , 0.        , 0.        ,\n         0.        , 0.        , 0.        , 0.99609375, 0.99609375,\n         0.        , 0.        , 0.        , 0.        , 0.        ,\n         0.        , 0.        , 0.        , 0.        , 0.        ,\n         0.        , 0.        , 0.        ],\n        [0.        , 0.        , 0.        , 0.        , 0.        ,\n         0.        , 0.        , 0.        , 0.        , 0.        ,\n         0.        , 0.        , 0.        , 0.        , 0.        ,\n         0.        , 0.        , 0.        , 0.        , 0.        ,\n         0.        , 0.        , 0.        , 0.        , 0.        ,\n         0.        , 0.        , 0.        ],\n        [0.        , 0.        , 0.        , 0.        , 0.        ,\n         0.        , 0.        , 0.        , 0.        , 0.        ,\n         0.        , 0.        , 0.        , 0.        , 0.        ,\n         0.        , 0.        , 0.        , 0.        , 0.        ,\n         0.        , 0.        , 0.        , 0.        , 0.        ,\n         0.        , 0.        , 0.        ],\n        [0.        , 0.        , 0.        , 0.        , 0.        ,\n         0.        , 0.        , 0.        , 0.        , 0.        ,\n         0.        , 0.        , 0.        , 0.        , 0.        ,\n         0.        , 0.        , 0.        , 0.        , 0.        ,\n         0.        , 0.        , 0.        , 0.        , 0.        ,\n         0.        , 0.        , 0.        ],\n        [0.        , 0.        , 0.        , 0.        , 0.        ,\n         0.        , 0.        , 0.        , 0.        , 0.        ,\n         0.        , 0.        , 0.        , 0.        , 0.        ,\n         0.        , 0.        , 0.        , 0.        , 0.        ,\n         0.        , 0.        , 0.        , 0.        , 0.        ,\n         0.        , 0.        , 0.        ]]])"
     },
     "execution_count": 532,
     "metadata": {},
     "output_type": "execute_result"
    }
   ]
  },
  {
   "cell_type": "code",
   "source": [
    "predictions = model.predict(image_arr)"
   ],
   "metadata": {
    "colab": {
     "base_uri": "https://localhost:8080/"
    },
    "id": "EyariJvKq9I5",
    "outputId": "96ec7404-f171-44ef-84d4-24f1fecf3d8a",
    "ExecuteTime": {
     "end_time": "2023-05-20T17:25:41.904493500Z",
     "start_time": "2023-05-20T17:25:41.681966700Z"
    }
   },
   "execution_count": 533,
   "outputs": [
    {
     "name": "stdout",
     "output_type": "stream",
     "text": [
      "1/1 [==============================] - 0s 143ms/step\n"
     ]
    }
   ]
  },
  {
   "cell_type": "code",
   "source": [
    "type(predictions)"
   ],
   "metadata": {
    "colab": {
     "base_uri": "https://localhost:8080/"
    },
    "id": "heaXmmnVrECX",
    "outputId": "4d94371d-f02f-4082-f071-9d7ce29392e8",
    "ExecuteTime": {
     "end_time": "2023-05-20T17:25:41.977370300Z",
     "start_time": "2023-05-20T17:25:41.907494600Z"
    }
   },
   "execution_count": 534,
   "outputs": [
    {
     "data": {
      "text/plain": "numpy.ndarray"
     },
     "execution_count": 534,
     "metadata": {},
     "output_type": "execute_result"
    }
   ]
  },
  {
   "cell_type": "code",
   "source": [
    "predictions.shape"
   ],
   "metadata": {
    "colab": {
     "base_uri": "https://localhost:8080/"
    },
    "id": "y20yT8_srFab",
    "outputId": "adca1e01-f9c3-4c64-e507-7abc0db69d9e",
    "ExecuteTime": {
     "end_time": "2023-05-20T17:25:41.994507900Z",
     "start_time": "2023-05-20T17:25:41.919821100Z"
    }
   },
   "execution_count": 535,
   "outputs": [
    {
     "data": {
      "text/plain": "(1, 10)"
     },
     "execution_count": 535,
     "metadata": {},
     "output_type": "execute_result"
    }
   ]
  },
  {
   "cell_type": "code",
   "source": [
    "predictions"
   ],
   "metadata": {
    "colab": {
     "base_uri": "https://localhost:8080/"
    },
    "id": "L7lBxuENrGhF",
    "outputId": "79858c1d-78d7-45fc-fea5-86c9f25b41e8",
    "ExecuteTime": {
     "end_time": "2023-05-20T17:25:41.995510Z",
     "start_time": "2023-05-20T17:25:41.935972300Z"
    }
   },
   "execution_count": 536,
   "outputs": [
    {
     "data": {
      "text/plain": "array([[-7.958382 , 11.047284 , -3.2564607, -2.6083012,  2.1373389,\n        -2.5359   , -3.6563704,  3.251723 , -1.7818193,  1.920436 ]],\n      dtype=float32)"
     },
     "execution_count": 536,
     "metadata": {},
     "output_type": "execute_result"
    }
   ]
  },
  {
   "cell_type": "code",
   "source": [
    "probabilities = tf.nn.softmax(predictions)"
   ],
   "metadata": {
    "id": "M_U1gA_-rI6t",
    "ExecuteTime": {
     "end_time": "2023-05-20T17:25:41.995510Z",
     "start_time": "2023-05-20T17:25:41.950549100Z"
    }
   },
   "execution_count": 537,
   "outputs": []
  },
  {
   "cell_type": "code",
   "source": [
    "type(probabilities)"
   ],
   "metadata": {
    "colab": {
     "base_uri": "https://localhost:8080/"
    },
    "id": "vvuzn7tires2",
    "outputId": "ab37d341-1a95-4da3-9a8c-c480945b068c",
    "ExecuteTime": {
     "end_time": "2023-05-20T17:25:41.995510Z",
     "start_time": "2023-05-20T17:25:41.966225900Z"
    }
   },
   "execution_count": 538,
   "outputs": [
    {
     "data": {
      "text/plain": "tensorflow.python.framework.ops.EagerTensor"
     },
     "execution_count": 538,
     "metadata": {},
     "output_type": "execute_result"
    }
   ]
  },
  {
   "cell_type": "code",
   "source": [
    "probabilities"
   ],
   "metadata": {
    "colab": {
     "base_uri": "https://localhost:8080/"
    },
    "id": "S8EQ1NhtrmR_",
    "outputId": "685eb4bf-c92a-4a96-ade9-4ae845a03873",
    "ExecuteTime": {
     "end_time": "2023-05-20T17:25:41.996511400Z",
     "start_time": "2023-05-20T17:25:41.982382700Z"
    }
   },
   "execution_count": 539,
   "outputs": [
    {
     "data": {
      "text/plain": "<tf.Tensor: shape=(1, 10), dtype=float32, numpy=\narray([[5.5674541e-09, 9.9933904e-01, 6.1330320e-07, 1.1726477e-06,\n        1.3494994e-04, 1.2606976e-06, 4.1114680e-07, 4.1128587e-04,\n        2.6798100e-06, 1.0863582e-04]], dtype=float32)>"
     },
     "execution_count": 539,
     "metadata": {},
     "output_type": "execute_result"
    }
   ]
  },
  {
   "cell_type": "code",
   "source": [
    "probabilities = probabilities.numpy()"
   ],
   "metadata": {
    "id": "2Ks-E-5xrnEd",
    "ExecuteTime": {
     "end_time": "2023-05-20T17:25:42.015629100Z",
     "start_time": "2023-05-20T17:25:41.998727Z"
    }
   },
   "execution_count": 540,
   "outputs": []
  },
  {
   "cell_type": "code",
   "source": [
    "type(probabilities)"
   ],
   "metadata": {
    "colab": {
     "base_uri": "https://localhost:8080/"
    },
    "id": "IMhpYt1Crp8i",
    "outputId": "8941f459-a98f-4812-825f-2a86e7ee3e5d",
    "ExecuteTime": {
     "end_time": "2023-05-20T17:25:42.108087800Z",
     "start_time": "2023-05-20T17:25:42.013628700Z"
    }
   },
   "execution_count": 541,
   "outputs": [
    {
     "data": {
      "text/plain": "numpy.ndarray"
     },
     "execution_count": 541,
     "metadata": {},
     "output_type": "execute_result"
    }
   ]
  },
  {
   "cell_type": "code",
   "source": [
    "probabilities.shape"
   ],
   "metadata": {
    "colab": {
     "base_uri": "https://localhost:8080/"
    },
    "id": "QvNk8gNtrq7H",
    "outputId": "850e17a4-e0d9-4128-9476-b7db9006fe94",
    "ExecuteTime": {
     "end_time": "2023-05-20T17:25:42.108087800Z",
     "start_time": "2023-05-20T17:25:42.030329800Z"
    }
   },
   "execution_count": 542,
   "outputs": [
    {
     "data": {
      "text/plain": "(1, 10)"
     },
     "execution_count": 542,
     "metadata": {},
     "output_type": "execute_result"
    }
   ]
  },
  {
   "cell_type": "code",
   "source": [
    "probabilities"
   ],
   "metadata": {
    "colab": {
     "base_uri": "https://localhost:8080/"
    },
    "id": "a92U3OhNrr7g",
    "outputId": "c9768e8b-d4ea-403b-ee75-e4e13fe0ab95",
    "ExecuteTime": {
     "end_time": "2023-05-20T17:25:42.109090800Z",
     "start_time": "2023-05-20T17:25:42.045437100Z"
    }
   },
   "execution_count": 543,
   "outputs": [
    {
     "data": {
      "text/plain": "array([[5.5674541e-09, 9.9933904e-01, 6.1330320e-07, 1.1726477e-06,\n        1.3494994e-04, 1.2606976e-06, 4.1114680e-07, 4.1128587e-04,\n        2.6798100e-06, 1.0863582e-04]], dtype=float32)"
     },
     "execution_count": 543,
     "metadata": {},
     "output_type": "execute_result"
    }
   ]
  },
  {
   "cell_type": "code",
   "source": [
    "y_pred = np.argmax(probabilities)"
   ],
   "metadata": {
    "id": "R1AphVU5rsk4",
    "ExecuteTime": {
     "end_time": "2023-05-20T17:25:42.109090800Z",
     "start_time": "2023-05-20T17:25:42.061959500Z"
    }
   },
   "execution_count": 544,
   "outputs": []
  },
  {
   "cell_type": "code",
   "source": [
    "type(y_pred)"
   ],
   "metadata": {
    "colab": {
     "base_uri": "https://localhost:8080/"
    },
    "id": "gw8MrACArzIk",
    "outputId": "1b9f7a16-844a-4aec-d15f-56993c1e2f91",
    "ExecuteTime": {
     "end_time": "2023-05-20T17:25:42.109090800Z",
     "start_time": "2023-05-20T17:25:42.085345100Z"
    }
   },
   "execution_count": 545,
   "outputs": [
    {
     "data": {
      "text/plain": "numpy.int64"
     },
     "execution_count": 545,
     "metadata": {},
     "output_type": "execute_result"
    }
   ]
  },
  {
   "cell_type": "code",
   "source": [
    "y_pred"
   ],
   "metadata": {
    "colab": {
     "base_uri": "https://localhost:8080/"
    },
    "id": "Q9rVWo67r1Ez",
    "outputId": "27ef4886-074e-400f-c4af-80dc1927b622",
    "ExecuteTime": {
     "end_time": "2023-05-20T17:25:42.110087600Z",
     "start_time": "2023-05-20T17:25:42.091489300Z"
    }
   },
   "execution_count": 546,
   "outputs": [
    {
     "data": {
      "text/plain": "1"
     },
     "execution_count": 546,
     "metadata": {},
     "output_type": "execute_result"
    }
   ]
  },
  {
   "cell_type": "code",
   "execution_count": 547,
   "outputs": [],
   "source": [
    "def simple_classify_one_mlp(test_pic_file):\n",
    "    image = Image.open(f'{dir}/{test_pic_file}').convert('L').resize((28, 28))  # grayscale 28x28\n",
    "\n",
    "    # For MLP, image_arr.len = 2 : (batch_size, features). Here: (1, features).\n",
    "    image_arr = np.array(image) / 256.\n",
    "    image_arr = np.expand_dims(image_arr, axis=0)\n",
    "\n",
    "    predictions = model.predict(image_arr)\n",
    "    probabilities = tf.nn.softmax(predictions)\n",
    "    y_pred = np.argmax(probabilities)\n",
    "    y_pred_confidence = float(probabilities[0][y_pred])\n",
    "    print(f'[MLP] Classification: {y_pred}. Confidence: {round(y_pred_confidence * 100., 2)}%')"
   ],
   "metadata": {
    "collapsed": false,
    "ExecuteTime": {
     "end_time": "2023-05-20T17:25:42.199348400Z",
     "start_time": "2023-05-20T17:25:42.106724100Z"
    }
   }
  },
  {
   "cell_type": "code",
   "source": [
    "simple_classify_one_mlp('test_1.png')"
   ],
   "metadata": {
    "colab": {
     "base_uri": "https://localhost:8080/"
    },
    "id": "HhUMWwDDr2yP",
    "outputId": "9266834f-cefb-44e7-b73a-c8dbbc0fd726",
    "ExecuteTime": {
     "end_time": "2023-05-20T17:25:42.277649600Z",
     "start_time": "2023-05-20T17:25:42.128392500Z"
    }
   },
   "execution_count": 548,
   "outputs": [
    {
     "name": "stdout",
     "output_type": "stream",
     "text": [
      "1/1 [==============================] - 0s 28ms/step\n",
      "Classification: 1. Confidence: 99.93%\n"
     ]
    }
   ]
  },
  {
   "cell_type": "code",
   "source": [
    "simple_classify_one_mlp('test_3.png')"
   ],
   "metadata": {
    "id": "DTvmWcZet6qc",
    "ExecuteTime": {
     "end_time": "2023-05-20T17:25:42.342340Z",
     "start_time": "2023-05-20T17:25:42.235895400Z"
    }
   },
   "execution_count": 549,
   "outputs": [
    {
     "name": "stdout",
     "output_type": "stream",
     "text": [
      "1/1 [==============================] - 0s 26ms/step\n",
      "Classification: 3. Confidence: 100.0%\n"
     ]
    }
   ]
  },
  {
   "cell_type": "code",
   "execution_count": 550,
   "outputs": [
    {
     "name": "stdout",
     "output_type": "stream",
     "text": [
      "1/1 [==============================] - 0s 25ms/step\n",
      "Classification: 8. Confidence: 93.73%\n"
     ]
    }
   ],
   "source": [
    "simple_classify_one_mlp('test_8.png')"
   ],
   "metadata": {
    "collapsed": false,
    "ExecuteTime": {
     "end_time": "2023-05-20T17:25:42.465248600Z",
     "start_time": "2023-05-20T17:25:42.344342400Z"
    }
   }
  },
  {
   "cell_type": "code",
   "execution_count": 551,
   "outputs": [
    {
     "name": "stdout",
     "output_type": "stream",
     "text": [
      "1/1 [==============================] - 0s 25ms/step\n",
      "Classification: 3. Confidence: 98.11%\n"
     ]
    }
   ],
   "source": [
    "simple_classify_one_mlp('test_9.png')"
   ],
   "metadata": {
    "collapsed": false,
    "ExecuteTime": {
     "end_time": "2023-05-20T17:25:42.555756200Z",
     "start_time": "2023-05-20T17:25:42.451247400Z"
    }
   }
  },
  {
   "cell_type": "markdown",
   "source": [
    "# 2. CNN"
   ],
   "metadata": {
    "id": "cDaNZsSlycO8"
   }
  },
  {
   "cell_type": "code",
   "source": [
    "model = tf.keras.models.Sequential([\n",
    "    # Input layer = Convolution layer #1. Captures some simple low-level patterns.\n",
    "    tf.keras.layers.Conv2D(32, kernel_size=(5, 5), activation='relu', input_shape=(28, 28, 1)),\n",
    "    # Pooling layer #1. Reduces spatial dimensionality of feature maps from the previous layer,\n",
    "    #                   while still retaining the most important information.\n",
    "    tf.keras.layers.MaxPooling2D(pool_size=(2, 2)),\n",
    "    # Convolution layer #2. Captures more, higher level patterns.\n",
    "    tf.keras.layers.Conv2D(64, kernel_size=(5, 5), activation='relu'),\n",
    "    # Pooling layer #2.\n",
    "    tf.keras.layers.MaxPooling2D(pool_size=(2, 2)),\n",
    "    # Flatten layer. Converts the 3D outputs of the previous layer to a 1D vector\n",
    "    #                to prepare it for the fully connected layer that goes afterwards.\n",
    "    tf.keras.layers.Flatten(),\n",
    "    # Output layer (10 neurons: one for each possible digit (target label) in the dataset: 0, 1, ..., 9).\n",
    "    tf.keras.layers.Dense(10, activation='softmax')\n",
    "])\n",
    "\n",
    "model.compile(\n",
    "    optimizer=tf.keras.optimizers.Adam(0.001),\n",
    "    loss=tf.keras.losses.SparseCategoricalCrossentropy(from_logits=True),\n",
    "    metrics=[tf.keras.metrics.SparseCategoricalAccuracy()],\n",
    ")\n",
    "\n",
    "history = model.fit(\n",
    "    ds_train,\n",
    "    epochs=5,\n",
    "    validation_data=ds_test,\n",
    ")"
   ],
   "metadata": {
    "id": "fUO52utYydl3",
    "ExecuteTime": {
     "end_time": "2023-05-20T17:40:49.399489800Z",
     "start_time": "2023-05-20T17:37:57.548781Z"
    }
   },
   "execution_count": 562,
   "outputs": [
    {
     "name": "stdout",
     "output_type": "stream",
     "text": [
      "Epoch 1/5\n"
     ]
    },
    {
     "name": "stderr",
     "output_type": "stream",
     "text": [
      "C:\\Users\\German\\AppData\\Roaming\\Python\\Python39\\site-packages\\keras\\backend.py:5612: UserWarning: \"`sparse_categorical_crossentropy` received `from_logits=True`, but the `output` argument was produced by a Softmax activation and thus does not represent logits. Was this intended?\n",
      "  output, from_logits = _get_logits(\n"
     ]
    },
    {
     "name": "stdout",
     "output_type": "stream",
     "text": [
      "468/468 [==============================] - 34s 67ms/step - loss: 0.2344 - sparse_categorical_accuracy: 0.9343 - val_loss: 0.0605 - val_sparse_categorical_accuracy: 0.9810\n",
      "Epoch 2/5\n",
      "468/468 [==============================] - 34s 70ms/step - loss: 0.0601 - sparse_categorical_accuracy: 0.9824 - val_loss: 0.0450 - val_sparse_categorical_accuracy: 0.9856\n",
      "Epoch 3/5\n",
      "468/468 [==============================] - 34s 70ms/step - loss: 0.0428 - sparse_categorical_accuracy: 0.9871 - val_loss: 0.0355 - val_sparse_categorical_accuracy: 0.9886\n",
      "Epoch 4/5\n",
      "468/468 [==============================] - 31s 65ms/step - loss: 0.0322 - sparse_categorical_accuracy: 0.9901 - val_loss: 0.0317 - val_sparse_categorical_accuracy: 0.9896\n",
      "Epoch 5/5\n",
      "468/468 [==============================] - 31s 64ms/step - loss: 0.0264 - sparse_categorical_accuracy: 0.9919 - val_loss: 0.0292 - val_sparse_categorical_accuracy: 0.9907\n"
     ]
    }
   ]
  },
  {
   "cell_type": "code",
   "execution_count": 571,
   "outputs": [
    {
     "name": "stdout",
     "output_type": "stream",
     "text": [
      "312/312 [==============================] - 2s 7ms/step\n"
     ]
    }
   ],
   "source": [
    "y_pred = model.predict(X_test)"
   ],
   "metadata": {
    "collapsed": false,
    "ExecuteTime": {
     "end_time": "2023-05-20T20:44:40.346658Z",
     "start_time": "2023-05-20T20:44:37.955480600Z"
    }
   }
  },
  {
   "cell_type": "code",
   "execution_count": 572,
   "outputs": [
    {
     "name": "stdout",
     "output_type": "stream",
     "text": [
      "              precision    recall  f1-score   support\n",
      "\n",
      "           0       0.99      0.99      0.99       978\n",
      "           1       0.99      1.00      0.99      1133\n",
      "           2       0.99      0.99      0.99      1030\n",
      "           3       0.99      0.99      0.99      1009\n",
      "           4       0.99      0.99      0.99       980\n",
      "           5       0.99      0.98      0.98       888\n",
      "           6       0.99      0.99      0.99       958\n",
      "           7       0.98      0.99      0.99      1027\n",
      "           8       0.99      0.99      0.99       973\n",
      "           9       0.99      0.99      0.99      1008\n",
      "\n",
      "    accuracy                           0.99      9984\n",
      "   macro avg       0.99      0.99      0.99      9984\n",
      "weighted avg       0.99      0.99      0.99      9984\n",
      "\n"
     ]
    }
   ],
   "source": [
    "y_pred_classes = np.argmax(y_pred, axis=1)\n",
    "print(classification_report(y_test, y_pred_classes))"
   ],
   "metadata": {
    "collapsed": false,
    "ExecuteTime": {
     "end_time": "2023-05-20T20:44:43.887573200Z",
     "start_time": "2023-05-20T20:44:43.821573300Z"
    }
   }
  },
  {
   "cell_type": "code",
   "execution_count": 573,
   "outputs": [
    {
     "data": {
      "text/plain": "<Figure size 400x500 with 1 Axes>",
      "image/png": "[encoded data removed]"
     },
     "metadata": {},
     "output_type": "display_data"
    }
   ],
   "source": [
    "plot_bars('TensorFlow CNN', y_pred_classes)"
   ],
   "metadata": {
    "collapsed": false,
    "ExecuteTime": {
     "end_time": "2023-05-20T20:44:49.755238300Z",
     "start_time": "2023-05-20T20:44:49.372594700Z"
    }
   }
  },
  {
   "cell_type": "code",
   "execution_count": 574,
   "outputs": [
    {
     "data": {
      "text/plain": "<Figure size 1200x400 with 2 Axes>",
      "image/png": "[encoded data removed]"
     },
     "metadata": {},
     "output_type": "display_data"
    }
   ],
   "source": [
    "plot_learning_curve(history)"
   ],
   "metadata": {
    "collapsed": false,
    "ExecuteTime": {
     "end_time": "2023-05-20T20:45:12.177354Z",
     "start_time": "2023-05-20T20:45:11.598353300Z"
    }
   }
  },
  {
   "cell_type": "code",
   "execution_count": 579,
   "outputs": [],
   "source": [
    "def simple_classify_one_cnn(test_pic_file):\n",
    "    image = Image.open(f'{dir}/{test_pic_file}').convert('L').resize((28, 28))  # grayscale 28x28\n",
    "\n",
    "    # For CNN, image_arr.len = 4 : (batch_size, height, width, channels). Here: (1, height, width, 1).\n",
    "    image_arr = np.array(image) / 256.\n",
    "    image_arr = np.expand_dims(image_arr, axis=0)\n",
    "    image_arr = np.expand_dims(image_arr, axis=-1)\n",
    "\n",
    "    predictions = model.predict(image_arr)\n",
    "    probabilities = tf.nn.softmax(predictions)\n",
    "    y_pred = np.argmax(probabilities)\n",
    "    y_pred_confidence = float(probabilities[0][y_pred])\n",
    "    print(f'[CNN] Classification: {y_pred}. Confidence: {round(y_pred_confidence * 100., 2)}%')"
   ],
   "metadata": {
    "collapsed": false,
    "ExecuteTime": {
     "end_time": "2023-05-20T20:52:49.221685800Z",
     "start_time": "2023-05-20T20:52:49.179688700Z"
    }
   }
  },
  {
   "cell_type": "code",
   "execution_count": 580,
   "outputs": [
    {
     "name": "stdout",
     "output_type": "stream",
     "text": [
      "1/1 [==============================] - 0s 43ms/step\n",
      "[CNN] Classification: 1. Confidence: 23.19%\n"
     ]
    }
   ],
   "source": [
    "simple_classify_one_cnn('test_1.png')"
   ],
   "metadata": {
    "collapsed": false,
    "ExecuteTime": {
     "end_time": "2023-05-20T20:52:49.601688900Z",
     "start_time": "2023-05-20T20:52:49.451688200Z"
    }
   }
  },
  {
   "cell_type": "code",
   "execution_count": 581,
   "outputs": [
    {
     "name": "stdout",
     "output_type": "stream",
     "text": [
      "1/1 [==============================] - 0s 31ms/step\n",
      "[CNN] Classification: 3. Confidence: 23.2%\n"
     ]
    }
   ],
   "source": [
    "simple_classify_one_cnn('test_3.png')"
   ],
   "metadata": {
    "collapsed": false,
    "ExecuteTime": {
     "end_time": "2023-05-20T20:53:04.175612Z",
     "start_time": "2023-05-20T20:53:04.084609900Z"
    }
   }
  },
  {
   "cell_type": "code",
   "execution_count": 582,
   "outputs": [
    {
     "name": "stdout",
     "output_type": "stream",
     "text": [
      "1/1 [==============================] - 0s 32ms/step\n",
      "[CNN] Classification: 8. Confidence: 23.19%\n"
     ]
    }
   ],
   "source": [
    "simple_classify_one_cnn('test_8.png')"
   ],
   "metadata": {
    "collapsed": false,
    "ExecuteTime": {
     "end_time": "2023-05-20T20:53:07.751468100Z",
     "start_time": "2023-05-20T20:53:07.665469600Z"
    }
   }
  },
  {
   "cell_type": "code",
   "execution_count": 583,
   "outputs": [
    {
     "name": "stdout",
     "output_type": "stream",
     "text": [
      "1/1 [==============================] - 0s 111ms/step\n",
      "[CNN] Classification: 8. Confidence: 13.97%\n"
     ]
    }
   ],
   "source": [
    "simple_classify_one_cnn('test_9.png')"
   ],
   "metadata": {
    "collapsed": false,
    "ExecuteTime": {
     "end_time": "2023-05-20T20:53:12.381038200Z",
     "start_time": "2023-05-20T20:53:12.367039100Z"
    }
   }
  },
  {
   "cell_type": "code",
   "execution_count": null,
   "outputs": [],
   "source": [],
   "metadata": {
    "collapsed": false
   }
  }
 ]
}
