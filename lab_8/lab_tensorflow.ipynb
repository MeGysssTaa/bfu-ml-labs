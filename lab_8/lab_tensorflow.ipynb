{
 "nbformat": 4,
 "nbformat_minor": 0,
 "metadata": {
  "colab": {
   "provenance": []
  },
  "kernelspec": {
   "name": "python3",
   "language": "python",
   "display_name": "Python 3 (ipykernel)"
  },
  "language_info": {
   "name": "python"
  }
 },
 "cells": [
  {
   "cell_type": "code",
   "execution_count": 434,
   "outputs": [],
   "source": [
    "dir = 'D:/projects/datascience/bfu-ml-labs/lab_8'"
   ],
   "metadata": {
    "collapsed": false,
    "ExecuteTime": {
     "end_time": "2023-05-20T17:13:25.327762800Z",
     "start_time": "2023-05-20T17:13:24.304742500Z"
    }
   }
  },
  {
   "cell_type": "code",
   "execution_count": 435,
   "metadata": {
    "id": "MHxedL0_dm3v",
    "ExecuteTime": {
     "end_time": "2023-05-20T17:13:25.328762600Z",
     "start_time": "2023-05-20T17:13:24.338503500Z"
    }
   },
   "outputs": [],
   "source": [
    "import tensorflow as tf\n",
    "import tensorflow_datasets as tfds"
   ]
  },
  {
   "cell_type": "code",
   "execution_count": 436,
   "outputs": [],
   "source": [
    "tf.random.set_seed(123)"
   ],
   "metadata": {
    "collapsed": false,
    "ExecuteTime": {
     "end_time": "2023-05-20T17:13:25.361135300Z",
     "start_time": "2023-05-20T17:13:24.341501100Z"
    }
   }
  },
  {
   "cell_type": "code",
   "source": [
    "(ds_train, ds_test), ds_info = tfds.load(\n",
    "    'mnist',\n",
    "    split=['train', 'test'],\n",
    "    shuffle_files=True,\n",
    "    as_supervised=True,\n",
    "    with_info=True,\n",
    ")"
   ],
   "metadata": {
    "id": "UIHcvK3odoZ3",
    "ExecuteTime": {
     "end_time": "2023-05-20T17:13:25.362139500Z",
     "start_time": "2023-05-20T17:13:24.509555500Z"
    }
   },
   "execution_count": 437,
   "outputs": []
  },
  {
   "cell_type": "code",
   "source": [
    "type(ds_train)"
   ],
   "metadata": {
    "colab": {
     "base_uri": "https://localhost:8080/"
    },
    "id": "wgyKQeKzeZbP",
    "outputId": "a17ea6d4-a2c1-4a4a-8e93-67253956eeec",
    "ExecuteTime": {
     "end_time": "2023-05-20T17:13:25.362139500Z",
     "start_time": "2023-05-20T17:13:24.754344300Z"
    }
   },
   "execution_count": 438,
   "outputs": [
    {
     "data": {
      "text/plain": "tensorflow.python.data.ops.prefetch_op._PrefetchDataset"
     },
     "execution_count": 438,
     "metadata": {},
     "output_type": "execute_result"
    }
   ]
  },
  {
   "cell_type": "code",
   "source": [
    "ds_train"
   ],
   "metadata": {
    "colab": {
     "base_uri": "https://localhost:8080/"
    },
    "id": "jtOiSJfAenyG",
    "outputId": "93c8a4cd-ab2c-4479-8c4f-f8385b24d8f3",
    "ExecuteTime": {
     "end_time": "2023-05-20T17:13:25.362139500Z",
     "start_time": "2023-05-20T17:13:24.771318Z"
    }
   },
   "execution_count": 439,
   "outputs": [
    {
     "data": {
      "text/plain": "<_PrefetchDataset element_spec=(TensorSpec(shape=(28, 28, 1), dtype=tf.uint8, name=None), TensorSpec(shape=(), dtype=tf.int64, name=None))>"
     },
     "execution_count": 439,
     "metadata": {},
     "output_type": "execute_result"
    }
   ]
  },
  {
   "cell_type": "code",
   "source": [
    "type(ds_test)"
   ],
   "metadata": {
    "colab": {
     "base_uri": "https://localhost:8080/"
    },
    "id": "MJAX-06eeoMM",
    "outputId": "4195da32-6cc6-4708-f77c-fb337d7aa327",
    "ExecuteTime": {
     "end_time": "2023-05-20T17:13:25.362139500Z",
     "start_time": "2023-05-20T17:13:24.787604700Z"
    }
   },
   "execution_count": 440,
   "outputs": [
    {
     "data": {
      "text/plain": "tensorflow.python.data.ops.prefetch_op._PrefetchDataset"
     },
     "execution_count": 440,
     "metadata": {},
     "output_type": "execute_result"
    }
   ]
  },
  {
   "cell_type": "code",
   "source": [
    "ds_test"
   ],
   "metadata": {
    "colab": {
     "base_uri": "https://localhost:8080/"
    },
    "id": "Cw-_GTyQeo0x",
    "outputId": "db66bb79-6003-44aa-d787-4bea9277db69",
    "ExecuteTime": {
     "end_time": "2023-05-20T17:13:25.362139500Z",
     "start_time": "2023-05-20T17:13:24.804580500Z"
    }
   },
   "execution_count": 441,
   "outputs": [
    {
     "data": {
      "text/plain": "<_PrefetchDataset element_spec=(TensorSpec(shape=(28, 28, 1), dtype=tf.uint8, name=None), TensorSpec(shape=(), dtype=tf.int64, name=None))>"
     },
     "execution_count": 441,
     "metadata": {},
     "output_type": "execute_result"
    }
   ]
  },
  {
   "cell_type": "code",
   "source": [
    "type(ds_info)"
   ],
   "metadata": {
    "colab": {
     "base_uri": "https://localhost:8080/"
    },
    "id": "hBF7eUZIepOw",
    "outputId": "f9b9ad6c-dd48-4394-f031-e622586cbbe8",
    "ExecuteTime": {
     "end_time": "2023-05-20T17:13:25.363139600Z",
     "start_time": "2023-05-20T17:13:24.820084100Z"
    }
   },
   "execution_count": 442,
   "outputs": [
    {
     "data": {
      "text/plain": "tensorflow_datasets.core.dataset_info.DatasetInfo"
     },
     "execution_count": 442,
     "metadata": {},
     "output_type": "execute_result"
    }
   ]
  },
  {
   "cell_type": "code",
   "source": [
    "ds_info"
   ],
   "metadata": {
    "colab": {
     "base_uri": "https://localhost:8080/"
    },
    "id": "xYZff90Zep4H",
    "outputId": "67c27d02-a412-487a-c26a-3700b6866ac4",
    "ExecuteTime": {
     "end_time": "2023-05-20T17:13:25.363139600Z",
     "start_time": "2023-05-20T17:13:24.837859900Z"
    }
   },
   "execution_count": 443,
   "outputs": [
    {
     "data": {
      "text/plain": "tfds.core.DatasetInfo(\n    name='mnist',\n    full_name='mnist/3.0.1',\n    description=\"\"\"\n    The MNIST database of handwritten digits.\n    \"\"\",\n    homepage='http://yann.lecun.com/exdb/mnist/',\n    data_path='C:\\\\Users\\\\German\\\\tensorflow_datasets\\\\mnist\\\\3.0.1',\n    file_format=tfrecord,\n    download_size=11.06 MiB,\n    dataset_size=21.00 MiB,\n    features=FeaturesDict({\n        'image': Image(shape=(28, 28, 1), dtype=uint8),\n        'label': ClassLabel(shape=(), dtype=int64, num_classes=10),\n    }),\n    supervised_keys=('image', 'label'),\n    disable_shuffling=False,\n    splits={\n        'test': <SplitInfo num_examples=10000, num_shards=1>,\n        'train': <SplitInfo num_examples=60000, num_shards=1>,\n    },\n    citation=\"\"\"@article{lecun2010mnist,\n      title={MNIST handwritten digit database},\n      author={LeCun, Yann and Cortes, Corinna and Burges, CJ},\n      journal={ATT Labs [Online]. Available: http://yann.lecun.com/exdb/mnist},\n      volume={2},\n      year={2010}\n    }\"\"\",\n)"
     },
     "execution_count": 443,
     "metadata": {},
     "output_type": "execute_result"
    }
   ]
  },
  {
   "cell_type": "code",
   "source": [
    "def normalize_image(image, label):\n",
    "    return tf.cast(image, tf.float32) / 255., label"
   ],
   "metadata": {
    "id": "Pyhr_Dy1eqVO",
    "ExecuteTime": {
     "end_time": "2023-05-20T17:13:25.363139600Z",
     "start_time": "2023-05-20T17:13:24.848880800Z"
    }
   },
   "execution_count": 444,
   "outputs": []
  },
  {
   "cell_type": "code",
   "execution_count": 445,
   "outputs": [],
   "source": [
    "ds_train = ds_train.map(normalize_image, num_parallel_calls=tf.data.AUTOTUNE)\n",
    "#ds_train = ds_train.cache()\n",
    "ds_train = ds_train.shuffle(ds_info.splits['train'].num_examples)\n",
    "ds_train = ds_train.batch(128, drop_remainder=True)\n",
    "ds_train = ds_train.prefetch(tf.data.AUTOTUNE)"
   ],
   "metadata": {
    "collapsed": false,
    "ExecuteTime": {
     "end_time": "2023-05-20T17:13:25.363139600Z",
     "start_time": "2023-05-20T17:13:24.865067100Z"
    }
   }
  },
  {
   "cell_type": "code",
   "source": [
    "ds_test = ds_test.map(normalize_image, num_parallel_calls=tf.data.AUTOTUNE)\n",
    "ds_test = ds_test.batch(128, drop_remainder=True)\n",
    "#ds_test = ds_test.cache()\n",
    "ds_test = ds_test.prefetch(tf.data.AUTOTUNE)"
   ],
   "metadata": {
    "id": "k3uHl4gmgwC9",
    "ExecuteTime": {
     "end_time": "2023-05-20T17:13:25.363139600Z",
     "start_time": "2023-05-20T17:13:24.910904700Z"
    }
   },
   "execution_count": 446,
   "outputs": []
  },
  {
   "cell_type": "markdown",
   "source": [
    "# 1. MLP"
   ],
   "metadata": {
    "id": "ZuSxCWUIyUos"
   }
  },
  {
   "cell_type": "code",
   "source": [
    "model = tf.keras.models.Sequential([\n",
    "    tf.keras.layers.Flatten(input_shape=(28, 28)),\n",
    "    tf.keras.layers.Dense(128, activation='relu'),\n",
    "    tf.keras.layers.Dense(128, activation='relu'),\n",
    "    tf.keras.layers.Dense(128, activation='relu'),\n",
    "    tf.keras.layers.Dense(10)\n",
    "])\n",
    "\n",
    "model.compile(\n",
    "    optimizer=tf.keras.optimizers.Adam(0.001),\n",
    "    loss=tf.keras.losses.SparseCategoricalCrossentropy(from_logits=True),\n",
    "    metrics=[tf.keras.metrics.SparseCategoricalAccuracy()],\n",
    ")\n",
    "\n",
    "history = model.fit(\n",
    "    ds_train,\n",
    "    epochs=5,\n",
    "    validation_data=ds_test,\n",
    ")"
   ],
   "metadata": {
    "colab": {
     "base_uri": "https://localhost:8080/"
    },
    "id": "_tI3JVuNiqGe",
    "outputId": "22062f9a-d11d-41b6-abc1-28d94c38a6ea",
    "ExecuteTime": {
     "end_time": "2023-05-20T17:13:46.483517500Z",
     "start_time": "2023-05-20T17:13:24.951828200Z"
    }
   },
   "execution_count": 447,
   "outputs": [
    {
     "name": "stdout",
     "output_type": "stream",
     "text": [
      "Epoch 1/5\n",
      "468/468 [==============================] - 6s 6ms/step - loss: 0.3086 - sparse_categorical_accuracy: 0.9079 - val_loss: 0.1450 - val_sparse_categorical_accuracy: 0.9557\n",
      "Epoch 2/5\n",
      "468/468 [==============================] - 4s 5ms/step - loss: 0.1142 - sparse_categorical_accuracy: 0.9657 - val_loss: 0.1189 - val_sparse_categorical_accuracy: 0.9638\n",
      "Epoch 3/5\n",
      "468/468 [==============================] - 4s 6ms/step - loss: 0.0798 - sparse_categorical_accuracy: 0.9753 - val_loss: 0.0842 - val_sparse_categorical_accuracy: 0.9725\n",
      "Epoch 4/5\n",
      "468/468 [==============================] - 4s 5ms/step - loss: 0.0594 - sparse_categorical_accuracy: 0.9815 - val_loss: 0.0752 - val_sparse_categorical_accuracy: 0.9753\n",
      "Epoch 5/5\n",
      "468/468 [==============================] - 4s 6ms/step - loss: 0.0434 - sparse_categorical_accuracy: 0.9860 - val_loss: 0.0788 - val_sparse_categorical_accuracy: 0.9760\n"
     ]
    }
   ]
  },
  {
   "cell_type": "code",
   "source": [
    "model.summary()"
   ],
   "metadata": {
    "colab": {
     "base_uri": "https://localhost:8080/"
    },
    "id": "xxfqaN7p12gw",
    "outputId": "ae0d14ad-73de-4cb9-cf78-2c7a6bb3a54a",
    "ExecuteTime": {
     "end_time": "2023-05-20T17:13:46.524522200Z",
     "start_time": "2023-05-20T17:13:46.487644Z"
    }
   },
   "execution_count": 448,
   "outputs": [
    {
     "name": "stdout",
     "output_type": "stream",
     "text": [
      "Model: \"sequential_8\"\n",
      "_________________________________________________________________\n",
      " Layer (type)                Output Shape              Param #   \n",
      "=================================================================\n",
      " flatten_8 (Flatten)         (None, 784)               0         \n",
      "                                                                 \n",
      " dense_32 (Dense)            (None, 128)               100480    \n",
      "                                                                 \n",
      " dense_33 (Dense)            (None, 128)               16512     \n",
      "                                                                 \n",
      " dense_34 (Dense)            (None, 128)               16512     \n",
      "                                                                 \n",
      " dense_35 (Dense)            (None, 10)                1290      \n",
      "                                                                 \n",
      "=================================================================\n",
      "Total params: 134,794\n",
      "Trainable params: 134,794\n",
      "Non-trainable params: 0\n",
      "_________________________________________________________________\n"
     ]
    }
   ]
  },
  {
   "cell_type": "code",
   "source": [
    "import numpy as np\n",
    "\n",
    "X_test = []\n",
    "y_test = []\n",
    "for image, label in ds_test.unbatch().as_numpy_iterator():\n",
    "    X_test.append(image)\n",
    "    y_test.append(label)\n",
    "X_test = np.array(X_test)\n",
    "y_test = np.array(y_test)"
   ],
   "metadata": {
    "id": "0fCy3nav2G44",
    "ExecuteTime": {
     "end_time": "2023-05-20T17:13:49.389382100Z",
     "start_time": "2023-05-20T17:13:46.519521300Z"
    }
   },
   "execution_count": 449,
   "outputs": []
  },
  {
   "cell_type": "code",
   "source": [
    "X_test.shape"
   ],
   "metadata": {
    "colab": {
     "base_uri": "https://localhost:8080/"
    },
    "id": "EVZQ2PPG6848",
    "outputId": "e57038fa-1175-41ac-d2ac-7333530ba7b9",
    "ExecuteTime": {
     "end_time": "2023-05-20T17:13:49.406382300Z",
     "start_time": "2023-05-20T17:13:49.394383100Z"
    }
   },
   "execution_count": 450,
   "outputs": [
    {
     "data": {
      "text/plain": "(9984, 28, 28, 1)"
     },
     "execution_count": 450,
     "metadata": {},
     "output_type": "execute_result"
    }
   ]
  },
  {
   "cell_type": "code",
   "source": [
    "y_test.shape"
   ],
   "metadata": {
    "colab": {
     "base_uri": "https://localhost:8080/"
    },
    "id": "HdZEqCox69U8",
    "outputId": "fc44f971-9941-421f-8f94-5b1b87b333e4",
    "ExecuteTime": {
     "end_time": "2023-05-20T17:13:49.434827600Z",
     "start_time": "2023-05-20T17:13:49.409380400Z"
    }
   },
   "execution_count": 451,
   "outputs": [
    {
     "data": {
      "text/plain": "(9984,)"
     },
     "execution_count": 451,
     "metadata": {},
     "output_type": "execute_result"
    }
   ]
  },
  {
   "cell_type": "code",
   "execution_count": 452,
   "outputs": [
    {
     "name": "stdout",
     "output_type": "stream",
     "text": [
      "312/312 [==============================] - 1s 2ms/step\n"
     ]
    }
   ],
   "source": [
    "y_pred = model.predict(X_test)"
   ],
   "metadata": {
    "collapsed": false,
    "ExecuteTime": {
     "end_time": "2023-05-20T17:13:52.187085800Z",
     "start_time": "2023-05-20T17:13:49.425783200Z"
    }
   }
  },
  {
   "cell_type": "code",
   "execution_count": 453,
   "outputs": [
    {
     "data": {
      "text/plain": "numpy.ndarray"
     },
     "execution_count": 453,
     "metadata": {},
     "output_type": "execute_result"
    }
   ],
   "source": [
    "type(y_pred)"
   ],
   "metadata": {
    "collapsed": false,
    "ExecuteTime": {
     "end_time": "2023-05-20T17:13:52.187085800Z",
     "start_time": "2023-05-20T17:13:52.137598200Z"
    }
   }
  },
  {
   "cell_type": "code",
   "execution_count": 454,
   "outputs": [
    {
     "data": {
      "text/plain": "(9984, 10)"
     },
     "execution_count": 454,
     "metadata": {},
     "output_type": "execute_result"
    }
   ],
   "source": [
    "y_pred.shape"
   ],
   "metadata": {
    "collapsed": false,
    "ExecuteTime": {
     "end_time": "2023-05-20T17:13:52.187085800Z",
     "start_time": "2023-05-20T17:13:52.137598200Z"
    }
   }
  },
  {
   "cell_type": "code",
   "execution_count": 455,
   "outputs": [
    {
     "data": {
      "text/plain": "array([-8.85614  , -1.6646681, 14.740001 ,  1.7588238, -2.006156 ,\n       -2.892443 , -4.6264772, -0.6993824,  1.7994173, -7.9102225],\n      dtype=float32)"
     },
     "execution_count": 455,
     "metadata": {},
     "output_type": "execute_result"
    }
   ],
   "source": [
    "y_pred[0]"
   ],
   "metadata": {
    "collapsed": false,
    "ExecuteTime": {
     "end_time": "2023-05-20T17:13:52.188088100Z",
     "start_time": "2023-05-20T17:13:52.138600400Z"
    }
   }
  },
  {
   "cell_type": "code",
   "execution_count": 456,
   "outputs": [],
   "source": [
    "y_pred_classes = np.argmax(y_pred, axis=1)"
   ],
   "metadata": {
    "collapsed": false,
    "ExecuteTime": {
     "end_time": "2023-05-20T17:13:52.189089800Z",
     "start_time": "2023-05-20T17:13:52.138600400Z"
    }
   }
  },
  {
   "cell_type": "code",
   "execution_count": 457,
   "outputs": [
    {
     "data": {
      "text/plain": "2"
     },
     "execution_count": 457,
     "metadata": {},
     "output_type": "execute_result"
    }
   ],
   "source": [
    "y_pred_classes[0]"
   ],
   "metadata": {
    "collapsed": false,
    "ExecuteTime": {
     "end_time": "2023-05-20T17:13:52.189089800Z",
     "start_time": "2023-05-20T17:13:52.138600400Z"
    }
   }
  },
  {
   "cell_type": "code",
   "execution_count": 458,
   "outputs": [
    {
     "name": "stdout",
     "output_type": "stream",
     "text": [
      "              precision    recall  f1-score   support\n",
      "\n",
      "           0       0.99      0.98      0.98       978\n",
      "           1       0.98      0.99      0.99      1133\n",
      "           2       0.98      0.97      0.97      1030\n",
      "           3       0.95      0.99      0.97      1009\n",
      "           4       0.98      0.98      0.98       980\n",
      "           5       0.98      0.96      0.97       888\n",
      "           6       0.97      0.99      0.98       958\n",
      "           7       0.97      0.97      0.97      1027\n",
      "           8       0.98      0.96      0.97       973\n",
      "           9       0.98      0.96      0.97      1008\n",
      "\n",
      "    accuracy                           0.98      9984\n",
      "   macro avg       0.98      0.98      0.98      9984\n",
      "weighted avg       0.98      0.98      0.98      9984\n",
      "\n"
     ]
    }
   ],
   "source": [
    "from sklearn.metrics import classification_report\n",
    "\n",
    "print(classification_report(y_test, y_pred_classes))"
   ],
   "metadata": {
    "collapsed": false,
    "ExecuteTime": {
     "end_time": "2023-05-20T17:13:52.189089800Z",
     "start_time": "2023-05-20T17:13:52.138600400Z"
    }
   }
  },
  {
   "cell_type": "code",
   "execution_count": 459,
   "outputs": [],
   "source": [
    "import matplotlib.pyplot as plt\n",
    "\n",
    "\n",
    "def plot_bars(model_name, y_pred_):\n",
    "    metric = 'f1-score'\n",
    "\n",
    "    report = classification_report(y_test, y_pred_, output_dict=True)\n",
    "    keys = range(10)\n",
    "    values = [report[str(k)][metric] for k in keys]\n",
    "\n",
    "    plt.figure(figsize=(4, 5))\n",
    "\n",
    "    plt.bar(keys, values)\n",
    "    plt.axhline(np.asarray(values).mean(), c='purple', linestyle='dashed')\n",
    "\n",
    "    plt.xticks(keys)\n",
    "    plt.yticks(np.arange(0., 1., 0.05))\n",
    "    plt.xlabel('digit')\n",
    "    plt.ylabel(metric)\n",
    "    plt.title('Handwritten Digits Recognition: ' + model_name)\n",
    "\n",
    "    plt.show()"
   ],
   "metadata": {
    "collapsed": false,
    "ExecuteTime": {
     "end_time": "2023-05-20T17:13:52.189089800Z",
     "start_time": "2023-05-20T17:13:52.139601800Z"
    }
   }
  },
  {
   "cell_type": "code",
   "execution_count": 460,
   "outputs": [
    {
     "data": {
      "text/plain": "<Figure size 400x500 with 1 Axes>",
      "image/png": "[encoded data removed]"
     },
     "metadata": {},
     "output_type": "display_data"
    }
   ],
   "source": [
    "plot_bars('TensorFlow MLP', y_pred_classes)"
   ],
   "metadata": {
    "collapsed": false,
    "ExecuteTime": {
     "end_time": "2023-05-20T17:13:52.189089800Z",
     "start_time": "2023-05-20T17:13:52.139601800Z"
    }
   }
  },
  {
   "cell_type": "code",
   "execution_count": 461,
   "outputs": [],
   "source": [
    "def plot_learning_curve(history_):\n",
    "    plt.figure(figsize=(12, 4))\n",
    "\n",
    "    # Accuracy\n",
    "    plt.subplot(1, 2, 1)\n",
    "    plt.plot(history_.history['sparse_categorical_accuracy'], label='Training Accuracy')\n",
    "    plt.plot(history_.history['val_sparse_categorical_accuracy'], label='Validation Accuracy')\n",
    "    plt.legend()\n",
    "    plt.xticks(range(len(history_.history)))\n",
    "    plt.xlabel('Epoch')\n",
    "    plt.ylabel('Accuracy')\n",
    "    plt.title('Model Accuracy')\n",
    "\n",
    "    # Loss\n",
    "    plt.subplot(1, 2, 2)\n",
    "    plt.plot(history.history['loss'], label='Training Loss')\n",
    "    plt.plot(history.history['val_loss'], label='Validation Loss')\n",
    "    plt.legend()\n",
    "    plt.xticks(range(len(history_.history)))\n",
    "    plt.xlabel('Epoch')\n",
    "    plt.ylabel('Loss')\n",
    "    plt.title('Model Loss')\n",
    "\n",
    "    plt.show()"
   ],
   "metadata": {
    "collapsed": false,
    "ExecuteTime": {
     "end_time": "2023-05-20T17:13:52.189089800Z",
     "start_time": "2023-05-20T17:13:52.139601800Z"
    }
   }
  },
  {
   "cell_type": "code",
   "execution_count": 462,
   "outputs": [
    {
     "data": {
      "text/plain": "<Figure size 1200x400 with 2 Axes>",
      "image/png": "[encoded data removed]"
     },
     "metadata": {},
     "output_type": "display_data"
    }
   ],
   "source": [
    "plot_learning_curve(history)"
   ],
   "metadata": {
    "collapsed": false,
    "ExecuteTime": {
     "end_time": "2023-05-20T17:13:52.189089800Z",
     "start_time": "2023-05-20T17:13:52.140602200Z"
    }
   }
  },
  {
   "cell_type": "code",
   "source": [
    "from PIL import Image"
   ],
   "metadata": {
    "id": "z0xfPSjyi_VA",
    "ExecuteTime": {
     "end_time": "2023-05-20T17:13:52.189089800Z",
     "start_time": "2023-05-20T17:13:52.141606400Z"
    }
   },
   "execution_count": 463,
   "outputs": []
  },
  {
   "cell_type": "code",
   "source": [
    "image = Image.open(f'{dir}/test_1.png').convert('L').resize((28, 28))  # grayscale 28x28\n",
    "image"
   ],
   "metadata": {
    "colab": {
     "base_uri": "https://localhost:8080/",
     "height": 45
    },
    "id": "wlBeSgBaotiR",
    "outputId": "0670824e-1216-4875-998e-4ab18b7c2c04",
    "ExecuteTime": {
     "end_time": "2023-05-20T17:13:52.189089800Z",
     "start_time": "2023-05-20T17:13:52.141606400Z"
    }
   },
   "execution_count": 464,
   "outputs": [
    {
     "data": {
      "text/plain": "<PIL.Image.Image image mode=L size=28x28>",
      "image/png": "[encoded data removed]"
     },
     "execution_count": 464,
     "metadata": {},
     "output_type": "execute_result"
    }
   ]
  },
  {
   "cell_type": "code",
   "source": [
    "import numpy as np"
   ],
   "metadata": {
    "id": "pfpXwuQFqQNz",
    "ExecuteTime": {
     "end_time": "2023-05-20T17:13:52.190091400Z",
     "start_time": "2023-05-20T17:13:52.141606400Z"
    }
   },
   "execution_count": 465,
   "outputs": []
  },
  {
   "cell_type": "code",
   "source": [
    "image_arr = np.array(image) / 256."
   ],
   "metadata": {
    "id": "gFFZhEsgpVyK",
    "ExecuteTime": {
     "end_time": "2023-05-20T17:13:52.190091400Z",
     "start_time": "2023-05-20T17:13:52.142602400Z"
    }
   },
   "execution_count": 466,
   "outputs": []
  },
  {
   "cell_type": "code",
   "source": [
    "type(image_arr)"
   ],
   "metadata": {
    "colab": {
     "base_uri": "https://localhost:8080/"
    },
    "id": "wNUazj27qNgp",
    "outputId": "f8ebb853-8c68-431e-d354-1300fa7f217f",
    "ExecuteTime": {
     "end_time": "2023-05-20T17:13:52.190091400Z",
     "start_time": "2023-05-20T17:13:52.142602400Z"
    }
   },
   "execution_count": 467,
   "outputs": [
    {
     "data": {
      "text/plain": "numpy.ndarray"
     },
     "execution_count": 467,
     "metadata": {},
     "output_type": "execute_result"
    }
   ]
  },
  {
   "cell_type": "code",
   "source": [
    "image_arr.shape"
   ],
   "metadata": {
    "colab": {
     "base_uri": "https://localhost:8080/"
    },
    "id": "7wvTFewbqci0",
    "outputId": "88087aa2-0cbc-4faf-ca8a-fcdb166932ee",
    "ExecuteTime": {
     "end_time": "2023-05-20T17:13:52.190091400Z",
     "start_time": "2023-05-20T17:13:52.142602400Z"
    }
   },
   "execution_count": 468,
   "outputs": [
    {
     "data": {
      "text/plain": "(28, 28)"
     },
     "execution_count": 468,
     "metadata": {},
     "output_type": "execute_result"
    }
   ]
  },
  {
   "cell_type": "code",
   "source": [
    "image_arr"
   ],
   "metadata": {
    "colab": {
     "base_uri": "https://localhost:8080/"
    },
    "id": "sXA48NtdqdFs",
    "outputId": "4a090fe0-53ba-4e6e-e761-a0e66ba49f8b",
    "ExecuteTime": {
     "end_time": "2023-05-20T17:13:52.190091400Z",
     "start_time": "2023-05-20T17:13:52.143603400Z"
    }
   },
   "execution_count": 469,
   "outputs": [
    {
     "data": {
      "text/plain": "array([[0.        , 0.        , 0.        , 0.        , 0.        ,\n        0.        , 0.        , 0.        , 0.        , 0.        ,\n        0.        , 0.        , 0.        , 0.        , 0.        ,\n        0.        , 0.        , 0.        , 0.        , 0.        ,\n        0.        , 0.        , 0.        , 0.        , 0.        ,\n        0.        , 0.        , 0.        ],\n       [0.        , 0.        , 0.        , 0.        , 0.        ,\n        0.        , 0.        , 0.        , 0.        , 0.        ,\n        0.        , 0.        , 0.        , 0.        , 0.        ,\n        0.        , 0.        , 0.        , 0.        , 0.        ,\n        0.        , 0.        , 0.        , 0.        , 0.        ,\n        0.        , 0.        , 0.        ],\n       [0.        , 0.        , 0.        , 0.        , 0.        ,\n        0.        , 0.        , 0.        , 0.        , 0.        ,\n        0.        , 0.        , 0.        , 0.        , 0.        ,\n        0.        , 0.        , 0.        , 0.        , 0.        ,\n        0.        , 0.        , 0.        , 0.        , 0.        ,\n        0.        , 0.        , 0.        ],\n       [0.        , 0.        , 0.        , 0.        , 0.        ,\n        0.        , 0.        , 0.        , 0.        , 0.        ,\n        0.        , 0.        , 0.        , 0.        , 0.        ,\n        0.        , 0.        , 0.        , 0.        , 0.        ,\n        0.        , 0.        , 0.        , 0.        , 0.        ,\n        0.        , 0.        , 0.        ],\n       [0.        , 0.        , 0.        , 0.        , 0.        ,\n        0.        , 0.        , 0.        , 0.        , 0.        ,\n        0.        , 0.        , 0.        , 0.        , 0.        ,\n        0.        , 0.        , 0.        , 0.        , 0.        ,\n        0.        , 0.        , 0.        , 0.        , 0.        ,\n        0.        , 0.        , 0.        ],\n       [0.        , 0.        , 0.        , 0.        , 0.        ,\n        0.        , 0.        , 0.        , 0.        , 0.        ,\n        0.        , 0.        , 0.        , 0.        , 0.        ,\n        0.        , 0.        , 0.        , 0.        , 0.        ,\n        0.        , 0.        , 0.        , 0.        , 0.        ,\n        0.        , 0.        , 0.        ],\n       [0.        , 0.        , 0.        , 0.        , 0.        ,\n        0.        , 0.        , 0.        , 0.        , 0.        ,\n        0.        , 0.        , 0.        , 0.        , 0.        ,\n        0.99609375, 0.        , 0.        , 0.        , 0.        ,\n        0.        , 0.        , 0.        , 0.        , 0.        ,\n        0.        , 0.        , 0.        ],\n       [0.        , 0.        , 0.        , 0.        , 0.        ,\n        0.        , 0.        , 0.        , 0.        , 0.        ,\n        0.        , 0.        , 0.        , 0.        , 0.99609375,\n        0.99609375, 0.99609375, 0.        , 0.        , 0.        ,\n        0.        , 0.        , 0.        , 0.        , 0.        ,\n        0.        , 0.        , 0.        ],\n       [0.        , 0.        , 0.        , 0.        , 0.        ,\n        0.        , 0.        , 0.        , 0.        , 0.        ,\n        0.        , 0.        , 0.        , 0.        , 0.99609375,\n        0.99609375, 0.        , 0.        , 0.        , 0.        ,\n        0.        , 0.        , 0.        , 0.        , 0.        ,\n        0.        , 0.        , 0.        ],\n       [0.        , 0.        , 0.        , 0.        , 0.        ,\n        0.        , 0.        , 0.        , 0.        , 0.        ,\n        0.        , 0.        , 0.        , 0.        , 0.99609375,\n        0.99609375, 0.        , 0.        , 0.        , 0.        ,\n        0.        , 0.        , 0.        , 0.        , 0.        ,\n        0.        , 0.        , 0.        ],\n       [0.        , 0.        , 0.        , 0.        , 0.        ,\n        0.        , 0.        , 0.        , 0.        , 0.        ,\n        0.        , 0.        , 0.        , 0.        , 0.99609375,\n        0.99609375, 0.        , 0.        , 0.        , 0.        ,\n        0.        , 0.        , 0.        , 0.        , 0.        ,\n        0.        , 0.        , 0.        ],\n       [0.        , 0.        , 0.        , 0.        , 0.        ,\n        0.        , 0.        , 0.        , 0.        , 0.        ,\n        0.        , 0.        , 0.        , 0.        , 0.99609375,\n        0.99609375, 0.        , 0.        , 0.        , 0.        ,\n        0.        , 0.        , 0.        , 0.        , 0.        ,\n        0.        , 0.        , 0.        ],\n       [0.        , 0.        , 0.        , 0.        , 0.        ,\n        0.        , 0.        , 0.        , 0.        , 0.        ,\n        0.        , 0.        , 0.        , 0.        , 0.99609375,\n        0.99609375, 0.        , 0.        , 0.        , 0.        ,\n        0.        , 0.        , 0.        , 0.        , 0.        ,\n        0.        , 0.        , 0.        ],\n       [0.        , 0.        , 0.        , 0.        , 0.        ,\n        0.        , 0.        , 0.        , 0.        , 0.        ,\n        0.        , 0.        , 0.        , 0.        , 0.99609375,\n        0.99609375, 0.        , 0.        , 0.        , 0.        ,\n        0.        , 0.        , 0.        , 0.        , 0.        ,\n        0.        , 0.        , 0.        ],\n       [0.        , 0.        , 0.        , 0.        , 0.        ,\n        0.        , 0.        , 0.        , 0.        , 0.        ,\n        0.        , 0.        , 0.        , 0.        , 0.99609375,\n        0.99609375, 0.        , 0.        , 0.        , 0.        ,\n        0.        , 0.        , 0.        , 0.        , 0.        ,\n        0.        , 0.        , 0.        ],\n       [0.        , 0.        , 0.        , 0.        , 0.        ,\n        0.        , 0.        , 0.        , 0.        , 0.        ,\n        0.        , 0.        , 0.        , 0.        , 0.99609375,\n        0.99609375, 0.        , 0.        , 0.        , 0.        ,\n        0.        , 0.        , 0.        , 0.        , 0.        ,\n        0.        , 0.        , 0.        ],\n       [0.        , 0.        , 0.        , 0.        , 0.        ,\n        0.        , 0.        , 0.        , 0.        , 0.        ,\n        0.        , 0.        , 0.        , 0.        , 0.99609375,\n        0.99609375, 0.        , 0.        , 0.        , 0.        ,\n        0.        , 0.        , 0.        , 0.        , 0.        ,\n        0.        , 0.        , 0.        ],\n       [0.        , 0.        , 0.        , 0.        , 0.        ,\n        0.        , 0.        , 0.        , 0.        , 0.        ,\n        0.        , 0.        , 0.        , 0.99609375, 0.99609375,\n        0.99609375, 0.        , 0.        , 0.        , 0.        ,\n        0.        , 0.        , 0.        , 0.        , 0.        ,\n        0.        , 0.        , 0.        ],\n       [0.        , 0.        , 0.        , 0.        , 0.        ,\n        0.        , 0.        , 0.        , 0.        , 0.        ,\n        0.        , 0.        , 0.        , 0.99609375, 0.99609375,\n        0.        , 0.        , 0.        , 0.        , 0.        ,\n        0.        , 0.        , 0.        , 0.        , 0.        ,\n        0.        , 0.        , 0.        ],\n       [0.        , 0.        , 0.        , 0.        , 0.        ,\n        0.        , 0.        , 0.        , 0.        , 0.        ,\n        0.        , 0.        , 0.        , 0.99609375, 0.99609375,\n        0.        , 0.        , 0.        , 0.        , 0.        ,\n        0.        , 0.        , 0.        , 0.        , 0.        ,\n        0.        , 0.        , 0.        ],\n       [0.        , 0.        , 0.        , 0.        , 0.        ,\n        0.        , 0.        , 0.        , 0.        , 0.        ,\n        0.        , 0.        , 0.        , 0.99609375, 0.99609375,\n        0.        , 0.        , 0.        , 0.        , 0.        ,\n        0.        , 0.        , 0.        , 0.        , 0.        ,\n        0.        , 0.        , 0.        ],\n       [0.        , 0.        , 0.        , 0.        , 0.        ,\n        0.        , 0.        , 0.        , 0.        , 0.        ,\n        0.        , 0.        , 0.        , 0.99609375, 0.99609375,\n        0.        , 0.        , 0.        , 0.        , 0.        ,\n        0.        , 0.        , 0.        , 0.        , 0.        ,\n        0.        , 0.        , 0.        ],\n       [0.        , 0.        , 0.        , 0.        , 0.        ,\n        0.        , 0.        , 0.        , 0.        , 0.        ,\n        0.        , 0.        , 0.        , 0.99609375, 0.99609375,\n        0.        , 0.        , 0.        , 0.        , 0.        ,\n        0.        , 0.        , 0.        , 0.        , 0.        ,\n        0.        , 0.        , 0.        ],\n       [0.        , 0.        , 0.        , 0.        , 0.        ,\n        0.        , 0.        , 0.        , 0.        , 0.        ,\n        0.        , 0.        , 0.        , 0.99609375, 0.99609375,\n        0.        , 0.        , 0.        , 0.        , 0.        ,\n        0.        , 0.        , 0.        , 0.        , 0.        ,\n        0.        , 0.        , 0.        ],\n       [0.        , 0.        , 0.        , 0.        , 0.        ,\n        0.        , 0.        , 0.        , 0.        , 0.        ,\n        0.        , 0.        , 0.        , 0.        , 0.        ,\n        0.        , 0.        , 0.        , 0.        , 0.        ,\n        0.        , 0.        , 0.        , 0.        , 0.        ,\n        0.        , 0.        , 0.        ],\n       [0.        , 0.        , 0.        , 0.        , 0.        ,\n        0.        , 0.        , 0.        , 0.        , 0.        ,\n        0.        , 0.        , 0.        , 0.        , 0.        ,\n        0.        , 0.        , 0.        , 0.        , 0.        ,\n        0.        , 0.        , 0.        , 0.        , 0.        ,\n        0.        , 0.        , 0.        ],\n       [0.        , 0.        , 0.        , 0.        , 0.        ,\n        0.        , 0.        , 0.        , 0.        , 0.        ,\n        0.        , 0.        , 0.        , 0.        , 0.        ,\n        0.        , 0.        , 0.        , 0.        , 0.        ,\n        0.        , 0.        , 0.        , 0.        , 0.        ,\n        0.        , 0.        , 0.        ],\n       [0.        , 0.        , 0.        , 0.        , 0.        ,\n        0.        , 0.        , 0.        , 0.        , 0.        ,\n        0.        , 0.        , 0.        , 0.        , 0.        ,\n        0.        , 0.        , 0.        , 0.        , 0.        ,\n        0.        , 0.        , 0.        , 0.        , 0.        ,\n        0.        , 0.        , 0.        ]])"
     },
     "execution_count": 469,
     "metadata": {},
     "output_type": "execute_result"
    }
   ]
  },
  {
   "cell_type": "code",
   "source": [
    "image_arr = np.expand_dims(image_arr, axis=0)"
   ],
   "metadata": {
    "id": "ni5kAQdVqdc-",
    "ExecuteTime": {
     "end_time": "2023-05-20T17:13:52.191090800Z",
     "start_time": "2023-05-20T17:13:52.143603400Z"
    }
   },
   "execution_count": 470,
   "outputs": []
  },
  {
   "cell_type": "code",
   "source": [
    "type(image_arr)"
   ],
   "metadata": {
    "colab": {
     "base_uri": "https://localhost:8080/"
    },
    "id": "Bxz_Mq1Sq5fN",
    "outputId": "c0013e01-7604-499a-941f-24ebda68b820",
    "ExecuteTime": {
     "end_time": "2023-05-20T17:13:52.191090800Z",
     "start_time": "2023-05-20T17:13:52.143603400Z"
    }
   },
   "execution_count": 471,
   "outputs": [
    {
     "data": {
      "text/plain": "numpy.ndarray"
     },
     "execution_count": 471,
     "metadata": {},
     "output_type": "execute_result"
    }
   ]
  },
  {
   "cell_type": "code",
   "source": [
    "image_arr.shape"
   ],
   "metadata": {
    "colab": {
     "base_uri": "https://localhost:8080/"
    },
    "id": "AQBJn_0qq7qB",
    "outputId": "ebf5b214-2130-4f71-e409-632d49135f91",
    "ExecuteTime": {
     "end_time": "2023-05-20T17:13:52.191090800Z",
     "start_time": "2023-05-20T17:13:52.144600400Z"
    }
   },
   "execution_count": 472,
   "outputs": [
    {
     "data": {
      "text/plain": "(1, 28, 28)"
     },
     "execution_count": 472,
     "metadata": {},
     "output_type": "execute_result"
    }
   ]
  },
  {
   "cell_type": "code",
   "source": [
    "image_arr"
   ],
   "metadata": {
    "colab": {
     "base_uri": "https://localhost:8080/"
    },
    "id": "fqa6lKvTq8eD",
    "outputId": "761878b0-53a2-47f7-e5bb-1c23674f7d47",
    "ExecuteTime": {
     "end_time": "2023-05-20T17:13:52.191090800Z",
     "start_time": "2023-05-20T17:13:52.144600400Z"
    }
   },
   "execution_count": 473,
   "outputs": [
    {
     "data": {
      "text/plain": "array([[[0.        , 0.        , 0.        , 0.        , 0.        ,\n         0.        , 0.        , 0.        , 0.        , 0.        ,\n         0.        , 0.        , 0.        , 0.        , 0.        ,\n         0.        , 0.        , 0.        , 0.        , 0.        ,\n         0.        , 0.        , 0.        , 0.        , 0.        ,\n         0.        , 0.        , 0.        ],\n        [0.        , 0.        , 0.        , 0.        , 0.        ,\n         0.        , 0.        , 0.        , 0.        , 0.        ,\n         0.        , 0.        , 0.        , 0.        , 0.        ,\n         0.        , 0.        , 0.        , 0.        , 0.        ,\n         0.        , 0.        , 0.        , 0.        , 0.        ,\n         0.        , 0.        , 0.        ],\n        [0.        , 0.        , 0.        , 0.        , 0.        ,\n         0.        , 0.        , 0.        , 0.        , 0.        ,\n         0.        , 0.        , 0.        , 0.        , 0.        ,\n         0.        , 0.        , 0.        , 0.        , 0.        ,\n         0.        , 0.        , 0.        , 0.        , 0.        ,\n         0.        , 0.        , 0.        ],\n        [0.        , 0.        , 0.        , 0.        , 0.        ,\n         0.        , 0.        , 0.        , 0.        , 0.        ,\n         0.        , 0.        , 0.        , 0.        , 0.        ,\n         0.        , 0.        , 0.        , 0.        , 0.        ,\n         0.        , 0.        , 0.        , 0.        , 0.        ,\n         0.        , 0.        , 0.        ],\n        [0.        , 0.        , 0.        , 0.        , 0.        ,\n         0.        , 0.        , 0.        , 0.        , 0.        ,\n         0.        , 0.        , 0.        , 0.        , 0.        ,\n         0.        , 0.        , 0.        , 0.        , 0.        ,\n         0.        , 0.        , 0.        , 0.        , 0.        ,\n         0.        , 0.        , 0.        ],\n        [0.        , 0.        , 0.        , 0.        , 0.        ,\n         0.        , 0.        , 0.        , 0.        , 0.        ,\n         0.        , 0.        , 0.        , 0.        , 0.        ,\n         0.        , 0.        , 0.        , 0.        , 0.        ,\n         0.        , 0.        , 0.        , 0.        , 0.        ,\n         0.        , 0.        , 0.        ],\n        [0.        , 0.        , 0.        , 0.        , 0.        ,\n         0.        , 0.        , 0.        , 0.        , 0.        ,\n         0.        , 0.        , 0.        , 0.        , 0.        ,\n         0.99609375, 0.        , 0.        , 0.        , 0.        ,\n         0.        , 0.        , 0.        , 0.        , 0.        ,\n         0.        , 0.        , 0.        ],\n        [0.        , 0.        , 0.        , 0.        , 0.        ,\n         0.        , 0.        , 0.        , 0.        , 0.        ,\n         0.        , 0.        , 0.        , 0.        , 0.99609375,\n         0.99609375, 0.99609375, 0.        , 0.        , 0.        ,\n         0.        , 0.        , 0.        , 0.        , 0.        ,\n         0.        , 0.        , 0.        ],\n        [0.        , 0.        , 0.        , 0.        , 0.        ,\n         0.        , 0.        , 0.        , 0.        , 0.        ,\n         0.        , 0.        , 0.        , 0.        , 0.99609375,\n         0.99609375, 0.        , 0.        , 0.        , 0.        ,\n         0.        , 0.        , 0.        , 0.        , 0.        ,\n         0.        , 0.        , 0.        ],\n        [0.        , 0.        , 0.        , 0.        , 0.        ,\n         0.        , 0.        , 0.        , 0.        , 0.        ,\n         0.        , 0.        , 0.        , 0.        , 0.99609375,\n         0.99609375, 0.        , 0.        , 0.        , 0.        ,\n         0.        , 0.        , 0.        , 0.        , 0.        ,\n         0.        , 0.        , 0.        ],\n        [0.        , 0.        , 0.        , 0.        , 0.        ,\n         0.        , 0.        , 0.        , 0.        , 0.        ,\n         0.        , 0.        , 0.        , 0.        , 0.99609375,\n         0.99609375, 0.        , 0.        , 0.        , 0.        ,\n         0.        , 0.        , 0.        , 0.        , 0.        ,\n         0.        , 0.        , 0.        ],\n        [0.        , 0.        , 0.        , 0.        , 0.        ,\n         0.        , 0.        , 0.        , 0.        , 0.        ,\n         0.        , 0.        , 0.        , 0.        , 0.99609375,\n         0.99609375, 0.        , 0.        , 0.        , 0.        ,\n         0.        , 0.        , 0.        , 0.        , 0.        ,\n         0.        , 0.        , 0.        ],\n        [0.        , 0.        , 0.        , 0.        , 0.        ,\n         0.        , 0.        , 0.        , 0.        , 0.        ,\n         0.        , 0.        , 0.        , 0.        , 0.99609375,\n         0.99609375, 0.        , 0.        , 0.        , 0.        ,\n         0.        , 0.        , 0.        , 0.        , 0.        ,\n         0.        , 0.        , 0.        ],\n        [0.        , 0.        , 0.        , 0.        , 0.        ,\n         0.        , 0.        , 0.        , 0.        , 0.        ,\n         0.        , 0.        , 0.        , 0.        , 0.99609375,\n         0.99609375, 0.        , 0.        , 0.        , 0.        ,\n         0.        , 0.        , 0.        , 0.        , 0.        ,\n         0.        , 0.        , 0.        ],\n        [0.        , 0.        , 0.        , 0.        , 0.        ,\n         0.        , 0.        , 0.        , 0.        , 0.        ,\n         0.        , 0.        , 0.        , 0.        , 0.99609375,\n         0.99609375, 0.        , 0.        , 0.        , 0.        ,\n         0.        , 0.        , 0.        , 0.        , 0.        ,\n         0.        , 0.        , 0.        ],\n        [0.        , 0.        , 0.        , 0.        , 0.        ,\n         0.        , 0.        , 0.        , 0.        , 0.        ,\n         0.        , 0.        , 0.        , 0.        , 0.99609375,\n         0.99609375, 0.        , 0.        , 0.        , 0.        ,\n         0.        , 0.        , 0.        , 0.        , 0.        ,\n         0.        , 0.        , 0.        ],\n        [0.        , 0.        , 0.        , 0.        , 0.        ,\n         0.        , 0.        , 0.        , 0.        , 0.        ,\n         0.        , 0.        , 0.        , 0.        , 0.99609375,\n         0.99609375, 0.        , 0.        , 0.        , 0.        ,\n         0.        , 0.        , 0.        , 0.        , 0.        ,\n         0.        , 0.        , 0.        ],\n        [0.        , 0.        , 0.        , 0.        , 0.        ,\n         0.        , 0.        , 0.        , 0.        , 0.        ,\n         0.        , 0.        , 0.        , 0.99609375, 0.99609375,\n         0.99609375, 0.        , 0.        , 0.        , 0.        ,\n         0.        , 0.        , 0.        , 0.        , 0.        ,\n         0.        , 0.        , 0.        ],\n        [0.        , 0.        , 0.        , 0.        , 0.        ,\n         0.        , 0.        , 0.        , 0.        , 0.        ,\n         0.        , 0.        , 0.        , 0.99609375, 0.99609375,\n         0.        , 0.        , 0.        , 0.        , 0.        ,\n         0.        , 0.        , 0.        , 0.        , 0.        ,\n         0.        , 0.        , 0.        ],\n        [0.        , 0.        , 0.        , 0.        , 0.        ,\n         0.        , 0.        , 0.        , 0.        , 0.        ,\n         0.        , 0.        , 0.        , 0.99609375, 0.99609375,\n         0.        , 0.        , 0.        , 0.        , 0.        ,\n         0.        , 0.        , 0.        , 0.        , 0.        ,\n         0.        , 0.        , 0.        ],\n        [0.        , 0.        , 0.        , 0.        , 0.        ,\n         0.        , 0.        , 0.        , 0.        , 0.        ,\n         0.        , 0.        , 0.        , 0.99609375, 0.99609375,\n         0.        , 0.        , 0.        , 0.        , 0.        ,\n         0.        , 0.        , 0.        , 0.        , 0.        ,\n         0.        , 0.        , 0.        ],\n        [0.        , 0.        , 0.        , 0.        , 0.        ,\n         0.        , 0.        , 0.        , 0.        , 0.        ,\n         0.        , 0.        , 0.        , 0.99609375, 0.99609375,\n         0.        , 0.        , 0.        , 0.        , 0.        ,\n         0.        , 0.        , 0.        , 0.        , 0.        ,\n         0.        , 0.        , 0.        ],\n        [0.        , 0.        , 0.        , 0.        , 0.        ,\n         0.        , 0.        , 0.        , 0.        , 0.        ,\n         0.        , 0.        , 0.        , 0.99609375, 0.99609375,\n         0.        , 0.        , 0.        , 0.        , 0.        ,\n         0.        , 0.        , 0.        , 0.        , 0.        ,\n         0.        , 0.        , 0.        ],\n        [0.        , 0.        , 0.        , 0.        , 0.        ,\n         0.        , 0.        , 0.        , 0.        , 0.        ,\n         0.        , 0.        , 0.        , 0.99609375, 0.99609375,\n         0.        , 0.        , 0.        , 0.        , 0.        ,\n         0.        , 0.        , 0.        , 0.        , 0.        ,\n         0.        , 0.        , 0.        ],\n        [0.        , 0.        , 0.        , 0.        , 0.        ,\n         0.        , 0.        , 0.        , 0.        , 0.        ,\n         0.        , 0.        , 0.        , 0.        , 0.        ,\n         0.        , 0.        , 0.        , 0.        , 0.        ,\n         0.        , 0.        , 0.        , 0.        , 0.        ,\n         0.        , 0.        , 0.        ],\n        [0.        , 0.        , 0.        , 0.        , 0.        ,\n         0.        , 0.        , 0.        , 0.        , 0.        ,\n         0.        , 0.        , 0.        , 0.        , 0.        ,\n         0.        , 0.        , 0.        , 0.        , 0.        ,\n         0.        , 0.        , 0.        , 0.        , 0.        ,\n         0.        , 0.        , 0.        ],\n        [0.        , 0.        , 0.        , 0.        , 0.        ,\n         0.        , 0.        , 0.        , 0.        , 0.        ,\n         0.        , 0.        , 0.        , 0.        , 0.        ,\n         0.        , 0.        , 0.        , 0.        , 0.        ,\n         0.        , 0.        , 0.        , 0.        , 0.        ,\n         0.        , 0.        , 0.        ],\n        [0.        , 0.        , 0.        , 0.        , 0.        ,\n         0.        , 0.        , 0.        , 0.        , 0.        ,\n         0.        , 0.        , 0.        , 0.        , 0.        ,\n         0.        , 0.        , 0.        , 0.        , 0.        ,\n         0.        , 0.        , 0.        , 0.        , 0.        ,\n         0.        , 0.        , 0.        ]]])"
     },
     "execution_count": 473,
     "metadata": {},
     "output_type": "execute_result"
    }
   ]
  },
  {
   "cell_type": "code",
   "source": [
    "predictions = model.predict(image_arr)"
   ],
   "metadata": {
    "colab": {
     "base_uri": "https://localhost:8080/"
    },
    "id": "EyariJvKq9I5",
    "outputId": "96ec7404-f171-44ef-84d4-24f1fecf3d8a",
    "ExecuteTime": {
     "end_time": "2023-05-20T17:13:52.191090800Z",
     "start_time": "2023-05-20T17:13:52.144600400Z"
    }
   },
   "execution_count": 474,
   "outputs": [
    {
     "name": "stdout",
     "output_type": "stream",
     "text": [
      "1/1 [==============================] - 0s 122ms/step\n"
     ]
    }
   ]
  },
  {
   "cell_type": "code",
   "source": [
    "type(predictions)"
   ],
   "metadata": {
    "colab": {
     "base_uri": "https://localhost:8080/"
    },
    "id": "heaXmmnVrECX",
    "outputId": "4d94371d-f02f-4082-f071-9d7ce29392e8",
    "ExecuteTime": {
     "end_time": "2023-05-20T17:13:52.192091Z",
     "start_time": "2023-05-20T17:13:52.145600100Z"
    }
   },
   "execution_count": 475,
   "outputs": [
    {
     "data": {
      "text/plain": "numpy.ndarray"
     },
     "execution_count": 475,
     "metadata": {},
     "output_type": "execute_result"
    }
   ]
  },
  {
   "cell_type": "code",
   "source": [
    "predictions.shape"
   ],
   "metadata": {
    "colab": {
     "base_uri": "https://localhost:8080/"
    },
    "id": "y20yT8_srFab",
    "outputId": "adca1e01-f9c3-4c64-e507-7abc0db69d9e",
    "ExecuteTime": {
     "end_time": "2023-05-20T17:13:52.192091Z",
     "start_time": "2023-05-20T17:13:52.146601400Z"
    }
   },
   "execution_count": 476,
   "outputs": [
    {
     "data": {
      "text/plain": "(1, 10)"
     },
     "execution_count": 476,
     "metadata": {},
     "output_type": "execute_result"
    }
   ]
  },
  {
   "cell_type": "code",
   "source": [
    "predictions"
   ],
   "metadata": {
    "colab": {
     "base_uri": "https://localhost:8080/"
    },
    "id": "L7lBxuENrGhF",
    "outputId": "79858c1d-78d7-45fc-fea5-86c9f25b41e8",
    "ExecuteTime": {
     "end_time": "2023-05-20T17:13:52.192091Z",
     "start_time": "2023-05-20T17:13:52.146601400Z"
    }
   },
   "execution_count": 477,
   "outputs": [
    {
     "data": {
      "text/plain": "array([[-4.0661154,  9.75534  , -3.0946841, -4.691607 , -1.1752164,\n        -5.1567216, -0.6756068,  0.5014474, -1.2427821, -2.8917892]],\n      dtype=float32)"
     },
     "execution_count": 477,
     "metadata": {},
     "output_type": "execute_result"
    }
   ]
  },
  {
   "cell_type": "code",
   "source": [
    "probabilities = tf.nn.softmax(predictions)"
   ],
   "metadata": {
    "id": "M_U1gA_-rI6t",
    "ExecuteTime": {
     "end_time": "2023-05-20T17:13:52.192091Z",
     "start_time": "2023-05-20T17:13:52.147287400Z"
    }
   },
   "execution_count": 478,
   "outputs": []
  },
  {
   "cell_type": "code",
   "source": [
    "type(probabilities)"
   ],
   "metadata": {
    "colab": {
     "base_uri": "https://localhost:8080/"
    },
    "id": "vvuzn7tires2",
    "outputId": "ab37d341-1a95-4da3-9a8c-c480945b068c",
    "ExecuteTime": {
     "end_time": "2023-05-20T17:13:52.193105800Z",
     "start_time": "2023-05-20T17:13:52.147287400Z"
    }
   },
   "execution_count": 479,
   "outputs": [
    {
     "data": {
      "text/plain": "tensorflow.python.framework.ops.EagerTensor"
     },
     "execution_count": 479,
     "metadata": {},
     "output_type": "execute_result"
    }
   ]
  },
  {
   "cell_type": "code",
   "source": [
    "probabilities"
   ],
   "metadata": {
    "colab": {
     "base_uri": "https://localhost:8080/"
    },
    "id": "S8EQ1NhtrmR_",
    "outputId": "685eb4bf-c92a-4a96-ade9-4ae845a03873",
    "ExecuteTime": {
     "end_time": "2023-05-20T17:13:52.193105800Z",
     "start_time": "2023-05-20T17:13:52.147709600Z"
    }
   },
   "execution_count": 480,
   "outputs": [
    {
     "data": {
      "text/plain": "<tf.Tensor: shape=(1, 10), dtype=float32, numpy=\narray([[9.9390661e-07, 9.9983239e-01, 2.6256268e-06, 5.3173812e-07,\n        1.7899747e-05, 3.3396512e-07, 2.9500186e-05, 9.5722280e-05,\n        1.6730304e-05, 3.2162429e-06]], dtype=float32)>"
     },
     "execution_count": 480,
     "metadata": {},
     "output_type": "execute_result"
    }
   ]
  },
  {
   "cell_type": "code",
   "source": [
    "probabilities = probabilities.numpy()"
   ],
   "metadata": {
    "id": "2Ks-E-5xrnEd",
    "ExecuteTime": {
     "end_time": "2023-05-20T17:13:52.193105800Z",
     "start_time": "2023-05-20T17:13:52.147709600Z"
    }
   },
   "execution_count": 481,
   "outputs": []
  },
  {
   "cell_type": "code",
   "source": [
    "type(probabilities)"
   ],
   "metadata": {
    "colab": {
     "base_uri": "https://localhost:8080/"
    },
    "id": "IMhpYt1Crp8i",
    "outputId": "8941f459-a98f-4812-825f-2a86e7ee3e5d",
    "ExecuteTime": {
     "end_time": "2023-05-20T17:13:52.193105800Z",
     "start_time": "2023-05-20T17:13:52.147709600Z"
    }
   },
   "execution_count": 482,
   "outputs": [
    {
     "data": {
      "text/plain": "numpy.ndarray"
     },
     "execution_count": 482,
     "metadata": {},
     "output_type": "execute_result"
    }
   ]
  },
  {
   "cell_type": "code",
   "source": [
    "probabilities.shape"
   ],
   "metadata": {
    "colab": {
     "base_uri": "https://localhost:8080/"
    },
    "id": "QvNk8gNtrq7H",
    "outputId": "850e17a4-e0d9-4128-9476-b7db9006fe94",
    "ExecuteTime": {
     "end_time": "2023-05-20T17:13:52.193105800Z",
     "start_time": "2023-05-20T17:13:52.148732100Z"
    }
   },
   "execution_count": 483,
   "outputs": [
    {
     "data": {
      "text/plain": "(1, 10)"
     },
     "execution_count": 483,
     "metadata": {},
     "output_type": "execute_result"
    }
   ]
  },
  {
   "cell_type": "code",
   "source": [
    "probabilities"
   ],
   "metadata": {
    "colab": {
     "base_uri": "https://localhost:8080/"
    },
    "id": "a92U3OhNrr7g",
    "outputId": "c9768e8b-d4ea-403b-ee75-e4e13fe0ab95",
    "ExecuteTime": {
     "end_time": "2023-05-20T17:13:52.193105800Z",
     "start_time": "2023-05-20T17:13:52.148732100Z"
    }
   },
   "execution_count": 484,
   "outputs": [
    {
     "data": {
      "text/plain": "array([[9.9390661e-07, 9.9983239e-01, 2.6256268e-06, 5.3173812e-07,\n        1.7899747e-05, 3.3396512e-07, 2.9500186e-05, 9.5722280e-05,\n        1.6730304e-05, 3.2162429e-06]], dtype=float32)"
     },
     "execution_count": 484,
     "metadata": {},
     "output_type": "execute_result"
    }
   ]
  },
  {
   "cell_type": "code",
   "source": [
    "y_pred = np.argmax(probabilities)"
   ],
   "metadata": {
    "id": "R1AphVU5rsk4",
    "ExecuteTime": {
     "end_time": "2023-05-20T17:13:52.193105800Z",
     "start_time": "2023-05-20T17:13:52.148732100Z"
    }
   },
   "execution_count": 485,
   "outputs": []
  },
  {
   "cell_type": "code",
   "source": [
    "type(y_pred)"
   ],
   "metadata": {
    "colab": {
     "base_uri": "https://localhost:8080/"
    },
    "id": "gw8MrACArzIk",
    "outputId": "1b9f7a16-844a-4aec-d15f-56993c1e2f91",
    "ExecuteTime": {
     "end_time": "2023-05-20T17:13:52.194089900Z",
     "start_time": "2023-05-20T17:13:52.148732100Z"
    }
   },
   "execution_count": 486,
   "outputs": [
    {
     "data": {
      "text/plain": "numpy.int64"
     },
     "execution_count": 486,
     "metadata": {},
     "output_type": "execute_result"
    }
   ]
  },
  {
   "cell_type": "code",
   "source": [
    "y_pred"
   ],
   "metadata": {
    "colab": {
     "base_uri": "https://localhost:8080/"
    },
    "id": "Q9rVWo67r1Ez",
    "outputId": "27ef4886-074e-400f-c4af-80dc1927b622",
    "ExecuteTime": {
     "end_time": "2023-05-20T17:13:52.194089900Z",
     "start_time": "2023-05-20T17:13:52.149711200Z"
    }
   },
   "execution_count": 487,
   "outputs": [
    {
     "data": {
      "text/plain": "1"
     },
     "execution_count": 487,
     "metadata": {},
     "output_type": "execute_result"
    }
   ]
  },
  {
   "cell_type": "code",
   "execution_count": 488,
   "outputs": [],
   "source": [
    "def simple_classify_one(test_pic_file):\n",
    "    image = Image.open(f'{dir}/{test_pic_file}').convert('L').resize((28, 28))  # grayscale 28x28\n",
    "    image_arr = np.array(image) / 256.\n",
    "    image_arr = np.expand_dims(image_arr, axis=0)\n",
    "    predictions = model.predict(image_arr)\n",
    "    probabilities = tf.nn.softmax(predictions)\n",
    "    y_pred = np.argmax(probabilities)\n",
    "    y_pred_confidence = float(probabilities[0][y_pred])\n",
    "    print(f'Classification: {y_pred}. Confidence: {round(y_pred_confidence * 100., 2)}%')"
   ],
   "metadata": {
    "collapsed": false,
    "ExecuteTime": {
     "end_time": "2023-05-20T17:13:52.194089900Z",
     "start_time": "2023-05-20T17:13:52.149711200Z"
    }
   }
  },
  {
   "cell_type": "code",
   "source": [
    "simple_classify_one('test_1.png')"
   ],
   "metadata": {
    "colab": {
     "base_uri": "https://localhost:8080/"
    },
    "id": "HhUMWwDDr2yP",
    "outputId": "9266834f-cefb-44e7-b73a-c8dbbc0fd726",
    "ExecuteTime": {
     "end_time": "2023-05-20T17:13:52.501920800Z",
     "start_time": "2023-05-20T17:13:52.166883300Z"
    }
   },
   "execution_count": 489,
   "outputs": [
    {
     "name": "stdout",
     "output_type": "stream",
     "text": [
      "1/1 [==============================] - 0s 35ms/step\n",
      "Classification: 1. Confidence: 99.98%\n"
     ]
    }
   ]
  },
  {
   "cell_type": "code",
   "source": [
    "simple_classify_one('test_3.png')"
   ],
   "metadata": {
    "id": "DTvmWcZet6qc",
    "ExecuteTime": {
     "end_time": "2023-05-20T17:13:52.513843900Z",
     "start_time": "2023-05-20T17:13:52.334829600Z"
    }
   },
   "execution_count": 490,
   "outputs": [
    {
     "name": "stdout",
     "output_type": "stream",
     "text": [
      "1/1 [==============================] - 0s 28ms/step\n",
      "Classification: 3. Confidence: 100.0%\n"
     ]
    }
   ]
  },
  {
   "cell_type": "code",
   "execution_count": 491,
   "outputs": [
    {
     "name": "stdout",
     "output_type": "stream",
     "text": [
      "1/1 [==============================] - 0s 59ms/step\n",
      "Classification: 3. Confidence: 81.19%\n"
     ]
    }
   ],
   "source": [
    "simple_classify_one('test_8.png')"
   ],
   "metadata": {
    "collapsed": false,
    "ExecuteTime": {
     "end_time": "2023-05-20T17:13:52.718744500Z",
     "start_time": "2023-05-20T17:13:52.516844700Z"
    }
   }
  },
  {
   "cell_type": "code",
   "execution_count": 492,
   "outputs": [
    {
     "name": "stdout",
     "output_type": "stream",
     "text": [
      "1/1 [==============================] - 0s 48ms/step\n",
      "Classification: 3. Confidence: 98.28%\n"
     ]
    }
   ],
   "source": [
    "simple_classify_one('test_9.png')"
   ],
   "metadata": {
    "collapsed": false,
    "ExecuteTime": {
     "end_time": "2023-05-20T17:13:52.934106800Z",
     "start_time": "2023-05-20T17:13:52.722867300Z"
    }
   }
  },
  {
   "cell_type": "markdown",
   "source": [
    "# 2. CNN"
   ],
   "metadata": {
    "id": "cDaNZsSlycO8"
   }
  },
  {
   "cell_type": "code",
   "source": [],
   "metadata": {
    "id": "fUO52utYydl3",
    "ExecuteTime": {
     "end_time": "2023-05-20T17:13:52.953980400Z",
     "start_time": "2023-05-20T17:13:52.938830200Z"
    }
   },
   "execution_count": 492,
   "outputs": []
  }
 ]
}
