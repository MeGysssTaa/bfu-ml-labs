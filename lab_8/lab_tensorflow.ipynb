{
 "nbformat": 4,
 "nbformat_minor": 0,
 "metadata": {
  "colab": {
   "provenance": []
  },
  "kernelspec": {
   "name": "python3",
   "language": "python",
   "display_name": "Python 3 (ipykernel)"
  },
  "language_info": {
   "name": "python"
  }
 },
 "cells": [
  {
   "cell_type": "code",
   "execution_count": 750,
   "outputs": [],
   "source": [
    "dir = 'D:/projects/datascience/bfu-ml-labs/lab_8'"
   ],
   "metadata": {
    "collapsed": false,
    "ExecuteTime": {
     "end_time": "2023-05-21T11:03:50.403704Z",
     "start_time": "2023-05-21T11:03:49.916704300Z"
    }
   }
  },
  {
   "cell_type": "code",
   "execution_count": 751,
   "metadata": {
    "id": "MHxedL0_dm3v",
    "ExecuteTime": {
     "end_time": "2023-05-21T11:03:51.014707800Z",
     "start_time": "2023-05-21T11:03:49.938703300Z"
    }
   },
   "outputs": [],
   "source": [
    "import tensorflow as tf\n",
    "import tensorflow_datasets as tfds"
   ]
  },
  {
   "cell_type": "code",
   "execution_count": 752,
   "outputs": [
    {
     "name": "stdout",
     "output_type": "stream",
     "text": [
      "CUDA:  False\n"
     ]
    }
   ],
   "source": [
    "print(\"CUDA: \", tf.test.is_built_with_cuda())"
   ],
   "metadata": {
    "collapsed": false,
    "ExecuteTime": {
     "end_time": "2023-05-21T11:03:51.015703900Z",
     "start_time": "2023-05-21T11:03:49.965703500Z"
    }
   }
  },
  {
   "cell_type": "code",
   "execution_count": 753,
   "outputs": [],
   "source": [
    "tf.random.set_seed(123)"
   ],
   "metadata": {
    "collapsed": false,
    "ExecuteTime": {
     "end_time": "2023-05-21T11:03:51.220703200Z",
     "start_time": "2023-05-21T11:03:49.970703800Z"
    }
   }
  },
  {
   "cell_type": "code",
   "source": [
    "(ds_train, ds_test), ds_info = tfds.load(\n",
    "    'mnist',\n",
    "    split=['train', 'test'],\n",
    "    shuffle_files=True,\n",
    "    as_supervised=True,\n",
    "    with_info=True,\n",
    ")"
   ],
   "metadata": {
    "id": "UIHcvK3odoZ3",
    "ExecuteTime": {
     "end_time": "2023-05-21T11:03:51.225704500Z",
     "start_time": "2023-05-21T11:03:50.000705900Z"
    }
   },
   "execution_count": 754,
   "outputs": []
  },
  {
   "cell_type": "code",
   "source": [
    "type(ds_train)"
   ],
   "metadata": {
    "colab": {
     "base_uri": "https://localhost:8080/"
    },
    "id": "wgyKQeKzeZbP",
    "outputId": "a17ea6d4-a2c1-4a4a-8e93-67253956eeec",
    "ExecuteTime": {
     "end_time": "2023-05-21T11:03:51.246705300Z",
     "start_time": "2023-05-21T11:03:50.206703800Z"
    }
   },
   "execution_count": 755,
   "outputs": [
    {
     "data": {
      "text/plain": "tensorflow.python.data.ops.prefetch_op._PrefetchDataset"
     },
     "execution_count": 755,
     "metadata": {},
     "output_type": "execute_result"
    }
   ]
  },
  {
   "cell_type": "code",
   "source": [
    "ds_train"
   ],
   "metadata": {
    "colab": {
     "base_uri": "https://localhost:8080/"
    },
    "id": "jtOiSJfAenyG",
    "outputId": "93c8a4cd-ab2c-4479-8c4f-f8385b24d8f3",
    "ExecuteTime": {
     "end_time": "2023-05-21T11:03:51.247719Z",
     "start_time": "2023-05-21T11:03:50.225706300Z"
    }
   },
   "execution_count": 756,
   "outputs": [
    {
     "data": {
      "text/plain": "<_PrefetchDataset element_spec=(TensorSpec(shape=(28, 28, 1), dtype=tf.uint8, name=None), TensorSpec(shape=(), dtype=tf.int64, name=None))>"
     },
     "execution_count": 756,
     "metadata": {},
     "output_type": "execute_result"
    }
   ]
  },
  {
   "cell_type": "code",
   "source": [
    "type(ds_test)"
   ],
   "metadata": {
    "colab": {
     "base_uri": "https://localhost:8080/"
    },
    "id": "MJAX-06eeoMM",
    "outputId": "4195da32-6cc6-4708-f77c-fb337d7aa327",
    "ExecuteTime": {
     "end_time": "2023-05-21T11:03:51.247719Z",
     "start_time": "2023-05-21T11:03:50.237704800Z"
    }
   },
   "execution_count": 757,
   "outputs": [
    {
     "data": {
      "text/plain": "tensorflow.python.data.ops.prefetch_op._PrefetchDataset"
     },
     "execution_count": 757,
     "metadata": {},
     "output_type": "execute_result"
    }
   ]
  },
  {
   "cell_type": "code",
   "source": [
    "ds_test"
   ],
   "metadata": {
    "colab": {
     "base_uri": "https://localhost:8080/"
    },
    "id": "Cw-_GTyQeo0x",
    "outputId": "db66bb79-6003-44aa-d787-4bea9277db69",
    "ExecuteTime": {
     "end_time": "2023-05-21T11:03:51.247719Z",
     "start_time": "2023-05-21T11:03:50.254705400Z"
    }
   },
   "execution_count": 758,
   "outputs": [
    {
     "data": {
      "text/plain": "<_PrefetchDataset element_spec=(TensorSpec(shape=(28, 28, 1), dtype=tf.uint8, name=None), TensorSpec(shape=(), dtype=tf.int64, name=None))>"
     },
     "execution_count": 758,
     "metadata": {},
     "output_type": "execute_result"
    }
   ]
  },
  {
   "cell_type": "code",
   "source": [
    "type(ds_info)"
   ],
   "metadata": {
    "colab": {
     "base_uri": "https://localhost:8080/"
    },
    "id": "hBF7eUZIepOw",
    "outputId": "f9b9ad6c-dd48-4394-f031-e622586cbbe8",
    "ExecuteTime": {
     "end_time": "2023-05-21T11:03:51.248704600Z",
     "start_time": "2023-05-21T11:03:50.275705500Z"
    }
   },
   "execution_count": 759,
   "outputs": [
    {
     "data": {
      "text/plain": "tensorflow_datasets.core.dataset_info.DatasetInfo"
     },
     "execution_count": 759,
     "metadata": {},
     "output_type": "execute_result"
    }
   ]
  },
  {
   "cell_type": "code",
   "source": [
    "ds_info"
   ],
   "metadata": {
    "colab": {
     "base_uri": "https://localhost:8080/"
    },
    "id": "xYZff90Zep4H",
    "outputId": "67c27d02-a412-487a-c26a-3700b6866ac4",
    "ExecuteTime": {
     "end_time": "2023-05-21T11:03:51.248704600Z",
     "start_time": "2023-05-21T11:03:50.285705100Z"
    }
   },
   "execution_count": 760,
   "outputs": [
    {
     "data": {
      "text/plain": "tfds.core.DatasetInfo(\n    name='mnist',\n    full_name='mnist/3.0.1',\n    description=\"\"\"\n    The MNIST database of handwritten digits.\n    \"\"\",\n    homepage='http://yann.lecun.com/exdb/mnist/',\n    data_path='C:\\\\Users\\\\German\\\\tensorflow_datasets\\\\mnist\\\\3.0.1',\n    file_format=tfrecord,\n    download_size=11.06 MiB,\n    dataset_size=21.00 MiB,\n    features=FeaturesDict({\n        'image': Image(shape=(28, 28, 1), dtype=uint8),\n        'label': ClassLabel(shape=(), dtype=int64, num_classes=10),\n    }),\n    supervised_keys=('image', 'label'),\n    disable_shuffling=False,\n    splits={\n        'test': <SplitInfo num_examples=10000, num_shards=1>,\n        'train': <SplitInfo num_examples=60000, num_shards=1>,\n    },\n    citation=\"\"\"@article{lecun2010mnist,\n      title={MNIST handwritten digit database},\n      author={LeCun, Yann and Cortes, Corinna and Burges, CJ},\n      journal={ATT Labs [Online]. Available: http://yann.lecun.com/exdb/mnist},\n      volume={2},\n      year={2010}\n    }\"\"\",\n)"
     },
     "execution_count": 760,
     "metadata": {},
     "output_type": "execute_result"
    }
   ]
  },
  {
   "cell_type": "code",
   "source": [
    "def normalize_image(image_, label_):\n",
    "    return tf.cast(image_, tf.float32) / 255., label_"
   ],
   "metadata": {
    "id": "Pyhr_Dy1eqVO",
    "ExecuteTime": {
     "end_time": "2023-05-21T11:03:51.248704600Z",
     "start_time": "2023-05-21T11:03:50.301705400Z"
    }
   },
   "execution_count": 761,
   "outputs": []
  },
  {
   "cell_type": "code",
   "execution_count": 762,
   "outputs": [],
   "source": [
    "ds_train = ds_train.map(normalize_image, num_parallel_calls=tf.data.AUTOTUNE)\n",
    "# Don't, as we'll re-read the dataset again later for some visualization/testing:     ds_train = ds_train.cache()  # don't!\n",
    "ds_train = ds_train.shuffle(ds_info.splits['train'].num_examples)\n",
    "ds_train = ds_train.batch(128, drop_remainder=True)\n",
    "ds_train = ds_train.prefetch(tf.data.AUTOTUNE)"
   ],
   "metadata": {
    "collapsed": false,
    "ExecuteTime": {
     "end_time": "2023-05-21T11:03:51.248704600Z",
     "start_time": "2023-05-21T11:03:50.318704800Z"
    }
   }
  },
  {
   "cell_type": "code",
   "source": [
    "ds_test = ds_test.map(normalize_image, num_parallel_calls=tf.data.AUTOTUNE)\n",
    "ds_test = ds_test.batch(128, drop_remainder=True)\n",
    "# Don't, as we'll re-read the dataset again later for some visualization/testing:    ds_test = ds_test.cache()  # don't!\n",
    "ds_test = ds_test.prefetch(tf.data.AUTOTUNE)"
   ],
   "metadata": {
    "id": "k3uHl4gmgwC9",
    "ExecuteTime": {
     "end_time": "2023-05-21T11:03:51.248704600Z",
     "start_time": "2023-05-21T11:03:50.366704300Z"
    }
   },
   "execution_count": 763,
   "outputs": []
  },
  {
   "cell_type": "markdown",
   "source": [
    "# 1. MLP"
   ],
   "metadata": {
    "id": "ZuSxCWUIyUos"
   }
  },
  {
   "cell_type": "code",
   "source": [
    "model = tf.keras.models.Sequential([\n",
    "    # Input layer (28*28=784 neurons).\n",
    "    tf.keras.layers.Flatten(input_shape=(28, 28)),\n",
    "    # 3 hidden fully-connected layers (simple feed-forward), each with 100 neurons and with ReLU activation.\n",
    "    # Each neuron of each layer here is connected to all output values from the previous layer, hence \"fully-connected\".\n",
    "    tf.keras.layers.Dense(100, activation='relu'),\n",
    "    tf.keras.layers.Dense(100, activation='relu'),\n",
    "    tf.keras.layers.Dense(100, activation='relu'),\n",
    "    # Output layer (10 neurons: one for each possible digit (target label) in the dataset: 0, 1, ..., 9).\n",
    "    tf.keras.layers.Dense(10, activation='softmax')\n",
    "])\n",
    "\n",
    "model.compile(\n",
    "    optimizer=tf.keras.optimizers.Adam(0.001),\n",
    "    loss=tf.keras.losses.SparseCategoricalCrossentropy(),\n",
    "    metrics=[tf.keras.metrics.SparseCategoricalAccuracy()],\n",
    ")\n",
    "\n",
    "history = model.fit(\n",
    "    ds_train,\n",
    "    epochs=5,\n",
    "    validation_data=ds_test,\n",
    ")"
   ],
   "metadata": {
    "colab": {
     "base_uri": "https://localhost:8080/"
    },
    "id": "_tI3JVuNiqGe",
    "outputId": "22062f9a-d11d-41b6-abc1-28d94c38a6ea",
    "ExecuteTime": {
     "end_time": "2023-05-21T11:04:16.321294Z",
     "start_time": "2023-05-21T11:03:50.397707600Z"
    }
   },
   "execution_count": 764,
   "outputs": [
    {
     "name": "stdout",
     "output_type": "stream",
     "text": [
      "Epoch 1/5\n",
      "468/468 [==============================] - 9s 7ms/step - loss: 0.3307 - sparse_categorical_accuracy: 0.9035 - val_loss: 0.1501 - val_sparse_categorical_accuracy: 0.9559\n",
      "Epoch 2/5\n",
      "468/468 [==============================] - 4s 5ms/step - loss: 0.1238 - sparse_categorical_accuracy: 0.9626 - val_loss: 0.1185 - val_sparse_categorical_accuracy: 0.9639\n",
      "Epoch 3/5\n",
      "468/468 [==============================] - 4s 6ms/step - loss: 0.0894 - sparse_categorical_accuracy: 0.9726 - val_loss: 0.0977 - val_sparse_categorical_accuracy: 0.9689\n",
      "Epoch 4/5\n",
      "468/468 [==============================] - 4s 7ms/step - loss: 0.0693 - sparse_categorical_accuracy: 0.9790 - val_loss: 0.0879 - val_sparse_categorical_accuracy: 0.9738\n",
      "Epoch 5/5\n",
      "468/468 [==============================] - 5s 5ms/step - loss: 0.0537 - sparse_categorical_accuracy: 0.9833 - val_loss: 0.0855 - val_sparse_categorical_accuracy: 0.9748\n"
     ]
    }
   ]
  },
  {
   "cell_type": "code",
   "source": [
    "model.summary()"
   ],
   "metadata": {
    "colab": {
     "base_uri": "https://localhost:8080/"
    },
    "id": "xxfqaN7p12gw",
    "outputId": "ae0d14ad-73de-4cb9-cf78-2c7a6bb3a54a",
    "ExecuteTime": {
     "end_time": "2023-05-21T11:04:16.366293300Z",
     "start_time": "2023-05-21T11:04:16.322294500Z"
    }
   },
   "execution_count": 765,
   "outputs": [
    {
     "name": "stdout",
     "output_type": "stream",
     "text": [
      "Model: \"sequential_18\"\n",
      "_________________________________________________________________\n",
      " Layer (type)                Output Shape              Param #   \n",
      "=================================================================\n",
      " flatten_18 (Flatten)        (None, 784)               0         \n",
      "                                                                 \n",
      " dense_60 (Dense)            (None, 100)               78500     \n",
      "                                                                 \n",
      " dense_61 (Dense)            (None, 100)               10100     \n",
      "                                                                 \n",
      " dense_62 (Dense)            (None, 100)               10100     \n",
      "                                                                 \n",
      " dense_63 (Dense)            (None, 10)                1010      \n",
      "                                                                 \n",
      "=================================================================\n",
      "Total params: 99,710\n",
      "Trainable params: 99,710\n",
      "Non-trainable params: 0\n",
      "_________________________________________________________________\n"
     ]
    }
   ]
  },
  {
   "cell_type": "code",
   "source": [
    "import numpy as np\n",
    "\n",
    "X_test = []\n",
    "y_test = []\n",
    "\n",
    "for image, label in ds_test.unbatch().as_numpy_iterator():\n",
    "    X_test.append(image)\n",
    "    y_test.append(label)\n",
    "\n",
    "X_test = np.array(X_test)\n",
    "y_test = np.array(y_test)"
   ],
   "metadata": {
    "id": "0fCy3nav2G44",
    "ExecuteTime": {
     "end_time": "2023-05-21T11:04:19.302292200Z",
     "start_time": "2023-05-21T11:04:16.358295700Z"
    }
   },
   "execution_count": 766,
   "outputs": []
  },
  {
   "cell_type": "code",
   "source": [
    "X_test.shape"
   ],
   "metadata": {
    "colab": {
     "base_uri": "https://localhost:8080/"
    },
    "id": "EVZQ2PPG6848",
    "outputId": "e57038fa-1175-41ac-d2ac-7333530ba7b9",
    "ExecuteTime": {
     "end_time": "2023-05-21T11:04:19.316291300Z",
     "start_time": "2023-05-21T11:04:19.306293800Z"
    }
   },
   "execution_count": 767,
   "outputs": [
    {
     "data": {
      "text/plain": "(9984, 28, 28, 1)"
     },
     "execution_count": 767,
     "metadata": {},
     "output_type": "execute_result"
    }
   ]
  },
  {
   "cell_type": "code",
   "source": [
    "y_test.shape"
   ],
   "metadata": {
    "colab": {
     "base_uri": "https://localhost:8080/"
    },
    "id": "HdZEqCox69U8",
    "outputId": "fc44f971-9941-421f-8f94-5b1b87b333e4",
    "ExecuteTime": {
     "end_time": "2023-05-21T11:04:19.391292500Z",
     "start_time": "2023-05-21T11:04:19.320294200Z"
    }
   },
   "execution_count": 768,
   "outputs": [
    {
     "data": {
      "text/plain": "(9984,)"
     },
     "execution_count": 768,
     "metadata": {},
     "output_type": "execute_result"
    }
   ]
  },
  {
   "cell_type": "code",
   "execution_count": 769,
   "outputs": [
    {
     "name": "stdout",
     "output_type": "stream",
     "text": [
      "312/312 [==============================] - 7s 2ms/step\n"
     ]
    }
   ],
   "source": [
    "y_pred = model.predict(X_test)"
   ],
   "metadata": {
    "collapsed": false,
    "ExecuteTime": {
     "end_time": "2023-05-21T11:04:26.806654500Z",
     "start_time": "2023-05-21T11:04:19.335296500Z"
    }
   }
  },
  {
   "cell_type": "code",
   "execution_count": 770,
   "outputs": [
    {
     "data": {
      "text/plain": "numpy.ndarray"
     },
     "execution_count": 770,
     "metadata": {},
     "output_type": "execute_result"
    }
   ],
   "source": [
    "type(y_pred)"
   ],
   "metadata": {
    "collapsed": false,
    "ExecuteTime": {
     "end_time": "2023-05-21T11:04:26.829969500Z",
     "start_time": "2023-05-21T11:04:26.805652100Z"
    }
   }
  },
  {
   "cell_type": "code",
   "execution_count": 771,
   "outputs": [
    {
     "data": {
      "text/plain": "(9984, 10)"
     },
     "execution_count": 771,
     "metadata": {},
     "output_type": "execute_result"
    }
   ],
   "source": [
    "y_pred.shape"
   ],
   "metadata": {
    "collapsed": false,
    "ExecuteTime": {
     "end_time": "2023-05-21T11:04:26.880970200Z",
     "start_time": "2023-05-21T11:04:26.829969500Z"
    }
   }
  },
  {
   "cell_type": "code",
   "execution_count": 772,
   "outputs": [
    {
     "data": {
      "text/plain": "array([7.0265848e-08, 2.6504247e-07, 9.9991381e-01, 3.8249196e-05,\n       1.3502066e-07, 1.2267549e-07, 8.9545807e-07, 1.9644874e-06,\n       4.4286691e-05, 7.6433153e-09], dtype=float32)"
     },
     "execution_count": 772,
     "metadata": {},
     "output_type": "execute_result"
    }
   ],
   "source": [
    "y_pred[0]"
   ],
   "metadata": {
    "collapsed": false,
    "ExecuteTime": {
     "end_time": "2023-05-21T11:04:26.881973500Z",
     "start_time": "2023-05-21T11:04:26.834971400Z"
    }
   }
  },
  {
   "cell_type": "code",
   "execution_count": 773,
   "outputs": [],
   "source": [
    "y_pred_classes = np.argmax(y_pred, axis=1)"
   ],
   "metadata": {
    "collapsed": false,
    "ExecuteTime": {
     "end_time": "2023-05-21T11:04:26.881973500Z",
     "start_time": "2023-05-21T11:04:26.852971300Z"
    }
   }
  },
  {
   "cell_type": "code",
   "execution_count": 774,
   "outputs": [
    {
     "data": {
      "text/plain": "2"
     },
     "execution_count": 774,
     "metadata": {},
     "output_type": "execute_result"
    }
   ],
   "source": [
    "y_pred_classes[0]"
   ],
   "metadata": {
    "collapsed": false,
    "ExecuteTime": {
     "end_time": "2023-05-21T11:04:26.882978400Z",
     "start_time": "2023-05-21T11:04:26.866970800Z"
    }
   }
  },
  {
   "cell_type": "code",
   "execution_count": 775,
   "outputs": [
    {
     "name": "stdout",
     "output_type": "stream",
     "text": [
      "              precision    recall  f1-score   support\n",
      "\n",
      "           0       0.98      0.99      0.99       978\n",
      "           1       0.98      0.99      0.99      1133\n",
      "           2       0.99      0.97      0.98      1030\n",
      "           3       0.95      0.98      0.97      1009\n",
      "           4       0.98      0.97      0.98       980\n",
      "           5       0.96      0.97      0.97       888\n",
      "           6       0.98      0.97      0.98       958\n",
      "           7       0.97      0.97      0.97      1027\n",
      "           8       0.97      0.95      0.96       973\n",
      "           9       0.97      0.97      0.97      1008\n",
      "\n",
      "    accuracy                           0.97      9984\n",
      "   macro avg       0.97      0.97      0.97      9984\n",
      "weighted avg       0.97      0.97      0.97      9984\n",
      "\n"
     ]
    }
   ],
   "source": [
    "from sklearn.metrics import classification_report\n",
    "\n",
    "print(classification_report(y_test, y_pred_classes))"
   ],
   "metadata": {
    "collapsed": false,
    "ExecuteTime": {
     "end_time": "2023-05-21T11:04:26.978983400Z",
     "start_time": "2023-05-21T11:04:26.885971400Z"
    }
   }
  },
  {
   "cell_type": "code",
   "execution_count": 776,
   "outputs": [],
   "source": [
    "import matplotlib.pyplot as plt\n",
    "\n",
    "\n",
    "def plot_bars(model_name, y_pred_):\n",
    "    metric = 'f1-score'\n",
    "\n",
    "    report = classification_report(y_test, y_pred_, output_dict=True)\n",
    "    keys = range(10)\n",
    "    values = [report[str(k)][metric] for k in keys]\n",
    "\n",
    "    plt.figure(figsize=(5, 5))\n",
    "\n",
    "    plt.bar(keys, values)\n",
    "    plt.axhline(np.asarray(values).mean(), c='green', linestyle='dashed')  # average\n",
    "    plt.axhline(1., c='cyan', linestyle='dashed')  # perfect\n",
    "\n",
    "    plt.xticks(keys)\n",
    "    plt.yticks(np.arange(0., 1.05, 0.05))\n",
    "    plt.xlabel('digit')\n",
    "    plt.ylabel(metric)\n",
    "    plt.title('Handwritten Digits Recognition: ' + model_name)\n",
    "\n",
    "    plt.show()"
   ],
   "metadata": {
    "collapsed": false,
    "ExecuteTime": {
     "end_time": "2023-05-21T11:04:26.979969900Z",
     "start_time": "2023-05-21T11:04:26.955978800Z"
    }
   }
  },
  {
   "cell_type": "code",
   "execution_count": 777,
   "outputs": [
    {
     "data": {
      "text/plain": "<Figure size 500x500 with 1 Axes>",
      "image/png": "[encoded data removed]"
     },
     "metadata": {},
     "output_type": "display_data"
    }
   ],
   "source": [
    "plot_bars('TensorFlow MLP', y_pred_classes)"
   ],
   "metadata": {
    "collapsed": false,
    "ExecuteTime": {
     "end_time": "2023-05-21T11:04:27.336970500Z",
     "start_time": "2023-05-21T11:04:26.969973300Z"
    }
   }
  },
  {
   "cell_type": "code",
   "execution_count": 778,
   "outputs": [],
   "source": [
    "def plot_learning_curve(history_):\n",
    "    plt.figure(figsize=(10, 3))\n",
    "\n",
    "    # Accuracy\n",
    "    plt.subplot(1, 2, 1)\n",
    "    plt.plot(history_.history['sparse_categorical_accuracy'], label='Training Accuracy')\n",
    "    plt.plot(history_.history['val_sparse_categorical_accuracy'], label='Validation Accuracy')\n",
    "    plt.legend()\n",
    "    plt.xticks(range(len(history_.history)))\n",
    "    plt.xlabel('Epoch')\n",
    "    plt.ylabel('Accuracy')\n",
    "    plt.title('Model Accuracy')\n",
    "\n",
    "    # Loss\n",
    "    plt.subplot(1, 2, 2)\n",
    "    plt.plot(history.history['loss'], label='Training Loss')\n",
    "    plt.plot(history.history['val_loss'], label='Validation Loss')\n",
    "    plt.legend()\n",
    "    plt.xticks(range(len(history_.history)))\n",
    "    plt.xlabel('Epoch')\n",
    "    plt.ylabel('Loss')\n",
    "    plt.title('Model Loss')\n",
    "\n",
    "    plt.show()"
   ],
   "metadata": {
    "collapsed": false,
    "ExecuteTime": {
     "end_time": "2023-05-21T11:04:27.382971300Z",
     "start_time": "2023-05-21T11:04:27.345972100Z"
    }
   }
  },
  {
   "cell_type": "code",
   "execution_count": 779,
   "outputs": [
    {
     "data": {
      "text/plain": "<Figure size 1000x300 with 2 Axes>",
      "image/png": "[encoded data removed]"
     },
     "metadata": {},
     "output_type": "display_data"
    }
   ],
   "source": [
    "plot_learning_curve(history)"
   ],
   "metadata": {
    "collapsed": false,
    "ExecuteTime": {
     "end_time": "2023-05-21T11:04:27.797973600Z",
     "start_time": "2023-05-21T11:04:27.352971100Z"
    }
   }
  },
  {
   "cell_type": "code",
   "source": [
    "from PIL import Image"
   ],
   "metadata": {
    "id": "z0xfPSjyi_VA",
    "ExecuteTime": {
     "end_time": "2023-05-21T11:04:27.810974500Z",
     "start_time": "2023-05-21T11:04:27.798974800Z"
    }
   },
   "execution_count": 780,
   "outputs": []
  },
  {
   "cell_type": "code",
   "source": [
    "image = Image.open(f'{dir}/test_1.png').convert('L').resize((28, 28))  # grayscale 28x28\n",
    "image"
   ],
   "metadata": {
    "colab": {
     "base_uri": "https://localhost:8080/",
     "height": 45
    },
    "id": "wlBeSgBaotiR",
    "outputId": "0670824e-1216-4875-998e-4ab18b7c2c04",
    "ExecuteTime": {
     "end_time": "2023-05-21T11:04:27.874969700Z",
     "start_time": "2023-05-21T11:04:27.812972Z"
    }
   },
   "execution_count": 781,
   "outputs": [
    {
     "data": {
      "text/plain": "<PIL.Image.Image image mode=L size=28x28>",
      "image/png": "[encoded data removed]"
     },
     "execution_count": 781,
     "metadata": {},
     "output_type": "execute_result"
    }
   ]
  },
  {
   "cell_type": "code",
   "source": [
    "import numpy as np"
   ],
   "metadata": {
    "id": "pfpXwuQFqQNz",
    "ExecuteTime": {
     "end_time": "2023-05-21T11:04:27.875972900Z",
     "start_time": "2023-05-21T11:04:27.832972700Z"
    }
   },
   "execution_count": 782,
   "outputs": []
  },
  {
   "cell_type": "code",
   "source": [
    "image_arr = np.array(image) / 256."
   ],
   "metadata": {
    "id": "gFFZhEsgpVyK",
    "ExecuteTime": {
     "end_time": "2023-05-21T11:04:27.876972500Z",
     "start_time": "2023-05-21T11:04:27.843972300Z"
    }
   },
   "execution_count": 783,
   "outputs": []
  },
  {
   "cell_type": "code",
   "source": [
    "type(image_arr)"
   ],
   "metadata": {
    "colab": {
     "base_uri": "https://localhost:8080/"
    },
    "id": "wNUazj27qNgp",
    "outputId": "f8ebb853-8c68-431e-d354-1300fa7f217f",
    "ExecuteTime": {
     "end_time": "2023-05-21T11:04:27.876972500Z",
     "start_time": "2023-05-21T11:04:27.858971400Z"
    }
   },
   "execution_count": 784,
   "outputs": [
    {
     "data": {
      "text/plain": "numpy.ndarray"
     },
     "execution_count": 784,
     "metadata": {},
     "output_type": "execute_result"
    }
   ]
  },
  {
   "cell_type": "code",
   "source": [
    "image_arr.shape"
   ],
   "metadata": {
    "colab": {
     "base_uri": "https://localhost:8080/"
    },
    "id": "7wvTFewbqci0",
    "outputId": "88087aa2-0cbc-4faf-ca8a-fcdb166932ee",
    "ExecuteTime": {
     "end_time": "2023-05-21T11:04:27.890970300Z",
     "start_time": "2023-05-21T11:04:27.874969700Z"
    }
   },
   "execution_count": 785,
   "outputs": [
    {
     "data": {
      "text/plain": "(28, 28)"
     },
     "execution_count": 785,
     "metadata": {},
     "output_type": "execute_result"
    }
   ]
  },
  {
   "cell_type": "code",
   "source": [
    "image_arr"
   ],
   "metadata": {
    "colab": {
     "base_uri": "https://localhost:8080/"
    },
    "id": "sXA48NtdqdFs",
    "outputId": "4a090fe0-53ba-4e6e-e761-a0e66ba49f8b",
    "ExecuteTime": {
     "end_time": "2023-05-21T11:04:27.977972900Z",
     "start_time": "2023-05-21T11:04:27.888973100Z"
    }
   },
   "execution_count": 786,
   "outputs": [
    {
     "data": {
      "text/plain": "array([[0.        , 0.        , 0.        , 0.        , 0.        ,\n        0.        , 0.        , 0.        , 0.        , 0.        ,\n        0.        , 0.        , 0.        , 0.        , 0.        ,\n        0.        , 0.        , 0.        , 0.        , 0.        ,\n        0.        , 0.        , 0.        , 0.        , 0.        ,\n        0.        , 0.        , 0.        ],\n       [0.        , 0.        , 0.        , 0.        , 0.        ,\n        0.        , 0.        , 0.        , 0.        , 0.        ,\n        0.        , 0.        , 0.        , 0.        , 0.        ,\n        0.        , 0.        , 0.        , 0.        , 0.        ,\n        0.        , 0.        , 0.        , 0.        , 0.        ,\n        0.        , 0.        , 0.        ],\n       [0.        , 0.        , 0.        , 0.        , 0.        ,\n        0.        , 0.        , 0.        , 0.        , 0.        ,\n        0.        , 0.        , 0.        , 0.        , 0.        ,\n        0.        , 0.        , 0.        , 0.        , 0.        ,\n        0.        , 0.        , 0.        , 0.        , 0.        ,\n        0.        , 0.        , 0.        ],\n       [0.        , 0.        , 0.        , 0.        , 0.        ,\n        0.        , 0.        , 0.        , 0.        , 0.        ,\n        0.        , 0.        , 0.        , 0.        , 0.        ,\n        0.        , 0.        , 0.        , 0.        , 0.        ,\n        0.        , 0.        , 0.        , 0.        , 0.        ,\n        0.        , 0.        , 0.        ],\n       [0.        , 0.        , 0.        , 0.        , 0.        ,\n        0.        , 0.        , 0.        , 0.        , 0.        ,\n        0.        , 0.        , 0.        , 0.        , 0.        ,\n        0.        , 0.        , 0.        , 0.        , 0.        ,\n        0.        , 0.        , 0.        , 0.        , 0.        ,\n        0.        , 0.        , 0.        ],\n       [0.        , 0.        , 0.        , 0.        , 0.        ,\n        0.        , 0.        , 0.        , 0.        , 0.        ,\n        0.        , 0.        , 0.        , 0.        , 0.        ,\n        0.        , 0.        , 0.        , 0.        , 0.        ,\n        0.        , 0.        , 0.        , 0.        , 0.        ,\n        0.        , 0.        , 0.        ],\n       [0.        , 0.        , 0.        , 0.        , 0.        ,\n        0.        , 0.        , 0.        , 0.        , 0.        ,\n        0.        , 0.        , 0.        , 0.        , 0.        ,\n        0.99609375, 0.        , 0.        , 0.        , 0.        ,\n        0.        , 0.        , 0.        , 0.        , 0.        ,\n        0.        , 0.        , 0.        ],\n       [0.        , 0.        , 0.        , 0.        , 0.        ,\n        0.        , 0.        , 0.        , 0.        , 0.        ,\n        0.        , 0.        , 0.        , 0.        , 0.99609375,\n        0.99609375, 0.99609375, 0.        , 0.        , 0.        ,\n        0.        , 0.        , 0.        , 0.        , 0.        ,\n        0.        , 0.        , 0.        ],\n       [0.        , 0.        , 0.        , 0.        , 0.        ,\n        0.        , 0.        , 0.        , 0.        , 0.        ,\n        0.        , 0.        , 0.        , 0.        , 0.99609375,\n        0.99609375, 0.        , 0.        , 0.        , 0.        ,\n        0.        , 0.        , 0.        , 0.        , 0.        ,\n        0.        , 0.        , 0.        ],\n       [0.        , 0.        , 0.        , 0.        , 0.        ,\n        0.        , 0.        , 0.        , 0.        , 0.        ,\n        0.        , 0.        , 0.        , 0.        , 0.99609375,\n        0.99609375, 0.        , 0.        , 0.        , 0.        ,\n        0.        , 0.        , 0.        , 0.        , 0.        ,\n        0.        , 0.        , 0.        ],\n       [0.        , 0.        , 0.        , 0.        , 0.        ,\n        0.        , 0.        , 0.        , 0.        , 0.        ,\n        0.        , 0.        , 0.        , 0.        , 0.99609375,\n        0.99609375, 0.        , 0.        , 0.        , 0.        ,\n        0.        , 0.        , 0.        , 0.        , 0.        ,\n        0.        , 0.        , 0.        ],\n       [0.        , 0.        , 0.        , 0.        , 0.        ,\n        0.        , 0.        , 0.        , 0.        , 0.        ,\n        0.        , 0.        , 0.        , 0.        , 0.99609375,\n        0.99609375, 0.        , 0.        , 0.        , 0.        ,\n        0.        , 0.        , 0.        , 0.        , 0.        ,\n        0.        , 0.        , 0.        ],\n       [0.        , 0.        , 0.        , 0.        , 0.        ,\n        0.        , 0.        , 0.        , 0.        , 0.        ,\n        0.        , 0.        , 0.        , 0.        , 0.99609375,\n        0.99609375, 0.        , 0.        , 0.        , 0.        ,\n        0.        , 0.        , 0.        , 0.        , 0.        ,\n        0.        , 0.        , 0.        ],\n       [0.        , 0.        , 0.        , 0.        , 0.        ,\n        0.        , 0.        , 0.        , 0.        , 0.        ,\n        0.        , 0.        , 0.        , 0.        , 0.99609375,\n        0.99609375, 0.        , 0.        , 0.        , 0.        ,\n        0.        , 0.        , 0.        , 0.        , 0.        ,\n        0.        , 0.        , 0.        ],\n       [0.        , 0.        , 0.        , 0.        , 0.        ,\n        0.        , 0.        , 0.        , 0.        , 0.        ,\n        0.        , 0.        , 0.        , 0.        , 0.99609375,\n        0.99609375, 0.        , 0.        , 0.        , 0.        ,\n        0.        , 0.        , 0.        , 0.        , 0.        ,\n        0.        , 0.        , 0.        ],\n       [0.        , 0.        , 0.        , 0.        , 0.        ,\n        0.        , 0.        , 0.        , 0.        , 0.        ,\n        0.        , 0.        , 0.        , 0.        , 0.99609375,\n        0.99609375, 0.        , 0.        , 0.        , 0.        ,\n        0.        , 0.        , 0.        , 0.        , 0.        ,\n        0.        , 0.        , 0.        ],\n       [0.        , 0.        , 0.        , 0.        , 0.        ,\n        0.        , 0.        , 0.        , 0.        , 0.        ,\n        0.        , 0.        , 0.        , 0.        , 0.99609375,\n        0.99609375, 0.        , 0.        , 0.        , 0.        ,\n        0.        , 0.        , 0.        , 0.        , 0.        ,\n        0.        , 0.        , 0.        ],\n       [0.        , 0.        , 0.        , 0.        , 0.        ,\n        0.        , 0.        , 0.        , 0.        , 0.        ,\n        0.        , 0.        , 0.        , 0.99609375, 0.99609375,\n        0.99609375, 0.        , 0.        , 0.        , 0.        ,\n        0.        , 0.        , 0.        , 0.        , 0.        ,\n        0.        , 0.        , 0.        ],\n       [0.        , 0.        , 0.        , 0.        , 0.        ,\n        0.        , 0.        , 0.        , 0.        , 0.        ,\n        0.        , 0.        , 0.        , 0.99609375, 0.99609375,\n        0.        , 0.        , 0.        , 0.        , 0.        ,\n        0.        , 0.        , 0.        , 0.        , 0.        ,\n        0.        , 0.        , 0.        ],\n       [0.        , 0.        , 0.        , 0.        , 0.        ,\n        0.        , 0.        , 0.        , 0.        , 0.        ,\n        0.        , 0.        , 0.        , 0.99609375, 0.99609375,\n        0.        , 0.        , 0.        , 0.        , 0.        ,\n        0.        , 0.        , 0.        , 0.        , 0.        ,\n        0.        , 0.        , 0.        ],\n       [0.        , 0.        , 0.        , 0.        , 0.        ,\n        0.        , 0.        , 0.        , 0.        , 0.        ,\n        0.        , 0.        , 0.        , 0.99609375, 0.99609375,\n        0.        , 0.        , 0.        , 0.        , 0.        ,\n        0.        , 0.        , 0.        , 0.        , 0.        ,\n        0.        , 0.        , 0.        ],\n       [0.        , 0.        , 0.        , 0.        , 0.        ,\n        0.        , 0.        , 0.        , 0.        , 0.        ,\n        0.        , 0.        , 0.        , 0.99609375, 0.99609375,\n        0.        , 0.        , 0.        , 0.        , 0.        ,\n        0.        , 0.        , 0.        , 0.        , 0.        ,\n        0.        , 0.        , 0.        ],\n       [0.        , 0.        , 0.        , 0.        , 0.        ,\n        0.        , 0.        , 0.        , 0.        , 0.        ,\n        0.        , 0.        , 0.        , 0.99609375, 0.99609375,\n        0.        , 0.        , 0.        , 0.        , 0.        ,\n        0.        , 0.        , 0.        , 0.        , 0.        ,\n        0.        , 0.        , 0.        ],\n       [0.        , 0.        , 0.        , 0.        , 0.        ,\n        0.        , 0.        , 0.        , 0.        , 0.        ,\n        0.        , 0.        , 0.        , 0.99609375, 0.99609375,\n        0.        , 0.        , 0.        , 0.        , 0.        ,\n        0.        , 0.        , 0.        , 0.        , 0.        ,\n        0.        , 0.        , 0.        ],\n       [0.        , 0.        , 0.        , 0.        , 0.        ,\n        0.        , 0.        , 0.        , 0.        , 0.        ,\n        0.        , 0.        , 0.        , 0.        , 0.        ,\n        0.        , 0.        , 0.        , 0.        , 0.        ,\n        0.        , 0.        , 0.        , 0.        , 0.        ,\n        0.        , 0.        , 0.        ],\n       [0.        , 0.        , 0.        , 0.        , 0.        ,\n        0.        , 0.        , 0.        , 0.        , 0.        ,\n        0.        , 0.        , 0.        , 0.        , 0.        ,\n        0.        , 0.        , 0.        , 0.        , 0.        ,\n        0.        , 0.        , 0.        , 0.        , 0.        ,\n        0.        , 0.        , 0.        ],\n       [0.        , 0.        , 0.        , 0.        , 0.        ,\n        0.        , 0.        , 0.        , 0.        , 0.        ,\n        0.        , 0.        , 0.        , 0.        , 0.        ,\n        0.        , 0.        , 0.        , 0.        , 0.        ,\n        0.        , 0.        , 0.        , 0.        , 0.        ,\n        0.        , 0.        , 0.        ],\n       [0.        , 0.        , 0.        , 0.        , 0.        ,\n        0.        , 0.        , 0.        , 0.        , 0.        ,\n        0.        , 0.        , 0.        , 0.        , 0.        ,\n        0.        , 0.        , 0.        , 0.        , 0.        ,\n        0.        , 0.        , 0.        , 0.        , 0.        ,\n        0.        , 0.        , 0.        ]])"
     },
     "execution_count": 786,
     "metadata": {},
     "output_type": "execute_result"
    }
   ]
  },
  {
   "cell_type": "code",
   "source": [
    "image_arr = np.expand_dims(image_arr, axis=0)"
   ],
   "metadata": {
    "id": "ni5kAQdVqdc-",
    "ExecuteTime": {
     "end_time": "2023-05-21T11:04:27.977972900Z",
     "start_time": "2023-05-21T11:04:27.922976200Z"
    }
   },
   "execution_count": 787,
   "outputs": []
  },
  {
   "cell_type": "code",
   "source": [
    "type(image_arr)"
   ],
   "metadata": {
    "colab": {
     "base_uri": "https://localhost:8080/"
    },
    "id": "Bxz_Mq1Sq5fN",
    "outputId": "c0013e01-7604-499a-941f-24ebda68b820",
    "ExecuteTime": {
     "end_time": "2023-05-21T11:04:27.979970400Z",
     "start_time": "2023-05-21T11:04:27.936970600Z"
    }
   },
   "execution_count": 788,
   "outputs": [
    {
     "data": {
      "text/plain": "numpy.ndarray"
     },
     "execution_count": 788,
     "metadata": {},
     "output_type": "execute_result"
    }
   ]
  },
  {
   "cell_type": "code",
   "source": [
    "image_arr.shape"
   ],
   "metadata": {
    "colab": {
     "base_uri": "https://localhost:8080/"
    },
    "id": "AQBJn_0qq7qB",
    "outputId": "ebf5b214-2130-4f71-e409-632d49135f91",
    "ExecuteTime": {
     "end_time": "2023-05-21T11:04:27.979970400Z",
     "start_time": "2023-05-21T11:04:27.953972200Z"
    }
   },
   "execution_count": 789,
   "outputs": [
    {
     "data": {
      "text/plain": "(1, 28, 28)"
     },
     "execution_count": 789,
     "metadata": {},
     "output_type": "execute_result"
    }
   ]
  },
  {
   "cell_type": "code",
   "source": [
    "image_arr"
   ],
   "metadata": {
    "colab": {
     "base_uri": "https://localhost:8080/"
    },
    "id": "fqa6lKvTq8eD",
    "outputId": "761878b0-53a2-47f7-e5bb-1c23674f7d47",
    "ExecuteTime": {
     "end_time": "2023-05-21T11:04:28.047969900Z",
     "start_time": "2023-05-21T11:04:27.966971500Z"
    }
   },
   "execution_count": 790,
   "outputs": [
    {
     "data": {
      "text/plain": "array([[[0.        , 0.        , 0.        , 0.        , 0.        ,\n         0.        , 0.        , 0.        , 0.        , 0.        ,\n         0.        , 0.        , 0.        , 0.        , 0.        ,\n         0.        , 0.        , 0.        , 0.        , 0.        ,\n         0.        , 0.        , 0.        , 0.        , 0.        ,\n         0.        , 0.        , 0.        ],\n        [0.        , 0.        , 0.        , 0.        , 0.        ,\n         0.        , 0.        , 0.        , 0.        , 0.        ,\n         0.        , 0.        , 0.        , 0.        , 0.        ,\n         0.        , 0.        , 0.        , 0.        , 0.        ,\n         0.        , 0.        , 0.        , 0.        , 0.        ,\n         0.        , 0.        , 0.        ],\n        [0.        , 0.        , 0.        , 0.        , 0.        ,\n         0.        , 0.        , 0.        , 0.        , 0.        ,\n         0.        , 0.        , 0.        , 0.        , 0.        ,\n         0.        , 0.        , 0.        , 0.        , 0.        ,\n         0.        , 0.        , 0.        , 0.        , 0.        ,\n         0.        , 0.        , 0.        ],\n        [0.        , 0.        , 0.        , 0.        , 0.        ,\n         0.        , 0.        , 0.        , 0.        , 0.        ,\n         0.        , 0.        , 0.        , 0.        , 0.        ,\n         0.        , 0.        , 0.        , 0.        , 0.        ,\n         0.        , 0.        , 0.        , 0.        , 0.        ,\n         0.        , 0.        , 0.        ],\n        [0.        , 0.        , 0.        , 0.        , 0.        ,\n         0.        , 0.        , 0.        , 0.        , 0.        ,\n         0.        , 0.        , 0.        , 0.        , 0.        ,\n         0.        , 0.        , 0.        , 0.        , 0.        ,\n         0.        , 0.        , 0.        , 0.        , 0.        ,\n         0.        , 0.        , 0.        ],\n        [0.        , 0.        , 0.        , 0.        , 0.        ,\n         0.        , 0.        , 0.        , 0.        , 0.        ,\n         0.        , 0.        , 0.        , 0.        , 0.        ,\n         0.        , 0.        , 0.        , 0.        , 0.        ,\n         0.        , 0.        , 0.        , 0.        , 0.        ,\n         0.        , 0.        , 0.        ],\n        [0.        , 0.        , 0.        , 0.        , 0.        ,\n         0.        , 0.        , 0.        , 0.        , 0.        ,\n         0.        , 0.        , 0.        , 0.        , 0.        ,\n         0.99609375, 0.        , 0.        , 0.        , 0.        ,\n         0.        , 0.        , 0.        , 0.        , 0.        ,\n         0.        , 0.        , 0.        ],\n        [0.        , 0.        , 0.        , 0.        , 0.        ,\n         0.        , 0.        , 0.        , 0.        , 0.        ,\n         0.        , 0.        , 0.        , 0.        , 0.99609375,\n         0.99609375, 0.99609375, 0.        , 0.        , 0.        ,\n         0.        , 0.        , 0.        , 0.        , 0.        ,\n         0.        , 0.        , 0.        ],\n        [0.        , 0.        , 0.        , 0.        , 0.        ,\n         0.        , 0.        , 0.        , 0.        , 0.        ,\n         0.        , 0.        , 0.        , 0.        , 0.99609375,\n         0.99609375, 0.        , 0.        , 0.        , 0.        ,\n         0.        , 0.        , 0.        , 0.        , 0.        ,\n         0.        , 0.        , 0.        ],\n        [0.        , 0.        , 0.        , 0.        , 0.        ,\n         0.        , 0.        , 0.        , 0.        , 0.        ,\n         0.        , 0.        , 0.        , 0.        , 0.99609375,\n         0.99609375, 0.        , 0.        , 0.        , 0.        ,\n         0.        , 0.        , 0.        , 0.        , 0.        ,\n         0.        , 0.        , 0.        ],\n        [0.        , 0.        , 0.        , 0.        , 0.        ,\n         0.        , 0.        , 0.        , 0.        , 0.        ,\n         0.        , 0.        , 0.        , 0.        , 0.99609375,\n         0.99609375, 0.        , 0.        , 0.        , 0.        ,\n         0.        , 0.        , 0.        , 0.        , 0.        ,\n         0.        , 0.        , 0.        ],\n        [0.        , 0.        , 0.        , 0.        , 0.        ,\n         0.        , 0.        , 0.        , 0.        , 0.        ,\n         0.        , 0.        , 0.        , 0.        , 0.99609375,\n         0.99609375, 0.        , 0.        , 0.        , 0.        ,\n         0.        , 0.        , 0.        , 0.        , 0.        ,\n         0.        , 0.        , 0.        ],\n        [0.        , 0.        , 0.        , 0.        , 0.        ,\n         0.        , 0.        , 0.        , 0.        , 0.        ,\n         0.        , 0.        , 0.        , 0.        , 0.99609375,\n         0.99609375, 0.        , 0.        , 0.        , 0.        ,\n         0.        , 0.        , 0.        , 0.        , 0.        ,\n         0.        , 0.        , 0.        ],\n        [0.        , 0.        , 0.        , 0.        , 0.        ,\n         0.        , 0.        , 0.        , 0.        , 0.        ,\n         0.        , 0.        , 0.        , 0.        , 0.99609375,\n         0.99609375, 0.        , 0.        , 0.        , 0.        ,\n         0.        , 0.        , 0.        , 0.        , 0.        ,\n         0.        , 0.        , 0.        ],\n        [0.        , 0.        , 0.        , 0.        , 0.        ,\n         0.        , 0.        , 0.        , 0.        , 0.        ,\n         0.        , 0.        , 0.        , 0.        , 0.99609375,\n         0.99609375, 0.        , 0.        , 0.        , 0.        ,\n         0.        , 0.        , 0.        , 0.        , 0.        ,\n         0.        , 0.        , 0.        ],\n        [0.        , 0.        , 0.        , 0.        , 0.        ,\n         0.        , 0.        , 0.        , 0.        , 0.        ,\n         0.        , 0.        , 0.        , 0.        , 0.99609375,\n         0.99609375, 0.        , 0.        , 0.        , 0.        ,\n         0.        , 0.        , 0.        , 0.        , 0.        ,\n         0.        , 0.        , 0.        ],\n        [0.        , 0.        , 0.        , 0.        , 0.        ,\n         0.        , 0.        , 0.        , 0.        , 0.        ,\n         0.        , 0.        , 0.        , 0.        , 0.99609375,\n         0.99609375, 0.        , 0.        , 0.        , 0.        ,\n         0.        , 0.        , 0.        , 0.        , 0.        ,\n         0.        , 0.        , 0.        ],\n        [0.        , 0.        , 0.        , 0.        , 0.        ,\n         0.        , 0.        , 0.        , 0.        , 0.        ,\n         0.        , 0.        , 0.        , 0.99609375, 0.99609375,\n         0.99609375, 0.        , 0.        , 0.        , 0.        ,\n         0.        , 0.        , 0.        , 0.        , 0.        ,\n         0.        , 0.        , 0.        ],\n        [0.        , 0.        , 0.        , 0.        , 0.        ,\n         0.        , 0.        , 0.        , 0.        , 0.        ,\n         0.        , 0.        , 0.        , 0.99609375, 0.99609375,\n         0.        , 0.        , 0.        , 0.        , 0.        ,\n         0.        , 0.        , 0.        , 0.        , 0.        ,\n         0.        , 0.        , 0.        ],\n        [0.        , 0.        , 0.        , 0.        , 0.        ,\n         0.        , 0.        , 0.        , 0.        , 0.        ,\n         0.        , 0.        , 0.        , 0.99609375, 0.99609375,\n         0.        , 0.        , 0.        , 0.        , 0.        ,\n         0.        , 0.        , 0.        , 0.        , 0.        ,\n         0.        , 0.        , 0.        ],\n        [0.        , 0.        , 0.        , 0.        , 0.        ,\n         0.        , 0.        , 0.        , 0.        , 0.        ,\n         0.        , 0.        , 0.        , 0.99609375, 0.99609375,\n         0.        , 0.        , 0.        , 0.        , 0.        ,\n         0.        , 0.        , 0.        , 0.        , 0.        ,\n         0.        , 0.        , 0.        ],\n        [0.        , 0.        , 0.        , 0.        , 0.        ,\n         0.        , 0.        , 0.        , 0.        , 0.        ,\n         0.        , 0.        , 0.        , 0.99609375, 0.99609375,\n         0.        , 0.        , 0.        , 0.        , 0.        ,\n         0.        , 0.        , 0.        , 0.        , 0.        ,\n         0.        , 0.        , 0.        ],\n        [0.        , 0.        , 0.        , 0.        , 0.        ,\n         0.        , 0.        , 0.        , 0.        , 0.        ,\n         0.        , 0.        , 0.        , 0.99609375, 0.99609375,\n         0.        , 0.        , 0.        , 0.        , 0.        ,\n         0.        , 0.        , 0.        , 0.        , 0.        ,\n         0.        , 0.        , 0.        ],\n        [0.        , 0.        , 0.        , 0.        , 0.        ,\n         0.        , 0.        , 0.        , 0.        , 0.        ,\n         0.        , 0.        , 0.        , 0.99609375, 0.99609375,\n         0.        , 0.        , 0.        , 0.        , 0.        ,\n         0.        , 0.        , 0.        , 0.        , 0.        ,\n         0.        , 0.        , 0.        ],\n        [0.        , 0.        , 0.        , 0.        , 0.        ,\n         0.        , 0.        , 0.        , 0.        , 0.        ,\n         0.        , 0.        , 0.        , 0.        , 0.        ,\n         0.        , 0.        , 0.        , 0.        , 0.        ,\n         0.        , 0.        , 0.        , 0.        , 0.        ,\n         0.        , 0.        , 0.        ],\n        [0.        , 0.        , 0.        , 0.        , 0.        ,\n         0.        , 0.        , 0.        , 0.        , 0.        ,\n         0.        , 0.        , 0.        , 0.        , 0.        ,\n         0.        , 0.        , 0.        , 0.        , 0.        ,\n         0.        , 0.        , 0.        , 0.        , 0.        ,\n         0.        , 0.        , 0.        ],\n        [0.        , 0.        , 0.        , 0.        , 0.        ,\n         0.        , 0.        , 0.        , 0.        , 0.        ,\n         0.        , 0.        , 0.        , 0.        , 0.        ,\n         0.        , 0.        , 0.        , 0.        , 0.        ,\n         0.        , 0.        , 0.        , 0.        , 0.        ,\n         0.        , 0.        , 0.        ],\n        [0.        , 0.        , 0.        , 0.        , 0.        ,\n         0.        , 0.        , 0.        , 0.        , 0.        ,\n         0.        , 0.        , 0.        , 0.        , 0.        ,\n         0.        , 0.        , 0.        , 0.        , 0.        ,\n         0.        , 0.        , 0.        , 0.        , 0.        ,\n         0.        , 0.        , 0.        ]]])"
     },
     "execution_count": 790,
     "metadata": {},
     "output_type": "execute_result"
    }
   ]
  },
  {
   "cell_type": "code",
   "source": [
    "probabilities = model.predict(image_arr)"
   ],
   "metadata": {
    "colab": {
     "base_uri": "https://localhost:8080/"
    },
    "id": "EyariJvKq9I5",
    "outputId": "96ec7404-f171-44ef-84d4-24f1fecf3d8a",
    "ExecuteTime": {
     "end_time": "2023-05-21T11:04:28.220972500Z",
     "start_time": "2023-05-21T11:04:27.998971100Z"
    }
   },
   "execution_count": 791,
   "outputs": [
    {
     "name": "stdout",
     "output_type": "stream",
     "text": [
      "1/1 [==============================] - 0s 119ms/step\n"
     ]
    }
   ]
  },
  {
   "cell_type": "code",
   "source": [
    "type(probabilities)"
   ],
   "metadata": {
    "colab": {
     "base_uri": "https://localhost:8080/"
    },
    "id": "heaXmmnVrECX",
    "outputId": "4d94371d-f02f-4082-f071-9d7ce29392e8",
    "ExecuteTime": {
     "end_time": "2023-05-21T11:04:28.232981100Z",
     "start_time": "2023-05-21T11:04:28.219972100Z"
    }
   },
   "execution_count": 792,
   "outputs": [
    {
     "data": {
      "text/plain": "numpy.ndarray"
     },
     "execution_count": 792,
     "metadata": {},
     "output_type": "execute_result"
    }
   ]
  },
  {
   "cell_type": "code",
   "source": [
    "probabilities.shape"
   ],
   "metadata": {
    "colab": {
     "base_uri": "https://localhost:8080/"
    },
    "id": "y20yT8_srFab",
    "outputId": "adca1e01-f9c3-4c64-e507-7abc0db69d9e",
    "ExecuteTime": {
     "end_time": "2023-05-21T11:04:28.278970200Z",
     "start_time": "2023-05-21T11:04:28.233974500Z"
    }
   },
   "execution_count": 793,
   "outputs": [
    {
     "data": {
      "text/plain": "(1, 10)"
     },
     "execution_count": 793,
     "metadata": {},
     "output_type": "execute_result"
    }
   ]
  },
  {
   "cell_type": "code",
   "source": [
    "probabilities"
   ],
   "metadata": {
    "colab": {
     "base_uri": "https://localhost:8080/"
    },
    "id": "L7lBxuENrGhF",
    "outputId": "79858c1d-78d7-45fc-fea5-86c9f25b41e8",
    "ExecuteTime": {
     "end_time": "2023-05-21T11:04:28.279971700Z",
     "start_time": "2023-05-21T11:04:28.267973200Z"
    }
   },
   "execution_count": 794,
   "outputs": [
    {
     "data": {
      "text/plain": "array([[5.0661623e-07, 9.9980921e-01, 5.7850053e-07, 1.6511164e-07,\n        4.8041689e-05, 3.6817152e-08, 1.2531007e-06, 1.3276910e-04,\n        6.4650576e-06, 1.0532278e-06]], dtype=float32)"
     },
     "execution_count": 794,
     "metadata": {},
     "output_type": "execute_result"
    }
   ]
  },
  {
   "cell_type": "code",
   "source": [
    "type(probabilities)"
   ],
   "metadata": {
    "colab": {
     "base_uri": "https://localhost:8080/"
    },
    "id": "IMhpYt1Crp8i",
    "outputId": "8941f459-a98f-4812-825f-2a86e7ee3e5d",
    "ExecuteTime": {
     "end_time": "2023-05-21T11:04:28.305969600Z",
     "start_time": "2023-05-21T11:04:28.281969500Z"
    }
   },
   "execution_count": 795,
   "outputs": [
    {
     "data": {
      "text/plain": "numpy.ndarray"
     },
     "execution_count": 795,
     "metadata": {},
     "output_type": "execute_result"
    }
   ]
  },
  {
   "cell_type": "code",
   "source": [
    "y_pred = np.argmax(probabilities)"
   ],
   "metadata": {
    "id": "R1AphVU5rsk4",
    "ExecuteTime": {
     "end_time": "2023-05-21T11:04:28.384970500Z",
     "start_time": "2023-05-21T11:04:28.296974900Z"
    }
   },
   "execution_count": 796,
   "outputs": []
  },
  {
   "cell_type": "code",
   "source": [
    "type(y_pred)"
   ],
   "metadata": {
    "colab": {
     "base_uri": "https://localhost:8080/"
    },
    "id": "gw8MrACArzIk",
    "outputId": "1b9f7a16-844a-4aec-d15f-56993c1e2f91",
    "ExecuteTime": {
     "end_time": "2023-05-21T11:04:28.385971300Z",
     "start_time": "2023-05-21T11:04:28.314971700Z"
    }
   },
   "execution_count": 797,
   "outputs": [
    {
     "data": {
      "text/plain": "numpy.int64"
     },
     "execution_count": 797,
     "metadata": {},
     "output_type": "execute_result"
    }
   ]
  },
  {
   "cell_type": "code",
   "source": [
    "y_pred"
   ],
   "metadata": {
    "colab": {
     "base_uri": "https://localhost:8080/"
    },
    "id": "Q9rVWo67r1Ez",
    "outputId": "27ef4886-074e-400f-c4af-80dc1927b622",
    "ExecuteTime": {
     "end_time": "2023-05-21T11:04:28.400969300Z",
     "start_time": "2023-05-21T11:04:28.331970900Z"
    }
   },
   "execution_count": 798,
   "outputs": [
    {
     "data": {
      "text/plain": "1"
     },
     "execution_count": 798,
     "metadata": {},
     "output_type": "execute_result"
    }
   ]
  },
  {
   "cell_type": "code",
   "execution_count": 799,
   "outputs": [],
   "source": [
    "def simple_classify_one_mlp(test_pic_file):\n",
    "    image = Image.open(f'{dir}/{test_pic_file}').convert('L').resize((28, 28))  # grayscale 28x28\n",
    "\n",
    "    # For our MLP, we need a 3D array of shape (bach_size, height, width).\n",
    "    # Here, batch_size = 1 (only 1 image to classify)\n",
    "    image_arr = np.array(image) / 256.\n",
    "    image_arr = np.expand_dims(image_arr, axis=0)\n",
    "\n",
    "    probabilities = model.predict(image_arr)\n",
    "    y_pred = np.argmax(probabilities)\n",
    "    y_pred_confidence = float(probabilities[0][y_pred])\n",
    "    print(f'[MLP] Classification: {y_pred}. Confidence: {round(y_pred_confidence * 100., 2)}%')"
   ],
   "metadata": {
    "collapsed": false,
    "ExecuteTime": {
     "end_time": "2023-05-21T11:04:28.401970Z",
     "start_time": "2023-05-21T11:04:28.359971600Z"
    }
   }
  },
  {
   "cell_type": "code",
   "source": [
    "simple_classify_one_mlp('test_1.png')"
   ],
   "metadata": {
    "colab": {
     "base_uri": "https://localhost:8080/"
    },
    "id": "HhUMWwDDr2yP",
    "outputId": "9266834f-cefb-44e7-b73a-c8dbbc0fd726",
    "ExecuteTime": {
     "end_time": "2023-05-21T11:04:28.503974100Z",
     "start_time": "2023-05-21T11:04:28.386976200Z"
    }
   },
   "execution_count": 800,
   "outputs": [
    {
     "name": "stdout",
     "output_type": "stream",
     "text": [
      "1/1 [==============================] - 0s 30ms/step\n",
      "[MLP] Classification: 1. Confidence: 99.98%\n"
     ]
    }
   ]
  },
  {
   "cell_type": "code",
   "source": [
    "simple_classify_one_mlp('test_3.png')"
   ],
   "metadata": {
    "id": "DTvmWcZet6qc",
    "ExecuteTime": {
     "end_time": "2023-05-21T11:04:28.728974700Z",
     "start_time": "2023-05-21T11:04:28.502971400Z"
    }
   },
   "execution_count": 801,
   "outputs": [
    {
     "name": "stdout",
     "output_type": "stream",
     "text": [
      "1/1 [==============================] - 0s 110ms/step\n",
      "[MLP] Classification: 3. Confidence: 99.97%\n"
     ]
    }
   ]
  },
  {
   "cell_type": "code",
   "execution_count": 802,
   "outputs": [
    {
     "name": "stdout",
     "output_type": "stream",
     "text": [
      "1/1 [==============================] - 0s 26ms/step\n",
      "[MLP] Classification: 8. Confidence: 53.06%\n"
     ]
    }
   ],
   "source": [
    "simple_classify_one_mlp('test_8.png')"
   ],
   "metadata": {
    "collapsed": false,
    "ExecuteTime": {
     "end_time": "2023-05-21T11:04:28.847972100Z",
     "start_time": "2023-05-21T11:04:28.729976700Z"
    }
   }
  },
  {
   "cell_type": "code",
   "execution_count": 803,
   "outputs": [
    {
     "name": "stdout",
     "output_type": "stream",
     "text": [
      "1/1 [==============================] - 0s 26ms/step\n",
      "[MLP] Classification: 5. Confidence: 37.08%\n"
     ]
    }
   ],
   "source": [
    "simple_classify_one_mlp('test_9.png')"
   ],
   "metadata": {
    "collapsed": false,
    "ExecuteTime": {
     "end_time": "2023-05-21T11:04:28.957970900Z",
     "start_time": "2023-05-21T11:04:28.849972500Z"
    }
   }
  },
  {
   "cell_type": "markdown",
   "source": [
    "# 2. CNN"
   ],
   "metadata": {
    "id": "cDaNZsSlycO8"
   }
  },
  {
   "cell_type": "code",
   "source": [
    "model = tf.keras.models.Sequential([\n",
    "    # Input layer = Convolution layer #1. Captures some simple low-level patterns.\n",
    "    tf.keras.layers.Conv2D(32, kernel_size=(5, 5), activation='relu', input_shape=(28, 28, 1)),\n",
    "    # Pooling layer #1. Reduces spatial dimensionality of feature maps from the previous layer,\n",
    "    #                   while still retaining the most important information.\n",
    "    tf.keras.layers.MaxPooling2D(pool_size=(2, 2)),\n",
    "    # Convolution layer #2. Captures more, higher level patterns.\n",
    "    tf.keras.layers.Conv2D(64, kernel_size=(5, 5), activation='relu'),\n",
    "    # Pooling layer #2.\n",
    "    tf.keras.layers.MaxPooling2D(pool_size=(2, 2)),\n",
    "    # Flatten layer. Converts the 3D outputs of the previous layer to a 1D vector\n",
    "    #                to prepare it for the fully connected layer that goes afterwards.\n",
    "    tf.keras.layers.Flatten(),\n",
    "    # Fully connected layer consisting of 500 neurons with ReLU activation.\n",
    "    tf.keras.layers.Dense(500, activation='relu'),\n",
    "    # Dropout layer. Helps fight overfitting by randomly deactivating a fraction of neurons at each update.\n",
    "    tf.keras.layers.Dropout(0.5),\n",
    "    # Output layer (10 neurons: one for each possible digit (target label) in the dataset: 0, 1, ..., 9).\n",
    "    tf.keras.layers.Dense(10, activation='softmax')\n",
    "])\n",
    "\n",
    "model.compile(\n",
    "    optimizer=tf.keras.optimizers.Adam(0.001),\n",
    "    loss=tf.keras.losses.SparseCategoricalCrossentropy(),\n",
    "    metrics=[tf.keras.metrics.SparseCategoricalAccuracy()],\n",
    ")\n",
    "\n",
    "history = model.fit(\n",
    "    ds_train,\n",
    "    epochs=5,\n",
    "    validation_data=ds_test,\n",
    ")"
   ],
   "metadata": {
    "id": "fUO52utYydl3",
    "ExecuteTime": {
     "end_time": "2023-05-21T11:08:15.008069600Z",
     "start_time": "2023-05-21T11:04:28.959972Z"
    }
   },
   "execution_count": 804,
   "outputs": [
    {
     "name": "stdout",
     "output_type": "stream",
     "text": [
      "Epoch 1/5\n",
      "468/468 [==============================] - 49s 100ms/step - loss: 0.2024 - sparse_categorical_accuracy: 0.9375 - val_loss: 0.0438 - val_sparse_categorical_accuracy: 0.9854\n",
      "Epoch 2/5\n",
      "468/468 [==============================] - 51s 105ms/step - loss: 0.0557 - sparse_categorical_accuracy: 0.9826 - val_loss: 0.0299 - val_sparse_categorical_accuracy: 0.9898\n",
      "Epoch 3/5\n",
      "468/468 [==============================] - 45s 89ms/step - loss: 0.0393 - sparse_categorical_accuracy: 0.9880 - val_loss: 0.0315 - val_sparse_categorical_accuracy: 0.9897\n",
      "Epoch 4/5\n",
      "468/468 [==============================] - 41s 83ms/step - loss: 0.0304 - sparse_categorical_accuracy: 0.9905 - val_loss: 0.0261 - val_sparse_categorical_accuracy: 0.9911\n",
      "Epoch 5/5\n",
      "468/468 [==============================] - 40s 83ms/step - loss: 0.0252 - sparse_categorical_accuracy: 0.9919 - val_loss: 0.0253 - val_sparse_categorical_accuracy: 0.9918\n"
     ]
    }
   ]
  },
  {
   "cell_type": "code",
   "execution_count": 805,
   "outputs": [
    {
     "name": "stdout",
     "output_type": "stream",
     "text": [
      "Model: \"sequential_19\"\n",
      "_________________________________________________________________\n",
      " Layer (type)                Output Shape              Param #   \n",
      "=================================================================\n",
      " conv2d_10 (Conv2D)          (None, 24, 24, 32)        832       \n",
      "                                                                 \n",
      " max_pooling2d_10 (MaxPoolin  (None, 12, 12, 32)       0         \n",
      " g2D)                                                            \n",
      "                                                                 \n",
      " conv2d_11 (Conv2D)          (None, 8, 8, 64)          51264     \n",
      "                                                                 \n",
      " max_pooling2d_11 (MaxPoolin  (None, 4, 4, 64)         0         \n",
      " g2D)                                                            \n",
      "                                                                 \n",
      " flatten_19 (Flatten)        (None, 1024)              0         \n",
      "                                                                 \n",
      " dense_64 (Dense)            (None, 500)               512500    \n",
      "                                                                 \n",
      " dropout_6 (Dropout)         (None, 500)               0         \n",
      "                                                                 \n",
      " dense_65 (Dense)            (None, 10)                5010      \n",
      "                                                                 \n",
      "=================================================================\n",
      "Total params: 569,606\n",
      "Trainable params: 569,606\n",
      "Non-trainable params: 0\n",
      "_________________________________________________________________\n"
     ]
    }
   ],
   "source": [
    "model.summary()"
   ],
   "metadata": {
    "collapsed": false,
    "ExecuteTime": {
     "end_time": "2023-05-21T11:08:15.086071800Z",
     "start_time": "2023-05-21T11:08:15.012072400Z"
    }
   }
  },
  {
   "cell_type": "code",
   "execution_count": 806,
   "outputs": [
    {
     "name": "stdout",
     "output_type": "stream",
     "text": [
      "312/312 [==============================] - 3s 8ms/step\n"
     ]
    }
   ],
   "source": [
    "y_pred = model.predict(X_test)"
   ],
   "metadata": {
    "collapsed": false,
    "ExecuteTime": {
     "end_time": "2023-05-21T11:08:17.791125800Z",
     "start_time": "2023-05-21T11:08:15.068070300Z"
    }
   }
  },
  {
   "cell_type": "code",
   "execution_count": 807,
   "outputs": [
    {
     "name": "stdout",
     "output_type": "stream",
     "text": [
      "              precision    recall  f1-score   support\n",
      "\n",
      "           0       1.00      0.99      0.99       978\n",
      "           1       1.00      0.99      0.99      1133\n",
      "           2       1.00      0.99      0.99      1030\n",
      "           3       0.99      1.00      0.99      1009\n",
      "           4       0.99      0.99      0.99       980\n",
      "           5       0.99      0.99      0.99       888\n",
      "           6       0.99      0.99      0.99       958\n",
      "           7       0.99      0.99      0.99      1027\n",
      "           8       0.99      1.00      0.99       973\n",
      "           9       0.99      0.99      0.99      1008\n",
      "\n",
      "    accuracy                           0.99      9984\n",
      "   macro avg       0.99      0.99      0.99      9984\n",
      "weighted avg       0.99      0.99      0.99      9984\n",
      "\n"
     ]
    }
   ],
   "source": [
    "y_pred_classes = np.argmax(y_pred, axis=1)\n",
    "print(classification_report(y_test, y_pred_classes))"
   ],
   "metadata": {
    "collapsed": false,
    "ExecuteTime": {
     "end_time": "2023-05-21T11:08:17.849126Z",
     "start_time": "2023-05-21T11:08:17.793128500Z"
    }
   }
  },
  {
   "cell_type": "code",
   "execution_count": 808,
   "outputs": [
    {
     "data": {
      "text/plain": "<Figure size 500x500 with 1 Axes>",
      "image/png": "[encoded data removed]"
     },
     "metadata": {},
     "output_type": "display_data"
    }
   ],
   "source": [
    "plot_bars('TensorFlow CNN', y_pred_classes)"
   ],
   "metadata": {
    "collapsed": false,
    "ExecuteTime": {
     "end_time": "2023-05-21T11:08:18.206167600Z",
     "start_time": "2023-05-21T11:08:17.843127Z"
    }
   }
  },
  {
   "cell_type": "code",
   "execution_count": 809,
   "outputs": [
    {
     "data": {
      "text/plain": "<Figure size 1000x300 with 2 Axes>",
      "image/png": "[encoded data removed]"
     },
     "metadata": {},
     "output_type": "display_data"
    }
   ],
   "source": [
    "plot_learning_curve(history)"
   ],
   "metadata": {
    "collapsed": false,
    "ExecuteTime": {
     "end_time": "2023-05-21T11:08:18.619232800Z",
     "start_time": "2023-05-21T11:08:18.205155900Z"
    }
   }
  },
  {
   "cell_type": "code",
   "execution_count": 810,
   "outputs": [],
   "source": [
    "def simple_classify_one_cnn(test_pic_file):\n",
    "    image = Image.open(f'{dir}/{test_pic_file}').convert('L').resize((28, 28))  # grayscale 28x28\n",
    "\n",
    "    # For our CNN, we need a 4D array of shape (bach_size, height, width, channels).\n",
    "    # Here, batch_size = 1 (only 1 image to classify), channels = 1 (grayscale -- just the luminosity).\n",
    "    image_arr = np.array(image) / 256.\n",
    "    image_arr = np.expand_dims(image_arr, axis=0)\n",
    "    image_arr = np.expand_dims(image_arr, axis=-1)\n",
    "\n",
    "    probabilities = model.predict(image_arr)\n",
    "    y_pred = np.argmax(probabilities)\n",
    "    y_pred_confidence = float(probabilities[0][y_pred])\n",
    "    print(f'[CNN] Classification: {y_pred}. Confidence: {round(y_pred_confidence * 100., 2)}%')"
   ],
   "metadata": {
    "collapsed": false,
    "ExecuteTime": {
     "end_time": "2023-05-21T11:08:18.657235400Z",
     "start_time": "2023-05-21T11:08:18.627244800Z"
    }
   }
  },
  {
   "cell_type": "code",
   "execution_count": 811,
   "outputs": [
    {
     "name": "stdout",
     "output_type": "stream",
     "text": [
      "1/1 [==============================] - 0s 117ms/step\n",
      "[CNN] Classification: 1. Confidence: 99.99%\n"
     ]
    }
   ],
   "source": [
    "simple_classify_one_cnn('test_1.png')"
   ],
   "metadata": {
    "collapsed": false,
    "ExecuteTime": {
     "end_time": "2023-05-21T11:08:18.843235200Z",
     "start_time": "2023-05-21T11:08:18.640234600Z"
    }
   }
  },
  {
   "cell_type": "code",
   "execution_count": 812,
   "outputs": [
    {
     "name": "stdout",
     "output_type": "stream",
     "text": [
      "1/1 [==============================] - 0s 26ms/step\n",
      "[CNN] Classification: 3. Confidence: 100.0%\n"
     ]
    }
   ],
   "source": [
    "simple_classify_one_cnn('test_3.png')"
   ],
   "metadata": {
    "collapsed": false,
    "ExecuteTime": {
     "end_time": "2023-05-21T11:08:18.955139300Z",
     "start_time": "2023-05-21T11:08:18.845141Z"
    }
   }
  },
  {
   "cell_type": "code",
   "execution_count": 813,
   "outputs": [
    {
     "name": "stdout",
     "output_type": "stream",
     "text": [
      "1/1 [==============================] - 0s 27ms/step\n",
      "[CNN] Classification: 8. Confidence: 99.99%\n"
     ]
    }
   ],
   "source": [
    "simple_classify_one_cnn('test_8.png')"
   ],
   "metadata": {
    "collapsed": false,
    "ExecuteTime": {
     "end_time": "2023-05-21T11:08:19.067139200Z",
     "start_time": "2023-05-21T11:08:18.959147100Z"
    }
   }
  },
  {
   "cell_type": "code",
   "execution_count": 814,
   "outputs": [
    {
     "name": "stdout",
     "output_type": "stream",
     "text": [
      "1/1 [==============================] - 0s 28ms/step\n",
      "[CNN] Classification: 9. Confidence: 63.46%\n"
     ]
    }
   ],
   "source": [
    "simple_classify_one_cnn('test_9.png')"
   ],
   "metadata": {
    "collapsed": false,
    "ExecuteTime": {
     "end_time": "2023-05-21T11:08:19.177149500Z",
     "start_time": "2023-05-21T11:08:19.070141500Z"
    }
   }
  },
  {
   "cell_type": "code",
   "execution_count": 814,
   "outputs": [],
   "source": [],
   "metadata": {
    "collapsed": false,
    "ExecuteTime": {
     "end_time": "2023-05-21T11:08:19.237216600Z",
     "start_time": "2023-05-21T11:08:19.180199900Z"
    }
   }
  }
 ]
}
