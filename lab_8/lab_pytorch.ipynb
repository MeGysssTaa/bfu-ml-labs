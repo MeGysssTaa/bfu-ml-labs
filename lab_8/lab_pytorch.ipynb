{
 "cells": [
  {
   "cell_type": "code",
   "execution_count": 2,
   "metadata": {
    "collapsed": true,
    "ExecuteTime": {
     "end_time": "2023-05-24T20:17:55.678235700Z",
     "start_time": "2023-05-24T20:17:55.654236300Z"
    }
   },
   "outputs": [],
   "source": [
    "dir = 'D:/projects/datascience/bfu-ml-labs/lab_8'"
   ]
  },
  {
   "cell_type": "code",
   "execution_count": 3,
   "outputs": [],
   "source": [
    "import torch\n",
    "from torch import nn\n",
    "from torch.nn import functional as F\n",
    "from torch.utils.data import DataLoader, random_split\n",
    "from torchvision import transforms\n",
    "from torchvision.datasets import MNIST\n",
    "import pytorch_lightning as pl"
   ],
   "metadata": {
    "collapsed": false,
    "ExecuteTime": {
     "end_time": "2023-05-24T20:18:07.894479500Z",
     "start_time": "2023-05-24T20:17:56.394426300Z"
    }
   }
  },
  {
   "cell_type": "code",
   "execution_count": 4,
   "outputs": [
    {
     "name": "stdout",
     "output_type": "stream",
     "text": [
      "CUDA:  False\n"
     ]
    }
   ],
   "source": [
    "print(\"CUDA: \", torch.cuda.is_available())"
   ],
   "metadata": {
    "collapsed": false,
    "ExecuteTime": {
     "end_time": "2023-05-24T20:18:07.906480900Z",
     "start_time": "2023-05-24T20:18:07.895479400Z"
    }
   }
  },
  {
   "cell_type": "markdown",
   "source": [
    "# 1. MLP"
   ],
   "metadata": {
    "collapsed": false
   }
  },
  {
   "cell_type": "code",
   "execution_count": 5,
   "outputs": [
    {
     "data": {
      "text/plain": "<torch._C.Generator at 0x1faea529270>"
     },
     "execution_count": 5,
     "metadata": {},
     "output_type": "execute_result"
    }
   ],
   "source": [
    "torch.manual_seed(123)"
   ],
   "metadata": {
    "collapsed": false,
    "ExecuteTime": {
     "end_time": "2023-05-24T20:18:07.949478100Z",
     "start_time": "2023-05-24T20:18:07.911480100Z"
    }
   }
  },
  {
   "cell_type": "code",
   "execution_count": 6,
   "outputs": [],
   "source": [
    "transform = transforms.Compose([transforms.ToTensor()])\n",
    "mnist_train = MNIST('.', train=True, download=True, transform=transform)\n",
    "mnist_val = MNIST('.', train=False, download=True, transform=transform)"
   ],
   "metadata": {
    "collapsed": false,
    "ExecuteTime": {
     "end_time": "2023-05-24T20:18:08.111482300Z",
     "start_time": "2023-05-24T20:18:07.943481600Z"
    }
   }
  },
  {
   "cell_type": "code",
   "execution_count": 7,
   "outputs": [
    {
     "data": {
      "text/plain": "Dataset MNIST\n    Number of datapoints: 60000\n    Root location: .\n    Split: Train\n    StandardTransform\nTransform: Compose(\n               ToTensor()\n           )"
     },
     "execution_count": 7,
     "metadata": {},
     "output_type": "execute_result"
    }
   ],
   "source": [
    "mnist_train"
   ],
   "metadata": {
    "collapsed": false,
    "ExecuteTime": {
     "end_time": "2023-05-24T20:18:08.127481Z",
     "start_time": "2023-05-24T20:18:08.113480100Z"
    }
   }
  },
  {
   "cell_type": "code",
   "execution_count": 8,
   "outputs": [
    {
     "data": {
      "text/plain": "Dataset MNIST\n    Number of datapoints: 10000\n    Root location: .\n    Split: Test\n    StandardTransform\nTransform: Compose(\n               ToTensor()\n           )"
     },
     "execution_count": 8,
     "metadata": {},
     "output_type": "execute_result"
    }
   ],
   "source": [
    "mnist_val"
   ],
   "metadata": {
    "collapsed": false,
    "ExecuteTime": {
     "end_time": "2023-05-24T20:18:08.188486700Z",
     "start_time": "2023-05-24T20:18:08.131483500Z"
    }
   }
  },
  {
   "cell_type": "code",
   "execution_count": 9,
   "outputs": [
    {
     "data": {
      "text/plain": "torch.Tensor"
     },
     "execution_count": 9,
     "metadata": {},
     "output_type": "execute_result"
    }
   ],
   "source": [
    "type(mnist_train.data)"
   ],
   "metadata": {
    "collapsed": false,
    "ExecuteTime": {
     "end_time": "2023-05-24T20:18:08.205478800Z",
     "start_time": "2023-05-24T20:18:08.144482400Z"
    }
   }
  },
  {
   "cell_type": "code",
   "execution_count": 10,
   "outputs": [
    {
     "data": {
      "text/plain": "torch.Size([60000, 28, 28])"
     },
     "execution_count": 10,
     "metadata": {},
     "output_type": "execute_result"
    }
   ],
   "source": [
    "mnist_train.data.shape"
   ],
   "metadata": {
    "collapsed": false,
    "ExecuteTime": {
     "end_time": "2023-05-24T20:18:08.206486100Z",
     "start_time": "2023-05-24T20:18:08.162480400Z"
    }
   }
  },
  {
   "cell_type": "code",
   "execution_count": 11,
   "outputs": [
    {
     "data": {
      "text/plain": "60000"
     },
     "execution_count": 11,
     "metadata": {},
     "output_type": "execute_result"
    }
   ],
   "source": [
    "len(mnist_train)"
   ],
   "metadata": {
    "collapsed": false,
    "ExecuteTime": {
     "end_time": "2023-05-24T20:18:08.206486100Z",
     "start_time": "2023-05-24T20:18:08.178482100Z"
    }
   }
  },
  {
   "cell_type": "code",
   "execution_count": 12,
   "outputs": [
    {
     "data": {
      "text/plain": "2"
     },
     "execution_count": 12,
     "metadata": {},
     "output_type": "execute_result"
    }
   ],
   "source": [
    "len(mnist_train[0])"
   ],
   "metadata": {
    "collapsed": false,
    "ExecuteTime": {
     "end_time": "2023-05-24T20:18:08.206486100Z",
     "start_time": "2023-05-24T20:18:08.196480Z"
    }
   }
  },
  {
   "cell_type": "code",
   "execution_count": 13,
   "outputs": [
    {
     "data": {
      "text/plain": "60000"
     },
     "execution_count": 13,
     "metadata": {},
     "output_type": "execute_result"
    }
   ],
   "source": [
    "len(mnist_train.data)"
   ],
   "metadata": {
    "collapsed": false,
    "ExecuteTime": {
     "end_time": "2023-05-24T20:18:08.299478100Z",
     "start_time": "2023-05-24T20:18:08.209483200Z"
    }
   }
  },
  {
   "cell_type": "code",
   "execution_count": 14,
   "outputs": [
    {
     "data": {
      "text/plain": "28"
     },
     "execution_count": 14,
     "metadata": {},
     "output_type": "execute_result"
    }
   ],
   "source": [
    "len(mnist_train.data[0])"
   ],
   "metadata": {
    "collapsed": false,
    "ExecuteTime": {
     "end_time": "2023-05-24T20:18:08.327478800Z",
     "start_time": "2023-05-24T20:18:08.223480600Z"
    }
   }
  },
  {
   "cell_type": "code",
   "execution_count": 44,
   "outputs": [],
   "source": [
    "train_loader = DataLoader(mnist_train, batch_size=128, num_workers=4, shuffle=True)\n",
    "val_loader = DataLoader(mnist_val, batch_size=128, num_workers=4)"
   ],
   "metadata": {
    "collapsed": false,
    "ExecuteTime": {
     "end_time": "2023-05-24T21:33:10.920216800Z",
     "start_time": "2023-05-24T21:33:10.877178300Z"
    }
   }
  },
  {
   "cell_type": "code",
   "execution_count": 45,
   "outputs": [],
   "source": [
    "class MetricTracker(pl.Callback):\n",
    "    def __init__(self):\n",
    "        super().__init__()\n",
    "\n",
    "        # Single-float (scalar) tensors, like `tensor(0.5)`.\n",
    "        self.train_acc: list[torch.Tensor] = []\n",
    "        self.val_acc: list[torch.Tensor] = []\n",
    "        self.train_loss: list[torch.Tensor] = []\n",
    "        self.val_loss: list[torch.Tensor] = []\n",
    "\n",
    "    def on_train_epoch_end(self, trainer, pl_module):\n",
    "        self.train_acc.append(trainer.logged_metrics['acc_epoch'])\n",
    "        self.train_loss.append(trainer.logged_metrics['loss_epoch'])\n",
    "\n",
    "    def on_validation_epoch_end(self, trainer, pl_module):\n",
    "        self.val_acc.append(trainer.logged_metrics['val_acc_epoch'])\n",
    "        self.val_loss.append(trainer.logged_metrics['val_loss_epoch'])"
   ],
   "metadata": {
    "collapsed": false,
    "ExecuteTime": {
     "end_time": "2023-05-24T21:33:11.255815700Z",
     "start_time": "2023-05-24T21:33:11.210816100Z"
    }
   }
  },
  {
   "cell_type": "code",
   "execution_count": 24,
   "outputs": [],
   "source": [
    "class TestPredictionTracker(pl.Callback):\n",
    "    def __init__(self):\n",
    "        super().__init__()\n",
    "\n",
    "        # Single-float (scalar) tensors, like `tensor(0.5)`.\n",
    "        self.preds: list[torch.Tensor] = []\n",
    "        self.targets: list[torch.Tensor] = []\n",
    "\n",
    "    def on_test_batch_end(self, trainer, pl_module, outputs, batch, batch_idx, dataloader_idx):\n",
    "        y_hat, y = outputs\n",
    "        self.preds.extend(torch.argmax(y_hat, dim=1).tolist())\n",
    "        self.targets.extend(y.tolist())"
   ],
   "metadata": {
    "collapsed": false,
    "ExecuteTime": {
     "end_time": "2023-05-24T20:30:17.533851Z",
     "start_time": "2023-05-24T20:30:17.504335500Z"
    }
   }
  },
  {
   "cell_type": "code",
   "execution_count": 46,
   "outputs": [],
   "source": [
    "class MLP(pl.LightningModule):\n",
    "    def __init__(self):\n",
    "        super().__init__()\n",
    "\n",
    "        self.flatten = nn.Flatten()\n",
    "        self.hidden1 = nn.Linear(28 * 28, 100)\n",
    "        self.hidden2 = nn.Linear(100, 100)\n",
    "        self.hidden3 = nn.Linear(100, 100)\n",
    "        self.output = nn.Linear(100, 10)\n",
    "\n",
    "    def configure_optimizers(self):\n",
    "        return torch.optim.Adam(self.parameters(), lr=0.001)\n",
    "\n",
    "    def forward(self, x):\n",
    "        x = self.flatten(x)\n",
    "        x = F.relu(self.hidden1(x))\n",
    "        x = F.relu(self.hidden2(x))\n",
    "        x = F.relu(self.hidden3(x))\n",
    "        x = F.log_softmax(self.output(x), dim=1)\n",
    "        return x\n",
    "\n",
    "    def training_step(self, batch, batch_idx):\n",
    "        x, y = batch\n",
    "        y_hat = self(x)\n",
    "        loss = F.nll_loss(y_hat, y)\n",
    "        preds = torch.argmax(y_hat, dim=1)\n",
    "        acc = (preds == y).float().mean()\n",
    "        self.log('acc', acc, prog_bar=True, on_step=True, on_epoch=True)\n",
    "        self.log('loss', loss, prog_bar=True, on_step=True, on_epoch=True)\n",
    "        return loss\n",
    "\n",
    "    def validation_step(self, batch, batch_idx):\n",
    "        x, y = batch\n",
    "        y_hat = self(x)\n",
    "        loss = F.cross_entropy(y_hat, y)\n",
    "        preds = torch.argmax(y_hat, dim=1)\n",
    "        acc = (preds == y).float().mean()\n",
    "        self.log('val_acc', acc, prog_bar=True, on_step=True, on_epoch=True)\n",
    "        self.log('val_loss', loss, prog_bar=True, on_step=True, on_epoch=True)\n",
    "\n",
    "    def test_step(self, batch, batch_idx):\n",
    "        x, y = batch\n",
    "        y_hat = self(x)\n",
    "        return y_hat, y"
   ],
   "metadata": {
    "collapsed": false,
    "ExecuteTime": {
     "end_time": "2023-05-24T21:33:26.371605100Z",
     "start_time": "2023-05-24T21:33:26.342608800Z"
    }
   }
  },
  {
   "cell_type": "code",
   "execution_count": 47,
   "outputs": [
    {
     "name": "stderr",
     "output_type": "stream",
     "text": [
      "GPU available: False, used: False\n",
      "TPU available: False, using: 0 TPU cores\n",
      "IPU available: False, using: 0 IPUs\n",
      "HPU available: False, using: 0 HPUs\n",
      "\n",
      "  | Name    | Type    | Params\n",
      "------------------------------------\n",
      "0 | flatten | Flatten | 0     \n",
      "1 | hidden1 | Linear  | 78.5 K\n",
      "2 | hidden2 | Linear  | 10.1 K\n",
      "3 | hidden3 | Linear  | 10.1 K\n",
      "4 | output  | Linear  | 1.0 K \n",
      "------------------------------------\n",
      "99.7 K    Trainable params\n",
      "0         Non-trainable params\n",
      "99.7 K    Total params\n",
      "0.399     Total estimated model params size (MB)\n"
     ]
    },
    {
     "data": {
      "text/plain": "Training: 0it [00:00, ?it/s]",
      "application/vnd.jupyter.widget-view+json": {
       "version_major": 2,
       "version_minor": 0,
       "model_id": "64c4ee06cabd4d5fbdca1fcb6966d5e6"
      }
     },
     "metadata": {},
     "output_type": "display_data"
    },
    {
     "data": {
      "text/plain": "Validation: 0it [00:00, ?it/s]",
      "application/vnd.jupyter.widget-view+json": {
       "version_major": 2,
       "version_minor": 0,
       "model_id": "d75a4a40570644fea4a26e73fbbe4079"
      }
     },
     "metadata": {},
     "output_type": "display_data"
    },
    {
     "data": {
      "text/plain": "Validation: 0it [00:00, ?it/s]",
      "application/vnd.jupyter.widget-view+json": {
       "version_major": 2,
       "version_minor": 0,
       "model_id": "c38dd7656151465c8799a2b177aa8526"
      }
     },
     "metadata": {},
     "output_type": "display_data"
    },
    {
     "data": {
      "text/plain": "Validation: 0it [00:00, ?it/s]",
      "application/vnd.jupyter.widget-view+json": {
       "version_major": 2,
       "version_minor": 0,
       "model_id": "2f5a9e9d316746599e320c16b95ad587"
      }
     },
     "metadata": {},
     "output_type": "display_data"
    },
    {
     "data": {
      "text/plain": "Validation: 0it [00:00, ?it/s]",
      "application/vnd.jupyter.widget-view+json": {
       "version_major": 2,
       "version_minor": 0,
       "model_id": "3f0e928bd9fe4df3bf2fa7ed89f7d98d"
      }
     },
     "metadata": {},
     "output_type": "display_data"
    },
    {
     "data": {
      "text/plain": "Validation: 0it [00:00, ?it/s]",
      "application/vnd.jupyter.widget-view+json": {
       "version_major": 2,
       "version_minor": 0,
       "model_id": "8737b9ba4bc04dbdb81d1fea0370113c"
      }
     },
     "metadata": {},
     "output_type": "display_data"
    },
    {
     "name": "stderr",
     "output_type": "stream",
     "text": [
      "`Trainer.fit` stopped: `max_epochs=5` reached.\n"
     ]
    },
    {
     "name": "stdout",
     "output_type": "stream",
     "text": [
      "MLP(\n",
      "  (flatten): Flatten(start_dim=1, end_dim=-1)\n",
      "  (hidden1): Linear(in_features=784, out_features=100, bias=True)\n",
      "  (hidden2): Linear(in_features=100, out_features=100, bias=True)\n",
      "  (hidden3): Linear(in_features=100, out_features=100, bias=True)\n",
      "  (output): Linear(in_features=100, out_features=10, bias=True)\n",
      ")\n"
     ]
    }
   ],
   "source": [
    "model = MLP()\n",
    "metrics = MetricTracker()\n",
    "test_preds = TestPredictionTracker()\n",
    "trainer = pl.Trainer(max_epochs=5, callbacks=[metrics, test_preds], num_sanity_val_steps=0)\n",
    "trainer.fit(model, train_loader, val_loader)\n",
    "print(model)"
   ],
   "metadata": {
    "collapsed": false,
    "ExecuteTime": {
     "end_time": "2023-05-24T21:35:50.678102500Z",
     "start_time": "2023-05-24T21:33:28.672387900Z"
    }
   }
  },
  {
   "cell_type": "code",
   "execution_count": 48,
   "outputs": [
    {
     "name": "stdout",
     "output_type": "stream",
     "text": [
      "[tensor(0.8762), tensor(0.9483), tensor(0.9641), tensor(0.9723), tensor(0.9777)]\n",
      "[tensor(0.9339), tensor(0.9584), tensor(0.9658), tensor(0.9703), tensor(0.9702)]\n",
      "[tensor(0.4394), tensor(0.1732), tensor(0.1197), tensor(0.0903), tensor(0.0724)]\n",
      "[tensor(0.2170), tensor(0.1416), tensor(0.1127), tensor(0.0979), tensor(0.0950)]\n"
     ]
    }
   ],
   "source": [
    "print(metrics.train_acc)\n",
    "print(metrics.val_acc)\n",
    "print(metrics.train_loss)\n",
    "print(metrics.val_loss)"
   ],
   "metadata": {
    "collapsed": false,
    "ExecuteTime": {
     "end_time": "2023-05-24T21:39:56.703534100Z",
     "start_time": "2023-05-24T21:39:56.635543Z"
    }
   }
  },
  {
   "cell_type": "code",
   "execution_count": 49,
   "outputs": [],
   "source": [
    "from matplotlib import pyplot as plt\n",
    "\n",
    "\n",
    "def plot_learning_curve(metrics: MetricTracker):\n",
    "    plt.figure(figsize=(10, 3))\n",
    "\n",
    "    # Accuracy\n",
    "    plt.subplot(1, 2, 1)\n",
    "    plt.plot(metrics.train_acc, label='Training Accuracy')\n",
    "    plt.plot(metrics.val_acc, label='Validation Accuracy')\n",
    "    plt.legend()\n",
    "    plt.xticks(range(len(metrics.train_acc)))\n",
    "    plt.xlabel('Epoch')\n",
    "    plt.ylabel('Accuracy')\n",
    "    plt.title('Model Accuracy')\n",
    "\n",
    "    # Loss\n",
    "    plt.subplot(1, 2, 2)\n",
    "    plt.plot(metrics.train_loss, label='Training Loss')\n",
    "    plt.plot(metrics.val_loss, label='Validation Loss')\n",
    "    plt.legend()\n",
    "    plt.xticks(range(len(metrics.train_loss)))\n",
    "    plt.xlabel('Epoch')\n",
    "    plt.ylabel('Loss')\n",
    "    plt.title('Model Loss')\n",
    "\n",
    "    plt.show()"
   ],
   "metadata": {
    "collapsed": false,
    "ExecuteTime": {
     "end_time": "2023-05-24T21:39:59.140370100Z",
     "start_time": "2023-05-24T21:39:59.114371700Z"
    }
   }
  },
  {
   "cell_type": "code",
   "execution_count": 50,
   "outputs": [
    {
     "data": {
      "text/plain": "<Figure size 1000x300 with 2 Axes>",
      "image/png": "[encoded data removed]"
     },
     "metadata": {},
     "output_type": "display_data"
    }
   ],
   "source": [
    "plot_learning_curve(metrics)"
   ],
   "metadata": {
    "collapsed": false,
    "ExecuteTime": {
     "end_time": "2023-05-24T21:40:00.805427900Z",
     "start_time": "2023-05-24T21:40:00.165374200Z"
    }
   }
  },
  {
   "cell_type": "code",
   "execution_count": 51,
   "outputs": [
    {
     "data": {
      "text/plain": "Testing: 0it [00:00, ?it/s]",
      "application/vnd.jupyter.widget-view+json": {
       "version_major": 2,
       "version_minor": 0,
       "model_id": "d8961749bc664d9da17fd4829a2ddb81"
      }
     },
     "metadata": {},
     "output_type": "display_data"
    }
   ],
   "source": [
    "trainer.test(model, val_loader)\n",
    "y_true = test_preds.targets\n",
    "y_pred = test_preds.preds"
   ],
   "metadata": {
    "collapsed": false,
    "ExecuteTime": {
     "end_time": "2023-05-24T21:40:13.294412600Z",
     "start_time": "2023-05-24T21:40:06.515796800Z"
    }
   }
  },
  {
   "cell_type": "code",
   "execution_count": 52,
   "outputs": [
    {
     "name": "stdout",
     "output_type": "stream",
     "text": [
      "              precision    recall  f1-score   support\n",
      "\n",
      "           0       0.97      0.99      0.98       980\n",
      "           1       0.99      0.99      0.99      1135\n",
      "           2       0.97      0.97      0.97      1032\n",
      "           3       0.91      0.99      0.95      1010\n",
      "           4       0.98      0.97      0.97       982\n",
      "           5       0.98      0.94      0.96       892\n",
      "           6       0.98      0.98      0.98       958\n",
      "           7       0.98      0.97      0.97      1028\n",
      "           8       0.99      0.93      0.96       974\n",
      "           9       0.96      0.97      0.96      1009\n",
      "\n",
      "    accuracy                           0.97     10000\n",
      "   macro avg       0.97      0.97      0.97     10000\n",
      "weighted avg       0.97      0.97      0.97     10000\n",
      "\n"
     ]
    }
   ],
   "source": [
    "from sklearn.metrics import classification_report\n",
    "\n",
    "print(classification_report(y_true, y_pred))"
   ],
   "metadata": {
    "collapsed": false,
    "ExecuteTime": {
     "end_time": "2023-05-24T21:40:14.998329200Z",
     "start_time": "2023-05-24T21:40:14.928294800Z"
    }
   }
  },
  {
   "cell_type": "code",
   "execution_count": 53,
   "outputs": [],
   "source": [
    "import numpy as np\n",
    "import matplotlib.pyplot as plt\n",
    "\n",
    "def plot_bars(model_name, y_true, y_pred):\n",
    "    metric = 'f1-score'\n",
    "\n",
    "    report = classification_report(y_true, y_pred, output_dict=True)\n",
    "    keys = range(10)\n",
    "    values = [report[str(k)][metric] for k in keys]\n",
    "\n",
    "    plt.figure(figsize=(5, 5))\n",
    "\n",
    "    plt.bar(keys, values)\n",
    "    plt.axhline(np.asarray(values).mean(), c='green', linestyle='dashed')  # average\n",
    "    plt.axhline(1., c='cyan', linestyle='dashed')  # perfect\n",
    "\n",
    "    plt.xticks(keys)\n",
    "    plt.yticks(np.arange(0., 1.05, 0.05))\n",
    "    plt.xlabel('digit')\n",
    "    plt.ylabel(metric)\n",
    "    plt.title('Handwritten Digits Recognition: ' + model_name)\n",
    "\n",
    "    plt.show()"
   ],
   "metadata": {
    "collapsed": false,
    "ExecuteTime": {
     "end_time": "2023-05-24T21:40:23.054675Z",
     "start_time": "2023-05-24T21:40:22.999183Z"
    }
   }
  },
  {
   "cell_type": "code",
   "execution_count": 54,
   "outputs": [
    {
     "data": {
      "text/plain": "<Figure size 500x500 with 1 Axes>",
      "image/png": "[encoded data removed]"
     },
     "metadata": {},
     "output_type": "display_data"
    }
   ],
   "source": [
    "plot_bars('PyTorch Lightning MLP', y_true, y_pred)"
   ],
   "metadata": {
    "collapsed": false,
    "ExecuteTime": {
     "end_time": "2023-05-24T21:40:25.731023400Z",
     "start_time": "2023-05-24T21:40:24.953023500Z"
    }
   }
  },
  {
   "cell_type": "code",
   "execution_count": 57,
   "outputs": [],
   "source": [
    "from PIL import Image\n",
    "\n",
    "@torch.no_grad()\n",
    "def simple_classify_one_mlp(test_pic_file):\n",
    "    image = Image.open(f'{dir}/{test_pic_file}').convert('L').resize((28, 28))  # grayscale 28x28\n",
    "    transform = transforms.Compose([transforms.ToTensor()])\n",
    "    image = transform(image)\n",
    "\n",
    "    # For our MLP, we need a 3D array of shape (bach_size, height, width).\n",
    "    # Here, batch_size = 1 (only 1 image to classify)\n",
    "    image = image.unsqueeze(0)\n",
    "\n",
    "    log_probabilities = model(image)\n",
    "    probabilities = torch.exp(log_probabilities)\n",
    "    y_pred = torch.argmax(probabilities)\n",
    "    y_pred_confidence = float(probabilities[0][y_pred])\n",
    "    print(f'[MLP] Classification: {y_pred}. Confidence: {round(y_pred_confidence * 100., 2)}%')"
   ],
   "metadata": {
    "collapsed": false,
    "ExecuteTime": {
     "end_time": "2023-05-24T21:42:50.669775600Z",
     "start_time": "2023-05-24T21:42:50.630751100Z"
    }
   }
  },
  {
   "cell_type": "code",
   "execution_count": 58,
   "outputs": [
    {
     "name": "stdout",
     "output_type": "stream",
     "text": [
      "[MLP] Classification: 1. Confidence: 99.84%\n"
     ]
    }
   ],
   "source": [
    "simple_classify_one_mlp('test_1.png')"
   ],
   "metadata": {
    "collapsed": false,
    "ExecuteTime": {
     "end_time": "2023-05-24T21:42:50.945795200Z",
     "start_time": "2023-05-24T21:42:50.830751200Z"
    }
   }
  },
  {
   "cell_type": "code",
   "execution_count": 59,
   "outputs": [
    {
     "name": "stdout",
     "output_type": "stream",
     "text": [
      "[MLP] Classification: 3. Confidence: 99.54%\n"
     ]
    }
   ],
   "source": [
    "simple_classify_one_mlp('test_3.png')"
   ],
   "metadata": {
    "collapsed": false,
    "ExecuteTime": {
     "end_time": "2023-05-24T21:42:53.124315300Z",
     "start_time": "2023-05-24T21:42:53.093316900Z"
    }
   }
  },
  {
   "cell_type": "code",
   "execution_count": 60,
   "outputs": [
    {
     "name": "stdout",
     "output_type": "stream",
     "text": [
      "[MLP] Classification: 3. Confidence: 67.59%\n"
     ]
    }
   ],
   "source": [
    "simple_classify_one_mlp('test_8.png')"
   ],
   "metadata": {
    "collapsed": false,
    "ExecuteTime": {
     "end_time": "2023-05-24T21:42:54.995691800Z",
     "start_time": "2023-05-24T21:42:54.959116Z"
    }
   }
  },
  {
   "cell_type": "code",
   "execution_count": 61,
   "outputs": [
    {
     "name": "stdout",
     "output_type": "stream",
     "text": [
      "[MLP] Classification: 2. Confidence: 25.76%\n"
     ]
    }
   ],
   "source": [
    "simple_classify_one_mlp('test_9.png')"
   ],
   "metadata": {
    "collapsed": false,
    "ExecuteTime": {
     "end_time": "2023-05-24T21:42:57.154843Z",
     "start_time": "2023-05-24T21:42:57.078845600Z"
    }
   }
  },
  {
   "cell_type": "markdown",
   "source": [
    "# 2. CNN"
   ],
   "metadata": {
    "collapsed": false
   }
  },
  {
   "cell_type": "code",
   "execution_count": 62,
   "outputs": [],
   "source": [
    "class CNN(pl.LightningModule):\n",
    "    def __init__(self):\n",
    "        super().__init__()\n",
    "\n",
    "        self.conv1 = nn.Conv2d(1, 32, kernel_size=5)\n",
    "        self.conv2 = nn.Conv2d(32, 64, kernel_size=5)\n",
    "        # We had pics of size 28. After conv1, they are 28-4. After 1st pooling, they are (28-4)/2.\n",
    "        # After conv2, they are ((28-4)/2)-4. Finally, after 2nd pooling, they are (((28-4)/2)-4)/2 = 4.\n",
    "        # And conv2 outputs 64 feature maps for each input sample. Hence the 64 * 4 * 4.\n",
    "        self.fc1 = nn.Linear(64 * 4 * 4, 500)\n",
    "        self.fc2 = nn.Linear(500, 10)\n",
    "\n",
    "    def configure_optimizers(self):\n",
    "        return torch.optim.Adam(self.parameters(), lr=0.001)\n",
    "\n",
    "    def forward(self, x):\n",
    "        x = self.conv1(x)  # 28x28 images -> 32 x (24x24) feature maps\n",
    "        x = F.relu(x)  # conv1 activation\n",
    "        x = F.max_pool2d(x, 2)  # 24x24 feature maps -> 12x12 feature maps\n",
    "\n",
    "        x = self.conv2(x)  # 32 x (12x12) feature maps -> 64 x (8x8) feature maps\n",
    "        x = F.relu(x)  # conv2 activation\n",
    "        x = F.max_pool2d(x, 2)  # 8x8 feature maps -> 4x4 feature maps\n",
    "\n",
    "        x = x.view(x.size(0), -1)  # flatten: 4x4 feature maps -> 16x1 feature vector\n",
    "        x = self.fc1(x)  # dense: 16x1 feature vector -> [compute weighted sum and bias] -> 500 scalar outputs\n",
    "        x = F.relu(x)  # fc1 activation\n",
    "        x = F.dropout(x, 0.5)  # dropout\n",
    "\n",
    "        x = self.fc2(x)  # 500 scalars -> [compute weighted sum and biases] -> 10 scalar outputs\n",
    "        x = F.log_softmax(x, dim=1)  # fc2 activation (output probabilities for each of the 10 classes)\n",
    "\n",
    "        return x\n",
    "\n",
    "    def training_step(self, batch, batch_idx):\n",
    "        x, y = batch\n",
    "        y_hat = self(x)\n",
    "        loss = F.nll_loss(y_hat, y)\n",
    "        preds = torch.argmax(y_hat, dim=1)\n",
    "        acc = (preds == y).float().mean()\n",
    "        self.log('acc', acc, prog_bar=True, on_step=True, on_epoch=True)\n",
    "        self.log('loss', loss, prog_bar=True, on_step=True, on_epoch=True)\n",
    "        return loss\n",
    "\n",
    "    def validation_step(self, batch, batch_idx):\n",
    "        x, y = batch\n",
    "        y_hat = self(x)\n",
    "        loss = F.cross_entropy(y_hat, y)\n",
    "        preds = torch.argmax(y_hat, dim=1)\n",
    "        acc = (preds == y).float().mean()\n",
    "        self.log('val_acc', acc, prog_bar=True, on_step=True, on_epoch=True)\n",
    "        self.log('val_loss', loss, prog_bar=True, on_step=True, on_epoch=True)\n",
    "\n",
    "    def test_step(self, batch, batch_idx):\n",
    "        x, y = batch\n",
    "        y_hat = self(x)\n",
    "        return y_hat, y"
   ],
   "metadata": {
    "collapsed": false,
    "ExecuteTime": {
     "end_time": "2023-05-24T21:43:14.550126400Z",
     "start_time": "2023-05-24T21:43:14.483164300Z"
    }
   }
  },
  {
   "cell_type": "code",
   "execution_count": 63,
   "outputs": [
    {
     "name": "stderr",
     "output_type": "stream",
     "text": [
      "GPU available: False, used: False\n",
      "TPU available: False, using: 0 TPU cores\n",
      "IPU available: False, using: 0 IPUs\n",
      "HPU available: False, using: 0 HPUs\n",
      "\n",
      "  | Name  | Type   | Params\n",
      "---------------------------------\n",
      "0 | conv1 | Conv2d | 832   \n",
      "1 | conv2 | Conv2d | 51.3 K\n",
      "2 | fc1   | Linear | 512 K \n",
      "3 | fc2   | Linear | 5.0 K \n",
      "---------------------------------\n",
      "569 K     Trainable params\n",
      "0         Non-trainable params\n",
      "569 K     Total params\n",
      "2.278     Total estimated model params size (MB)\n"
     ]
    },
    {
     "data": {
      "text/plain": "Training: 0it [00:00, ?it/s]",
      "application/vnd.jupyter.widget-view+json": {
       "version_major": 2,
       "version_minor": 0,
       "model_id": "1c1d739252c94fa791b938f0d9598300"
      }
     },
     "metadata": {},
     "output_type": "display_data"
    },
    {
     "data": {
      "text/plain": "Validation: 0it [00:00, ?it/s]",
      "application/vnd.jupyter.widget-view+json": {
       "version_major": 2,
       "version_minor": 0,
       "model_id": "7bf1c1d9c3ba4b0698aff45d66fe3a56"
      }
     },
     "metadata": {},
     "output_type": "display_data"
    },
    {
     "data": {
      "text/plain": "Validation: 0it [00:00, ?it/s]",
      "application/vnd.jupyter.widget-view+json": {
       "version_major": 2,
       "version_minor": 0,
       "model_id": "c3e34adf83724711b224733c4d587f55"
      }
     },
     "metadata": {},
     "output_type": "display_data"
    },
    {
     "data": {
      "text/plain": "Validation: 0it [00:00, ?it/s]",
      "application/vnd.jupyter.widget-view+json": {
       "version_major": 2,
       "version_minor": 0,
       "model_id": "110b7ec2f36544518908b398340c7b31"
      }
     },
     "metadata": {},
     "output_type": "display_data"
    },
    {
     "data": {
      "text/plain": "Validation: 0it [00:00, ?it/s]",
      "application/vnd.jupyter.widget-view+json": {
       "version_major": 2,
       "version_minor": 0,
       "model_id": "a77ab8e2704446e9aaf688d3afd1ee88"
      }
     },
     "metadata": {},
     "output_type": "display_data"
    },
    {
     "data": {
      "text/plain": "Validation: 0it [00:00, ?it/s]",
      "application/vnd.jupyter.widget-view+json": {
       "version_major": 2,
       "version_minor": 0,
       "model_id": "133625614c8f44499a7bc5a3b76b9602"
      }
     },
     "metadata": {},
     "output_type": "display_data"
    },
    {
     "name": "stderr",
     "output_type": "stream",
     "text": [
      "`Trainer.fit` stopped: `max_epochs=5` reached.\n"
     ]
    },
    {
     "name": "stdout",
     "output_type": "stream",
     "text": [
      "CNN(\n",
      "  (conv1): Conv2d(1, 32, kernel_size=(5, 5), stride=(1, 1))\n",
      "  (conv2): Conv2d(32, 64, kernel_size=(5, 5), stride=(1, 1))\n",
      "  (fc1): Linear(in_features=1024, out_features=500, bias=True)\n",
      "  (fc2): Linear(in_features=500, out_features=10, bias=True)\n",
      ")\n"
     ]
    }
   ],
   "source": [
    "model = CNN()\n",
    "metrics = MetricTracker()\n",
    "test_preds = TestPredictionTracker()\n",
    "trainer = pl.Trainer(max_epochs=5, callbacks=[metrics, test_preds], num_sanity_val_steps=0)\n",
    "trainer.fit(model, train_loader, val_loader)\n",
    "print(model)"
   ],
   "metadata": {
    "collapsed": false,
    "ExecuteTime": {
     "end_time": "2023-05-24T21:57:40.017453800Z",
     "start_time": "2023-05-24T21:44:19.216050400Z"
    }
   }
  },
  {
   "cell_type": "code",
   "execution_count": 64,
   "outputs": [
    {
     "data": {
      "text/plain": "<Figure size 1000x300 with 2 Axes>",
      "image/png": "[encoded data removed]"
     },
     "metadata": {},
     "output_type": "display_data"
    }
   ],
   "source": [
    "plot_learning_curve(metrics)"
   ],
   "metadata": {
    "collapsed": false,
    "ExecuteTime": {
     "end_time": "2023-05-24T21:58:17.629438400Z",
     "start_time": "2023-05-24T21:58:16.952434500Z"
    }
   }
  },
  {
   "cell_type": "code",
   "execution_count": 65,
   "outputs": [
    {
     "data": {
      "text/plain": "Testing: 0it [00:00, ?it/s]",
      "application/vnd.jupyter.widget-view+json": {
       "version_major": 2,
       "version_minor": 0,
       "model_id": "666765a6b39d46f9a852b019411a9cf2"
      }
     },
     "metadata": {},
     "output_type": "display_data"
    }
   ],
   "source": [
    "trainer.test(model, val_loader)\n",
    "y_true = test_preds.targets\n",
    "y_pred = test_preds.preds"
   ],
   "metadata": {
    "collapsed": false,
    "ExecuteTime": {
     "end_time": "2023-05-24T21:58:48.622602500Z",
     "start_time": "2023-05-24T21:58:32.828302Z"
    }
   }
  },
  {
   "cell_type": "code",
   "execution_count": 66,
   "outputs": [
    {
     "name": "stdout",
     "output_type": "stream",
     "text": [
      "              precision    recall  f1-score   support\n",
      "\n",
      "           0       1.00      0.99      1.00       980\n",
      "           1       1.00      1.00      1.00      1135\n",
      "           2       0.99      0.99      0.99      1032\n",
      "           3       0.99      0.99      0.99      1010\n",
      "           4       1.00      0.99      0.99       982\n",
      "           5       0.99      0.99      0.99       892\n",
      "           6       0.99      0.99      0.99       958\n",
      "           7       0.98      1.00      0.99      1028\n",
      "           8       0.99      0.99      0.99       974\n",
      "           9       0.99      0.99      0.99      1009\n",
      "\n",
      "    accuracy                           0.99     10000\n",
      "   macro avg       0.99      0.99      0.99     10000\n",
      "weighted avg       0.99      0.99      0.99     10000\n",
      "\n"
     ]
    }
   ],
   "source": [
    "from sklearn.metrics import classification_report\n",
    "\n",
    "print(classification_report(y_true, y_pred))"
   ],
   "metadata": {
    "collapsed": false,
    "ExecuteTime": {
     "end_time": "2023-05-24T21:59:09.059989100Z",
     "start_time": "2023-05-24T21:59:08.975989600Z"
    }
   }
  },
  {
   "cell_type": "code",
   "execution_count": 68,
   "outputs": [
    {
     "data": {
      "text/plain": "<Figure size 500x500 with 1 Axes>",
      "image/png": "[encoded data removed]"
     },
     "metadata": {},
     "output_type": "display_data"
    }
   ],
   "source": [
    "plot_bars('PyTorch Lightning CNN', y_true, y_pred)"
   ],
   "metadata": {
    "collapsed": false,
    "ExecuteTime": {
     "end_time": "2023-05-24T22:00:05.941986500Z",
     "start_time": "2023-05-24T22:00:05.563986800Z"
    }
   }
  },
  {
   "cell_type": "code",
   "execution_count": 71,
   "outputs": [],
   "source": [
    "from PIL import Image\n",
    "\n",
    "@torch.no_grad()\n",
    "def simple_classify_one_cnn(test_pic_file):\n",
    "    image = Image.open(f'{dir}/{test_pic_file}').convert('L').resize((28, 28))  # grayscale 28x28\n",
    "    transform = transforms.Compose([transforms.ToTensor()])\n",
    "    image = transform(image)\n",
    "\n",
    "    # For our CNN, we need a 4D array of shape (bach_size, num_channels, height, width).\n",
    "    # Here, batch_size = 1 (only 1 image to classify), channels = 1 (grayscale -- just the luminosity).\n",
    "    image = image.unsqueeze(0)\n",
    "\n",
    "    log_probabilities = model(image)\n",
    "    probabilities = torch.exp(log_probabilities)\n",
    "    y_pred = torch.argmax(probabilities)\n",
    "    y_pred_confidence = float(probabilities[0][y_pred])\n",
    "    print(f'[CNN] Classification: {y_pred}. Confidence: {round(y_pred_confidence * 100., 2)}%')"
   ],
   "metadata": {
    "collapsed": false,
    "ExecuteTime": {
     "end_time": "2023-05-24T22:02:46.025309600Z",
     "start_time": "2023-05-24T22:02:45.967264800Z"
    }
   }
  },
  {
   "cell_type": "code",
   "execution_count": 72,
   "outputs": [
    {
     "name": "stdout",
     "output_type": "stream",
     "text": [
      "[CNN] Classification: 1. Confidence: 99.97%\n"
     ]
    }
   ],
   "source": [
    "simple_classify_one_cnn('test_1.png')"
   ],
   "metadata": {
    "collapsed": false,
    "ExecuteTime": {
     "end_time": "2023-05-24T22:02:47.207022400Z",
     "start_time": "2023-05-24T22:02:47.128026700Z"
    }
   }
  },
  {
   "cell_type": "code",
   "execution_count": 73,
   "outputs": [
    {
     "name": "stdout",
     "output_type": "stream",
     "text": [
      "[CNN] Classification: 3. Confidence: 100.0%\n"
     ]
    }
   ],
   "source": [
    "simple_classify_one_cnn('test_3.png')"
   ],
   "metadata": {
    "collapsed": false,
    "ExecuteTime": {
     "end_time": "2023-05-24T22:02:56.662438700Z",
     "start_time": "2023-05-24T22:02:56.592404700Z"
    }
   }
  },
  {
   "cell_type": "code",
   "execution_count": 74,
   "outputs": [
    {
     "name": "stdout",
     "output_type": "stream",
     "text": [
      "[CNN] Classification: 8. Confidence: 82.12%\n"
     ]
    }
   ],
   "source": [
    "simple_classify_one_cnn('test_8.png')"
   ],
   "metadata": {
    "collapsed": false,
    "ExecuteTime": {
     "end_time": "2023-05-24T22:03:01.708910800Z",
     "start_time": "2023-05-24T22:03:01.658884300Z"
    }
   }
  },
  {
   "cell_type": "code",
   "execution_count": 75,
   "outputs": [
    {
     "name": "stdout",
     "output_type": "stream",
     "text": [
      "[CNN] Classification: 3. Confidence: 40.56%\n"
     ]
    }
   ],
   "source": [
    "simple_classify_one_cnn('test_9.png')"
   ],
   "metadata": {
    "collapsed": false,
    "ExecuteTime": {
     "end_time": "2023-05-24T22:03:05.171477800Z",
     "start_time": "2023-05-24T22:03:05.111477900Z"
    }
   }
  },
  {
   "cell_type": "code",
   "execution_count": null,
   "outputs": [],
   "source": [],
   "metadata": {
    "collapsed": false
   }
  }
 ],
 "metadata": {
  "kernelspec": {
   "display_name": "Python 3",
   "language": "python",
   "name": "python3"
  },
  "language_info": {
   "codemirror_mode": {
    "name": "ipython",
    "version": 2
   },
   "file_extension": ".py",
   "mimetype": "text/x-python",
   "name": "python",
   "nbconvert_exporter": "python",
   "pygments_lexer": "ipython2",
   "version": "2.7.6"
  }
 },
 "nbformat": 4,
 "nbformat_minor": 0
}
