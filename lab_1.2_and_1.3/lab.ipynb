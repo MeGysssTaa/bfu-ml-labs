{
 "cells": [
  {
   "cell_type": "code",
   "execution_count": 70,
   "metadata": {
    "collapsed": true,
    "ExecuteTime": {
     "end_time": "2023-05-07T09:03:20.729793Z",
     "start_time": "2023-05-07T09:03:20.691757Z"
    }
   },
   "outputs": [],
   "source": [
    "dir = 'D:/projects/datascience/bfu-ml-labs/lab_1.2'"
   ]
  },
  {
   "cell_type": "code",
   "execution_count": 71,
   "outputs": [],
   "source": [
    "import pandas as pd\n",
    "import numpy as np\n",
    "import matplotlib.pyplot as plt\n",
    "from sklearn import datasets"
   ],
   "metadata": {
    "collapsed": false,
    "ExecuteTime": {
     "end_time": "2023-05-07T09:03:20.826758500Z",
     "start_time": "2023-05-07T09:03:20.706778900Z"
    }
   }
  },
  {
   "cell_type": "code",
   "execution_count": 72,
   "outputs": [
    {
     "name": "stdout",
     "output_type": "stream",
     "text": [
      "<class 'pandas.core.frame.DataFrame'>\n",
      "RangeIndex: 442 entries, 0 to 441\n",
      "Data columns (total 11 columns):\n",
      " #   Column  Non-Null Count  Dtype  \n",
      "---  ------  --------------  -----  \n",
      " 0   age     442 non-null    float64\n",
      " 1   sex     442 non-null    float64\n",
      " 2   bmi     442 non-null    float64\n",
      " 3   bp      442 non-null    float64\n",
      " 4   s1      442 non-null    float64\n",
      " 5   s2      442 non-null    float64\n",
      " 6   s3      442 non-null    float64\n",
      " 7   s4      442 non-null    float64\n",
      " 8   s5      442 non-null    float64\n",
      " 9   s6      442 non-null    float64\n",
      " 10  target  442 non-null    float64\n",
      "dtypes: float64(11)\n",
      "memory usage: 38.1 KB\n"
     ]
    }
   ],
   "source": [
    "df = datasets.load_diabetes(as_frame=True).frame\n",
    "df.info()"
   ],
   "metadata": {
    "collapsed": false,
    "ExecuteTime": {
     "end_time": "2023-05-07T09:03:20.827756700Z",
     "start_time": "2023-05-07T09:03:20.720762100Z"
    }
   }
  },
  {
   "cell_type": "code",
   "execution_count": 73,
   "outputs": [
    {
     "data": {
      "text/plain": "((353, 11), (89, 11))"
     },
     "execution_count": 73,
     "metadata": {},
     "output_type": "execute_result"
    }
   ],
   "source": [
    "from sklearn.model_selection import train_test_split\n",
    "\n",
    "train, test = train_test_split(df, test_size=0.2, random_state=123)\n",
    "train.shape, test.shape"
   ],
   "metadata": {
    "collapsed": false,
    "ExecuteTime": {
     "end_time": "2023-05-07T09:03:20.827756700Z",
     "start_time": "2023-05-07T09:03:20.799757400Z"
    }
   }
  },
  {
   "cell_type": "code",
   "execution_count": 90,
   "outputs": [
    {
     "data": {
      "text/plain": "<seaborn.axisgrid.PairGrid at 0x21100dbd490>"
     },
     "execution_count": 90,
     "metadata": {},
     "output_type": "execute_result"
    }
   ],
   "source": [
    "import seaborn as sns\n",
    "\n",
    "sns.pairplot(df)"
   ],
   "metadata": {
    "collapsed": false,
    "ExecuteTime": {
     "end_time": "2023-05-07T09:06:24.309903300Z",
     "start_time": "2023-05-07T09:06:06.367362700Z"
    }
   }
  },
  {
   "cell_type": "markdown",
   "source": [
    "По графикам можно сделать вывод, что сильнее всего на значение целевой переменной `target` (численной оценки степени развития диабета) влияет столбец `s5` (*\"ltg, possibly log of serum triglycerides level\"*, если верить документации `sklearn`).\n",
    "\n",
    "Тогда возьмём `X = s5, y = target`."
   ],
   "metadata": {
    "collapsed": false
   }
  },
  {
   "cell_type": "code",
   "execution_count": 75,
   "outputs": [],
   "source": [
    "X_train, X_test = train[['s5']], test[['s5']]\n",
    "y_train, y_test = train['target'], test['target']"
   ],
   "metadata": {
    "collapsed": false,
    "ExecuteTime": {
     "end_time": "2023-05-07T09:03:34.252275500Z",
     "start_time": "2023-05-07T09:03:34.237275200Z"
    }
   }
  },
  {
   "cell_type": "markdown",
   "source": [
    "# Линейная регрессия. Используем sklearn."
   ],
   "metadata": {
    "collapsed": false
   }
  },
  {
   "cell_type": "code",
   "execution_count": 76,
   "outputs": [
    {
     "data": {
      "text/plain": "(array([866.13662601]), 152.59585493910072)"
     },
     "execution_count": 76,
     "metadata": {},
     "output_type": "execute_result"
    }
   ],
   "source": [
    "from sklearn.linear_model import LinearRegression\n",
    "\n",
    "model = LinearRegression()\n",
    "model.fit(X_train, y_train)\n",
    "model.coef_, model.intercept_"
   ],
   "metadata": {
    "collapsed": false,
    "ExecuteTime": {
     "end_time": "2023-05-07T09:03:34.312271Z",
     "start_time": "2023-05-07T09:03:34.253276300Z"
    }
   }
  },
  {
   "cell_type": "code",
   "execution_count": 77,
   "outputs": [
    {
     "data": {
      "text/plain": "array([185.84965341, 152.83099867, 208.31289365, 130.1175096 ,\n       175.73405191, 225.78031359, 176.86197737, 173.42867822,\n        69.07150863, 136.90296002, 139.64150412, 177.97401603,\n       166.71817174, 179.61324666, 264.34429279, 183.82509532,\n       125.96110578, 136.90296002, 209.80262538, 187.8235922 ,\n       164.78452148, 181.74725331, 144.84911254, 106.72630445,\n       157.97397062, 181.21913469, 110.70799379,  96.5715201 ,\n       155.07627147, 222.39387704,  91.7849977 , 213.40843186,\n       211.26476789, 200.41096037, 199.99431856,  98.10464477,\n       128.06665561, 115.72259562, 192.09238528, 123.79786253,\n       202.86566915, 103.95572405, 116.92801505, 144.00468268,\n       125.96110578, 181.74725331, 109.40294855, 101.08437346,\n       132.11643762, 200.82541507, 111.99181784, 125.96110578,\n       110.70799379, 185.34836004, 153.58653974, 226.67922394,\n       152.06815757, 166.07886915, 172.8416611 , 151.29787401,\n       116.92801505, 129.09874141, 155.81072737, 136.90296002,\n       195.70231412,  77.39008372, 123.79786253, 160.76907452,\n       120.4376346 , 108.07596875, 123.79786253, 116.92801505,\n       158.68207796, 184.84386351, 142.28823596, 157.25945498,\n       125.96110578, 172.8416611 , 109.40294855, 121.57367491,\n        75.3911557 , 173.42867822, 133.0972383 , 189.27231981,\n       238.55144922, 192.09238528, 169.83926743, 120.4376346 ,\n       130.1175096 ])"
     },
     "execution_count": 77,
     "metadata": {},
     "output_type": "execute_result"
    }
   ],
   "source": [
    "y_test_pred = model.predict(X_test)\n",
    "y_test_pred"
   ],
   "metadata": {
    "collapsed": false,
    "ExecuteTime": {
     "end_time": "2023-05-07T09:03:34.328274300Z",
     "start_time": "2023-05-07T09:03:34.269277Z"
    }
   }
  },
  {
   "cell_type": "markdown",
   "source": [
    "### Посмотрим на метрики (ЛР 1.3)"
   ],
   "metadata": {
    "collapsed": false
   }
  },
  {
   "cell_type": "code",
   "execution_count": 78,
   "outputs": [],
   "source": [
    "def mean_absolute_percentage_error(y, y_pred):\n",
    "    return 100 * (np.abs(y - y_pred) / y).mean()"
   ],
   "metadata": {
    "collapsed": false,
    "ExecuteTime": {
     "end_time": "2023-05-07T09:03:34.328274300Z",
     "start_time": "2023-05-07T09:03:34.284274600Z"
    }
   }
  },
  {
   "cell_type": "code",
   "execution_count": 79,
   "outputs": [
    {
     "data": {
      "text/plain": "47.46361461276875"
     },
     "execution_count": 79,
     "metadata": {},
     "output_type": "execute_result"
    }
   ],
   "source": [
    "mean_absolute_percentage_error(y_test, y_test_pred)"
   ],
   "metadata": {
    "collapsed": false,
    "ExecuteTime": {
     "end_time": "2023-05-07T09:03:34.329276100Z",
     "start_time": "2023-05-07T09:03:34.301276400Z"
    }
   }
  },
  {
   "cell_type": "code",
   "execution_count": 94,
   "outputs": [],
   "source": [
    "import sklearn.metrics as mtr"
   ],
   "metadata": {
    "collapsed": false,
    "ExecuteTime": {
     "end_time": "2023-05-07T09:24:26.614096200Z",
     "start_time": "2023-05-07T09:24:26.599095100Z"
    }
   }
  },
  {
   "cell_type": "code",
   "execution_count": 98,
   "outputs": [
    {
     "data": {
      "text/plain": "50.102809333767624"
     },
     "execution_count": 98,
     "metadata": {},
     "output_type": "execute_result"
    }
   ],
   "source": [
    "mtr.mean_absolute_error(y_test, y_test_pred)"
   ],
   "metadata": {
    "collapsed": false,
    "ExecuteTime": {
     "end_time": "2023-05-07T09:44:47.834216Z",
     "start_time": "2023-05-07T09:44:47.815213900Z"
    }
   }
  },
  {
   "cell_type": "code",
   "execution_count": 96,
   "outputs": [
    {
     "data": {
      "text/plain": "0.40729576150005564"
     },
     "execution_count": 96,
     "metadata": {},
     "output_type": "execute_result"
    }
   ],
   "source": [
    "mtr.r2_score(y_test, y_test_pred)"
   ],
   "metadata": {
    "collapsed": false,
    "ExecuteTime": {
     "end_time": "2023-05-07T09:44:04.813092100Z",
     "start_time": "2023-05-07T09:44:04.787776Z"
    }
   }
  },
  {
   "cell_type": "code",
   "execution_count": 99,
   "outputs": [
    {
     "data": {
      "text/plain": "0.4746361461276875"
     },
     "execution_count": 99,
     "metadata": {},
     "output_type": "execute_result"
    }
   ],
   "source": [
    "mtr.mean_absolute_percentage_error(y_test, y_test_pred)"
   ],
   "metadata": {
    "collapsed": false,
    "ExecuteTime": {
     "end_time": "2023-05-07T09:45:04.131809900Z",
     "start_time": "2023-05-07T09:45:04.120808400Z"
    }
   }
  },
  {
   "cell_type": "code",
   "execution_count": 89,
   "outputs": [
    {
     "data": {
      "text/plain": "<Figure size 640x480 with 1 Axes>",
      "image/png": "[encoded data removed]"
     },
     "metadata": {},
     "output_type": "display_data"
    }
   ],
   "source": [
    "plt.scatter(X_test, y_test, color='cyan')\n",
    "plt.plot(X_test, y_test_pred, color='red')\n",
    "plt.show()"
   ],
   "metadata": {
    "collapsed": false,
    "ExecuteTime": {
     "end_time": "2023-05-07T09:06:02.308307900Z",
     "start_time": "2023-05-07T09:06:02.126297Z"
    }
   }
  },
  {
   "cell_type": "markdown",
   "source": [
    "# Линейная регрессия. Используем свою реализацию."
   ],
   "metadata": {
    "collapsed": false
   }
  },
  {
   "cell_type": "code",
   "execution_count": 81,
   "outputs": [],
   "source": [
    "# Конвертируем pd.DataFrame в pd.Series\n",
    "X_train_squeezed = X_train.squeeze()\n",
    "X_test_squeezed = X_test.squeeze()"
   ],
   "metadata": {
    "collapsed": false,
    "ExecuteTime": {
     "end_time": "2023-05-07T09:03:46.427985900Z",
     "start_time": "2023-05-07T09:03:46.427003400Z"
    }
   }
  },
  {
   "cell_type": "code",
   "execution_count": 82,
   "outputs": [
    {
     "data": {
      "text/plain": "(866.1366260051841, 152.59585493910072)"
     },
     "execution_count": 82,
     "metadata": {},
     "output_type": "execute_result"
    }
   ],
   "source": [
    "X_mean = X_train_squeezed.mean()\n",
    "y_mean = y_train.mean()\n",
    "X_dev = X_train_squeezed - X_mean\n",
    "y_dev = y_train - y_mean\n",
    "slope = np.sum(X_dev * y_dev) / np.sum(X_dev ** 2)\n",
    "y_intercept = y_mean - slope * X_mean\n",
    "slope, y_intercept"
   ],
   "metadata": {
    "collapsed": false,
    "ExecuteTime": {
     "end_time": "2023-05-07T09:03:46.427985900Z",
     "start_time": "2023-05-07T09:03:46.427985900Z"
    }
   }
  },
  {
   "cell_type": "code",
   "execution_count": 83,
   "outputs": [
    {
     "data": {
      "text/plain": "(array([2.27373675e-13]), 0.0)"
     },
     "execution_count": 83,
     "metadata": {},
     "output_type": "execute_result"
    }
   ],
   "source": [
    "abs(slope - model.coef_), abs(y_intercept - model.intercept_)"
   ],
   "metadata": {
    "collapsed": false,
    "ExecuteTime": {
     "end_time": "2023-05-07T09:03:46.427985900Z",
     "start_time": "2023-05-07T09:03:46.427985900Z"
    }
   }
  },
  {
   "cell_type": "code",
   "execution_count": 84,
   "outputs": [
    {
     "data": {
      "text/plain": "5.684341886080802e-14"
     },
     "execution_count": 84,
     "metadata": {},
     "output_type": "execute_result"
    }
   ],
   "source": [
    "y_test_pred_my = slope * X_test_squeezed + y_intercept\n",
    "np.max(np.abs(y_test_pred_my - y_test_pred))"
   ],
   "metadata": {
    "collapsed": false,
    "ExecuteTime": {
     "end_time": "2023-05-07T09:03:46.433138600Z",
     "start_time": "2023-05-07T09:03:46.427985900Z"
    }
   }
  },
  {
   "cell_type": "markdown",
   "source": [
    "Коэффициенты линейной регрессии у меня и в `sklearn` получились одинаковые.\n",
    "\n",
    "Соответственно, одинаковыми получатся и таблицы ответов (предсказаний), графики, и метрики."
   ],
   "metadata": {
    "collapsed": false
   }
  },
  {
   "cell_type": "code",
   "execution_count": 87,
   "outputs": [
    {
     "data": {
      "text/plain": "13     185.849653\n66     152.830999\n234    208.312894\n24     130.117510\n388    175.734052\n          ...    \n114    238.551449\n142    192.092385\n121    169.839267\n31     120.437635\n385    130.117510\nName: s5, Length: 89, dtype: float64"
     },
     "execution_count": 87,
     "metadata": {},
     "output_type": "execute_result"
    }
   ],
   "source": [
    "y_test_pred_my"
   ],
   "metadata": {
    "collapsed": false,
    "ExecuteTime": {
     "end_time": "2023-05-07T09:05:34.239925200Z",
     "start_time": "2023-05-07T09:05:34.174409600Z"
    }
   }
  },
  {
   "cell_type": "code",
   "execution_count": 88,
   "outputs": [
    {
     "data": {
      "text/plain": "<Figure size 640x480 with 1 Axes>",
      "image/png": "[encoded data removed]"
     },
     "metadata": {},
     "output_type": "display_data"
    }
   ],
   "source": [
    "plt.scatter(X_test_squeezed, y_test, color='cyan')\n",
    "plt.plot(X_test_squeezed, y_test_pred_my, color='red')\n",
    "plt.show()"
   ],
   "metadata": {
    "collapsed": false,
    "ExecuteTime": {
     "end_time": "2023-05-07T09:05:55.227134800Z",
     "start_time": "2023-05-07T09:05:55.045611800Z"
    }
   }
  }
 ],
 "metadata": {
  "kernelspec": {
   "display_name": "Python 3",
   "language": "python",
   "name": "python3"
  },
  "language_info": {
   "codemirror_mode": {
    "name": "ipython",
    "version": 2
   },
   "file_extension": ".py",
   "mimetype": "text/x-python",
   "name": "python",
   "nbconvert_exporter": "python",
   "pygments_lexer": "ipython2",
   "version": "2.7.6"
  }
 },
 "nbformat": 4,
 "nbformat_minor": 0
}
