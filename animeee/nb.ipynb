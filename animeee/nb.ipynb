{
 "cells": [
  {
   "cell_type": "code",
   "execution_count": 23,
   "metadata": {
    "collapsed": true,
    "ExecuteTime": {
     "end_time": "2023-05-31T10:22:48.251683500Z",
     "start_time": "2023-05-31T10:22:47.626153800Z"
    }
   },
   "outputs": [],
   "source": [
    "dir = 'D:/projects/datascience/bfu-ml-labs/animeee'"
   ]
  },
  {
   "cell_type": "code",
   "execution_count": 24,
   "outputs": [],
   "source": [
    "random_state = 123"
   ],
   "metadata": {
    "collapsed": false,
    "ExecuteTime": {
     "end_time": "2023-05-31T10:22:48.667686200Z",
     "start_time": "2023-05-31T10:22:47.644155700Z"
    }
   }
  },
  {
   "cell_type": "code",
   "execution_count": 25,
   "outputs": [],
   "source": [
    "import pandas as pd\n",
    "import numpy as np"
   ],
   "metadata": {
    "collapsed": false,
    "ExecuteTime": {
     "end_time": "2023-05-31T10:22:48.667686200Z",
     "start_time": "2023-05-31T10:22:47.660153900Z"
    }
   }
  },
  {
   "cell_type": "code",
   "execution_count": 26,
   "outputs": [],
   "source": [
    "df = pd.read_csv(f'{dir}/reviews.csv')"
   ],
   "metadata": {
    "collapsed": false,
    "ExecuteTime": {
     "end_time": "2023-05-31T10:23:04.033945300Z",
     "start_time": "2023-05-31T10:22:47.673165400Z"
    }
   }
  },
  {
   "cell_type": "code",
   "execution_count": 27,
   "outputs": [
    {
     "name": "stdout",
     "output_type": "stream",
     "text": [
      "<class 'pandas.core.frame.DataFrame'>\n",
      "RangeIndex: 192112 entries, 0 to 192111\n",
      "Data columns (total 7 columns):\n",
      " #   Column     Non-Null Count   Dtype \n",
      "---  ------     --------------   ----- \n",
      " 0   uid        192112 non-null  int64 \n",
      " 1   profile    192112 non-null  object\n",
      " 2   anime_uid  192112 non-null  int64 \n",
      " 3   text       192112 non-null  object\n",
      " 4   score      192112 non-null  int64 \n",
      " 5   scores     192112 non-null  object\n",
      " 6   link       192112 non-null  object\n",
      "dtypes: int64(3), object(4)\n",
      "memory usage: 10.3+ MB\n"
     ]
    }
   ],
   "source": [
    "df.info()"
   ],
   "metadata": {
    "collapsed": false,
    "ExecuteTime": {
     "end_time": "2023-05-31T10:23:04.207945300Z",
     "start_time": "2023-05-31T10:23:04.036939900Z"
    }
   }
  },
  {
   "cell_type": "markdown",
   "source": [
    "### Датасет очень большой, а ресурсы ограничены. Обрежем его, случайным образом отобрав только часть данных."
   ],
   "metadata": {
    "collapsed": false
   }
  },
  {
   "cell_type": "code",
   "execution_count": 28,
   "outputs": [],
   "source": [
    "df = df.sample(frac=0.1, random_state=random_state)"
   ],
   "metadata": {
    "collapsed": false,
    "ExecuteTime": {
     "end_time": "2023-05-31T10:23:04.539936300Z",
     "start_time": "2023-05-31T10:23:04.208940600Z"
    }
   }
  },
  {
   "cell_type": "code",
   "execution_count": 29,
   "outputs": [
    {
     "name": "stdout",
     "output_type": "stream",
     "text": [
      "<class 'pandas.core.frame.DataFrame'>\n",
      "Int64Index: 19211 entries, 42299 to 90590\n",
      "Data columns (total 7 columns):\n",
      " #   Column     Non-Null Count  Dtype \n",
      "---  ------     --------------  ----- \n",
      " 0   uid        19211 non-null  int64 \n",
      " 1   profile    19211 non-null  object\n",
      " 2   anime_uid  19211 non-null  int64 \n",
      " 3   text       19211 non-null  object\n",
      " 4   score      19211 non-null  int64 \n",
      " 5   scores     19211 non-null  object\n",
      " 6   link       19211 non-null  object\n",
      "dtypes: int64(3), object(4)\n",
      "memory usage: 1.2+ MB\n"
     ]
    }
   ],
   "source": [
    "df.info()"
   ],
   "metadata": {
    "collapsed": false,
    "ExecuteTime": {
     "end_time": "2023-05-31T10:23:04.605937900Z",
     "start_time": "2023-05-31T10:23:04.543936800Z"
    }
   }
  },
  {
   "cell_type": "code",
   "execution_count": 30,
   "outputs": [
    {
     "data": {
      "text/plain": "           uid         profile  anime_uid  \\\n119819  271034         mr57757      34822   \n167422  127885        Playcool      15699   \n135632  312406     Therazeflip      39337   \n141632  257304     milkyvenus_      13601   \n101573  244715  themegamancave      33206   \n\n                                                     text  score  \\\n119819  \\n           \\n         \\n           \\n       ...     10   \n167422  \\n           \\n         \\n           \\n       ...      9   \n135632  \\n           \\n         \\n           \\n       ...      6   \n141632  \\n           \\n         \\n           \\n       ...      9   \n101573  \\n           \\n         \\n           \\n       ...      8   \n\n                                                   scores  \\\n119819  {'Overall': '10', 'Story': '8', 'Animation': '...   \n167422  {'Overall': '9', 'Story': '6', 'Animation': '1...   \n135632  {'Overall': '6', 'Story': '4', 'Animation': '8...   \n141632  {'Overall': '9', 'Story': '9', 'Animation': '9...   \n101573  {'Overall': '8', 'Story': '7', 'Animation': '9...   \n\n                                                 link  \n119819  https://myanimelist.net/reviews.php?id=271034  \n167422  https://myanimelist.net/reviews.php?id=127885  \n135632  https://myanimelist.net/reviews.php?id=312406  \n141632  https://myanimelist.net/reviews.php?id=257304  \n101573  https://myanimelist.net/reviews.php?id=244715  ",
      "text/html": "<div>\n<style scoped>\n    .dataframe tbody tr th:only-of-type {\n        vertical-align: middle;\n    }\n\n    .dataframe tbody tr th {\n        vertical-align: top;\n    }\n\n    .dataframe thead th {\n        text-align: right;\n    }\n</style>\n<table border=\"1\" class=\"dataframe\">\n  <thead>\n    <tr style=\"text-align: right;\">\n      <th></th>\n      <th>uid</th>\n      <th>profile</th>\n      <th>anime_uid</th>\n      <th>text</th>\n      <th>score</th>\n      <th>scores</th>\n      <th>link</th>\n    </tr>\n  </thead>\n  <tbody>\n    <tr>\n      <th>119819</th>\n      <td>271034</td>\n      <td>mr57757</td>\n      <td>34822</td>\n      <td>\\n           \\n         \\n           \\n       ...</td>\n      <td>10</td>\n      <td>{'Overall': '10', 'Story': '8', 'Animation': '...</td>\n      <td>https://myanimelist.net/reviews.php?id=271034</td>\n    </tr>\n    <tr>\n      <th>167422</th>\n      <td>127885</td>\n      <td>Playcool</td>\n      <td>15699</td>\n      <td>\\n           \\n         \\n           \\n       ...</td>\n      <td>9</td>\n      <td>{'Overall': '9', 'Story': '6', 'Animation': '1...</td>\n      <td>https://myanimelist.net/reviews.php?id=127885</td>\n    </tr>\n    <tr>\n      <th>135632</th>\n      <td>312406</td>\n      <td>Therazeflip</td>\n      <td>39337</td>\n      <td>\\n           \\n         \\n           \\n       ...</td>\n      <td>6</td>\n      <td>{'Overall': '6', 'Story': '4', 'Animation': '8...</td>\n      <td>https://myanimelist.net/reviews.php?id=312406</td>\n    </tr>\n    <tr>\n      <th>141632</th>\n      <td>257304</td>\n      <td>milkyvenus_</td>\n      <td>13601</td>\n      <td>\\n           \\n         \\n           \\n       ...</td>\n      <td>9</td>\n      <td>{'Overall': '9', 'Story': '9', 'Animation': '9...</td>\n      <td>https://myanimelist.net/reviews.php?id=257304</td>\n    </tr>\n    <tr>\n      <th>101573</th>\n      <td>244715</td>\n      <td>themegamancave</td>\n      <td>33206</td>\n      <td>\\n           \\n         \\n           \\n       ...</td>\n      <td>8</td>\n      <td>{'Overall': '8', 'Story': '7', 'Animation': '9...</td>\n      <td>https://myanimelist.net/reviews.php?id=244715</td>\n    </tr>\n  </tbody>\n</table>\n</div>"
     },
     "execution_count": 30,
     "metadata": {},
     "output_type": "execute_result"
    }
   ],
   "source": [
    "df.sample(5, random_state=random_state)"
   ],
   "metadata": {
    "collapsed": false,
    "ExecuteTime": {
     "end_time": "2023-05-31T10:23:04.681936600Z",
     "start_time": "2023-05-31T10:23:04.607941200Z"
    }
   }
  },
  {
   "cell_type": "code",
   "execution_count": 31,
   "outputs": [],
   "source": [
    "df = df[['text', 'score']]"
   ],
   "metadata": {
    "collapsed": false,
    "ExecuteTime": {
     "end_time": "2023-05-31T10:23:04.683937100Z",
     "start_time": "2023-05-31T10:23:04.659935800Z"
    }
   }
  },
  {
   "cell_type": "code",
   "execution_count": 32,
   "outputs": [
    {
     "name": "stdout",
     "output_type": "stream",
     "text": [
      "<class 'pandas.core.frame.DataFrame'>\n",
      "Int64Index: 19211 entries, 42299 to 90590\n",
      "Data columns (total 2 columns):\n",
      " #   Column  Non-Null Count  Dtype \n",
      "---  ------  --------------  ----- \n",
      " 0   text    19211 non-null  object\n",
      " 1   score   19211 non-null  int64 \n",
      "dtypes: int64(1), object(1)\n",
      "memory usage: 450.3+ KB\n"
     ]
    }
   ],
   "source": [
    "df.info()"
   ],
   "metadata": {
    "collapsed": false,
    "ExecuteTime": {
     "end_time": "2023-05-31T10:23:04.801959600Z",
     "start_time": "2023-05-31T10:23:04.697939Z"
    }
   }
  },
  {
   "cell_type": "code",
   "execution_count": 33,
   "outputs": [
    {
     "data": {
      "text/plain": "                                                     text  score\n119819  \\n           \\n         \\n           \\n       ...     10\n167422  \\n           \\n         \\n           \\n       ...      9\n135632  \\n           \\n         \\n           \\n       ...      6\n141632  \\n           \\n         \\n           \\n       ...      9\n101573  \\n           \\n         \\n           \\n       ...      8",
      "text/html": "<div>\n<style scoped>\n    .dataframe tbody tr th:only-of-type {\n        vertical-align: middle;\n    }\n\n    .dataframe tbody tr th {\n        vertical-align: top;\n    }\n\n    .dataframe thead th {\n        text-align: right;\n    }\n</style>\n<table border=\"1\" class=\"dataframe\">\n  <thead>\n    <tr style=\"text-align: right;\">\n      <th></th>\n      <th>text</th>\n      <th>score</th>\n    </tr>\n  </thead>\n  <tbody>\n    <tr>\n      <th>119819</th>\n      <td>\\n           \\n         \\n           \\n       ...</td>\n      <td>10</td>\n    </tr>\n    <tr>\n      <th>167422</th>\n      <td>\\n           \\n         \\n           \\n       ...</td>\n      <td>9</td>\n    </tr>\n    <tr>\n      <th>135632</th>\n      <td>\\n           \\n         \\n           \\n       ...</td>\n      <td>6</td>\n    </tr>\n    <tr>\n      <th>141632</th>\n      <td>\\n           \\n         \\n           \\n       ...</td>\n      <td>9</td>\n    </tr>\n    <tr>\n      <th>101573</th>\n      <td>\\n           \\n         \\n           \\n       ...</td>\n      <td>8</td>\n    </tr>\n  </tbody>\n</table>\n</div>"
     },
     "execution_count": 33,
     "metadata": {},
     "output_type": "execute_result"
    }
   ],
   "source": [
    "df.sample(5, random_state=random_state)"
   ],
   "metadata": {
    "collapsed": false,
    "ExecuteTime": {
     "end_time": "2023-05-31T10:23:04.834937600Z",
     "start_time": "2023-05-31T10:23:04.731938400Z"
    }
   }
  },
  {
   "cell_type": "markdown",
   "source": [
    "# Изучим распределение данных\n",
    "\n",
    "Посмотрим, сколько отзывов в датасете соответствует каждой из оценок (1-10)."
   ],
   "metadata": {
    "collapsed": false
   }
  },
  {
   "cell_type": "code",
   "execution_count": 34,
   "outputs": [],
   "source": [
    "import matplotlib.pyplot as plt"
   ],
   "metadata": {
    "collapsed": false,
    "ExecuteTime": {
     "end_time": "2023-05-31T10:23:04.977934900Z",
     "start_time": "2023-05-31T10:23:04.766938700Z"
    }
   }
  },
  {
   "cell_type": "code",
   "execution_count": 35,
   "outputs": [],
   "source": [
    "def show_ratings_counts():\n",
    "    ratings_counts = df['score'].value_counts().sort_index()\n",
    "\n",
    "    plt.figure(figsize=(10, 5))\n",
    "    plt.bar(ratings_counts.index, ratings_counts.values)\n",
    "    plt.xticks(range(1, 11))\n",
    "    plt.title('Распределение Оценок')\n",
    "    plt.xlabel('Оценка (1-10)')\n",
    "    plt.ylabel('Количество отзывов')\n",
    "    plt.grid(True)\n",
    "    plt.show()"
   ],
   "metadata": {
    "collapsed": false,
    "ExecuteTime": {
     "end_time": "2023-05-31T10:23:05.009939700Z",
     "start_time": "2023-05-31T10:23:04.803939400Z"
    }
   }
  },
  {
   "cell_type": "code",
   "execution_count": 36,
   "outputs": [
    {
     "data": {
      "text/plain": "<Figure size 1000x500 with 1 Axes>",
      "image/png": "[encoded data removed]"
     },
     "metadata": {},
     "output_type": "display_data"
    }
   ],
   "source": [
    "show_ratings_counts()"
   ],
   "metadata": {
    "collapsed": false,
    "ExecuteTime": {
     "end_time": "2023-05-31T10:23:05.311010400Z",
     "start_time": "2023-05-31T10:23:04.863937500Z"
    }
   }
  },
  {
   "cell_type": "code",
   "execution_count": 37,
   "outputs": [
    {
     "data": {
      "text/plain": "0.8219249388371246"
     },
     "execution_count": 37,
     "metadata": {},
     "output_type": "execute_result"
    }
   ],
   "source": [
    "len(df[df['score'] > 5]) / len(df)"
   ],
   "metadata": {
    "collapsed": false,
    "ExecuteTime": {
     "end_time": "2023-05-31T10:23:05.386009900Z",
     "start_time": "2023-05-31T10:23:05.316014800Z"
    }
   }
  },
  {
   "cell_type": "markdown",
   "source": [
    "### Более 80% всех рейтингов имеют оценку 6-10. Менее 20% зрителей ставят оценки 5 и ниже.\n",
    "\n",
    "Это может сказаться на качестве предсказаний. Но пока ничего предпринимать не будем."
   ],
   "metadata": {
    "collapsed": false
   }
  },
  {
   "cell_type": "code",
   "execution_count": 40,
   "outputs": [
    {
     "data": {
      "text/plain": "'\\n           \\n         \\n           \\n             \\n           \\n         \\n         \\n           more pics \\n         \\n       \\n         \\n       \\n         \\n           Overall \\n           9 \\n         \\n         \\n           Story \\n           8 \\n         \\n                   \\n             Animation \\n             10 \\n           \\n           \\n             Sound \\n             10 \\n           \\n                 \\n           Character \\n           10 \\n         \\n         \\n           Enjoyment \\n           10 \\n         \\n       \\n     \\n\\n                    \\n    Basicly you still can get clear story and enjoyment from watching this sequel, so don\\'t miss it. It still provide nice slice of life element and some moral values. \\r\\nBut i\\'m a little bit disappointed with this sequel, it is too short and moving/end too fast, it would be better if some good scene from the webtoon was not removed, it would be much better if some scene was included. \\r\\nThe webtoon version is made more chronological and clear, but not too slow.  \\r\\n \\r\\nThe art is still wonderful, if you like \"adult art\" with cute line, then i recommend this great anime. \\n\\n          \\n \\n       Helpful \\n   \\n      '"
     },
     "execution_count": 40,
     "metadata": {},
     "output_type": "execute_result"
    }
   ],
   "source": [
    "df['text'].iloc[500]"
   ],
   "metadata": {
    "collapsed": false,
    "ExecuteTime": {
     "end_time": "2023-05-31T10:23:06.274007200Z",
     "start_time": "2023-05-31T10:23:06.230009300Z"
    }
   }
  },
  {
   "cell_type": "markdown",
   "source": [
    "### В тексте (признаках) уже присутствуют ответы!\n",
    "\n",
    "Видим, что некоторые (если не все) обзоры начинаются со слов (или содержат слова) вроде \"Overall 9\" или \"Animation 10\", которые могут \"подсказать\" модели правильные ответы. Избавимся от всех цифр в текстах датасета -- всё равно они в нашем контексте не несут никакой пользы."
   ],
   "metadata": {
    "collapsed": false
   }
  },
  {
   "cell_type": "code",
   "execution_count": 41,
   "outputs": [],
   "source": [
    "import re\n",
    "\n",
    "\n",
    "df['text'] = df['text'].apply(lambda text: re.sub(r'\\d+', '', text))"
   ],
   "metadata": {
    "collapsed": false,
    "ExecuteTime": {
     "end_time": "2023-05-31T10:23:08.747809700Z",
     "start_time": "2023-05-31T10:23:06.259008900Z"
    }
   }
  },
  {
   "cell_type": "code",
   "execution_count": 42,
   "outputs": [
    {
     "data": {
      "text/plain": "'\\n           \\n         \\n           \\n             \\n           \\n         \\n         \\n           more pics \\n         \\n       \\n         \\n       \\n         \\n           Overall \\n            \\n         \\n         \\n           Story \\n            \\n         \\n                   \\n             Animation \\n              \\n           \\n           \\n             Sound \\n              \\n           \\n                 \\n           Character \\n            \\n         \\n         \\n           Enjoyment \\n            \\n         \\n       \\n     \\n\\n                    \\n    Basicly you still can get clear story and enjoyment from watching this sequel, so don\\'t miss it. It still provide nice slice of life element and some moral values. \\r\\nBut i\\'m a little bit disappointed with this sequel, it is too short and moving/end too fast, it would be better if some good scene from the webtoon was not removed, it would be much better if some scene was included. \\r\\nThe webtoon version is made more chronological and clear, but not too slow.  \\r\\n \\r\\nThe art is still wonderful, if you like \"adult art\" with cute line, then i recommend this great anime. \\n\\n          \\n \\n       Helpful \\n   \\n      '"
     },
     "execution_count": 42,
     "metadata": {},
     "output_type": "execute_result"
    }
   ],
   "source": [
    "df['text'].iloc[500]"
   ],
   "metadata": {
    "collapsed": false,
    "ExecuteTime": {
     "end_time": "2023-05-31T10:23:08.765804300Z",
     "start_time": "2023-05-31T10:23:08.751801600Z"
    }
   }
  },
  {
   "cell_type": "code",
   "execution_count": 43,
   "outputs": [
    {
     "data": {
      "text/plain": "((13447,), (5764,), (13447,), (5764,))"
     },
     "execution_count": 43,
     "metadata": {},
     "output_type": "execute_result"
    }
   ],
   "source": [
    "from sklearn.model_selection import train_test_split\n",
    "\n",
    "X = df['text']  # ВАЖНО: df['text'] (тип pd.Series), а не df[['text']] (тип pd.DataFrame) -- иначе vectorizer'ам будет плохо\n",
    "y = df['score']\n",
    "X_train, X_test, y_train, y_test = train_test_split(X, y, test_size=0.3, random_state=random_state)\n",
    "X_train.shape, X_test.shape, y_train.shape, y_test.shape"
   ],
   "metadata": {
    "collapsed": false,
    "ExecuteTime": {
     "end_time": "2023-05-31T10:23:19.316944100Z",
     "start_time": "2023-05-31T10:23:08.767802100Z"
    }
   }
  },
  {
   "cell_type": "markdown",
   "source": [
    "# Регрессия на необработанных n-граммах\n",
    "\n",
    "Начнём эксперименты с простейшей модели, которой на вход подадим простейшие, не обработанные надлежащим образом данные.\n",
    "\n",
    "Мы хотим предсказывать рейтинг аниме на основе текстового содержимого отзывов. Поскольку рейтинги зачастую отображаются как дробные числа (например, 7.41), мы будем использовать не классификацию, а регрессию."
   ],
   "metadata": {
    "collapsed": false
   }
  },
  {
   "cell_type": "code",
   "execution_count": 44,
   "outputs": [],
   "source": [
    "from sklearn.feature_extraction.text import CountVectorizer"
   ],
   "metadata": {
    "collapsed": false,
    "ExecuteTime": {
     "end_time": "2023-05-31T10:23:19.458944900Z",
     "start_time": "2023-05-31T10:23:19.319946300Z"
    }
   }
  },
  {
   "cell_type": "code",
   "execution_count": 45,
   "outputs": [],
   "source": [
    "vectorizer = CountVectorizer(ngram_range=(1, 1))"
   ],
   "metadata": {
    "collapsed": false,
    "ExecuteTime": {
     "end_time": "2023-05-31T10:23:19.557954800Z",
     "start_time": "2023-05-31T10:23:19.464943500Z"
    }
   }
  },
  {
   "cell_type": "code",
   "execution_count": 46,
   "outputs": [
    {
     "name": "stdout",
     "output_type": "stream",
     "text": [
      "Preprocessing...\n"
     ]
    }
   ],
   "source": [
    "print(f'Preprocessing...')\n",
    "X_train_v = vectorizer.fit_transform(X_train)\n",
    "X_test_v = vectorizer.transform(X_test)"
   ],
   "metadata": {
    "collapsed": false,
    "ExecuteTime": {
     "end_time": "2023-05-31T10:23:32.039973200Z",
     "start_time": "2023-05-31T10:23:19.494946400Z"
    }
   }
  },
  {
   "cell_type": "code",
   "execution_count": 47,
   "outputs": [
    {
     "data": {
      "text/plain": "66914"
     },
     "execution_count": 47,
     "metadata": {},
     "output_type": "execute_result"
    }
   ],
   "source": [
    "len(vectorizer.vocabulary_)"
   ],
   "metadata": {
    "collapsed": false,
    "ExecuteTime": {
     "end_time": "2023-05-31T10:23:32.060973900Z",
     "start_time": "2023-05-31T10:23:32.044975Z"
    }
   }
  },
  {
   "cell_type": "code",
   "execution_count": 48,
   "outputs": [
    {
     "data": {
      "text/plain": "[('more', 37887),\n ('pics', 43723),\n ('overall', 41897),\n ('story', 55896),\n ('animation', 2382)]"
     },
     "execution_count": 48,
     "metadata": {},
     "output_type": "execute_result"
    }
   ],
   "source": [
    "list(vectorizer.vocabulary_.items())[:5]"
   ],
   "metadata": {
    "collapsed": false,
    "ExecuteTime": {
     "end_time": "2023-05-31T10:23:32.137967900Z",
     "start_time": "2023-05-31T10:23:32.058973900Z"
    }
   }
  },
  {
   "cell_type": "code",
   "execution_count": 49,
   "outputs": [
    {
     "data": {
      "text/plain": "(13447, 66914)"
     },
     "execution_count": 49,
     "metadata": {},
     "output_type": "execute_result"
    }
   ],
   "source": [
    "X_train_v.shape"
   ],
   "metadata": {
    "collapsed": false,
    "ExecuteTime": {
     "end_time": "2023-05-31T10:23:32.137967900Z",
     "start_time": "2023-05-31T10:23:32.114968600Z"
    }
   }
  },
  {
   "cell_type": "code",
   "execution_count": 50,
   "outputs": [
    {
     "name": "stdout",
     "output_type": "stream",
     "text": [
      "Training...\n"
     ]
    },
    {
     "data": {
      "text/plain": "LinearRegression()",
      "text/html": "<style>#sk-container-id-1 {color: black;background-color: white;}#sk-container-id-1 pre{padding: 0;}#sk-container-id-1 div.sk-toggleable {background-color: white;}#sk-container-id-1 label.sk-toggleable__label {cursor: pointer;display: block;width: 100%;margin-bottom: 0;padding: 0.3em;box-sizing: border-box;text-align: center;}#sk-container-id-1 label.sk-toggleable__label-arrow:before {content: \"▸\";float: left;margin-right: 0.25em;color: #696969;}#sk-container-id-1 label.sk-toggleable__label-arrow:hover:before {color: black;}#sk-container-id-1 div.sk-estimator:hover label.sk-toggleable__label-arrow:before {color: black;}#sk-container-id-1 div.sk-toggleable__content {max-height: 0;max-width: 0;overflow: hidden;text-align: left;background-color: #f0f8ff;}#sk-container-id-1 div.sk-toggleable__content pre {margin: 0.2em;color: black;border-radius: 0.25em;background-color: #f0f8ff;}#sk-container-id-1 input.sk-toggleable__control:checked~div.sk-toggleable__content {max-height: 200px;max-width: 100%;overflow: auto;}#sk-container-id-1 input.sk-toggleable__control:checked~label.sk-toggleable__label-arrow:before {content: \"▾\";}#sk-container-id-1 div.sk-estimator input.sk-toggleable__control:checked~label.sk-toggleable__label {background-color: #d4ebff;}#sk-container-id-1 div.sk-label input.sk-toggleable__control:checked~label.sk-toggleable__label {background-color: #d4ebff;}#sk-container-id-1 input.sk-hidden--visually {border: 0;clip: rect(1px 1px 1px 1px);clip: rect(1px, 1px, 1px, 1px);height: 1px;margin: -1px;overflow: hidden;padding: 0;position: absolute;width: 1px;}#sk-container-id-1 div.sk-estimator {font-family: monospace;background-color: #f0f8ff;border: 1px dotted black;border-radius: 0.25em;box-sizing: border-box;margin-bottom: 0.5em;}#sk-container-id-1 div.sk-estimator:hover {background-color: #d4ebff;}#sk-container-id-1 div.sk-parallel-item::after {content: \"\";width: 100%;border-bottom: 1px solid gray;flex-grow: 1;}#sk-container-id-1 div.sk-label:hover label.sk-toggleable__label {background-color: #d4ebff;}#sk-container-id-1 div.sk-serial::before {content: \"\";position: absolute;border-left: 1px solid gray;box-sizing: border-box;top: 0;bottom: 0;left: 50%;z-index: 0;}#sk-container-id-1 div.sk-serial {display: flex;flex-direction: column;align-items: center;background-color: white;padding-right: 0.2em;padding-left: 0.2em;position: relative;}#sk-container-id-1 div.sk-item {position: relative;z-index: 1;}#sk-container-id-1 div.sk-parallel {display: flex;align-items: stretch;justify-content: center;background-color: white;position: relative;}#sk-container-id-1 div.sk-item::before, #sk-container-id-1 div.sk-parallel-item::before {content: \"\";position: absolute;border-left: 1px solid gray;box-sizing: border-box;top: 0;bottom: 0;left: 50%;z-index: -1;}#sk-container-id-1 div.sk-parallel-item {display: flex;flex-direction: column;z-index: 1;position: relative;background-color: white;}#sk-container-id-1 div.sk-parallel-item:first-child::after {align-self: flex-end;width: 50%;}#sk-container-id-1 div.sk-parallel-item:last-child::after {align-self: flex-start;width: 50%;}#sk-container-id-1 div.sk-parallel-item:only-child::after {width: 0;}#sk-container-id-1 div.sk-dashed-wrapped {border: 1px dashed gray;margin: 0 0.4em 0.5em 0.4em;box-sizing: border-box;padding-bottom: 0.4em;background-color: white;}#sk-container-id-1 div.sk-label label {font-family: monospace;font-weight: bold;display: inline-block;line-height: 1.2em;}#sk-container-id-1 div.sk-label-container {text-align: center;}#sk-container-id-1 div.sk-container {/* jupyter's `normalize.less` sets `[hidden] { display: none; }` but bootstrap.min.css set `[hidden] { display: none !important; }` so we also need the `!important` here to be able to override the default hidden behavior on the sphinx rendered scikit-learn.org. See: https://github.com/scikit-learn/scikit-learn/issues/21755 */display: inline-block !important;position: relative;}#sk-container-id-1 div.sk-text-repr-fallback {display: none;}</style><div id=\"sk-container-id-1\" class=\"sk-top-container\"><div class=\"sk-text-repr-fallback\"><pre>LinearRegression()</pre><b>In a Jupyter environment, please rerun this cell to show the HTML representation or trust the notebook. <br />On GitHub, the HTML representation is unable to render, please try loading this page with nbviewer.org.</b></div><div class=\"sk-container\" hidden><div class=\"sk-item\"><div class=\"sk-estimator sk-toggleable\"><input class=\"sk-toggleable__control sk-hidden--visually\" id=\"sk-estimator-id-1\" type=\"checkbox\" checked><label for=\"sk-estimator-id-1\" class=\"sk-toggleable__label sk-toggleable__label-arrow\">LinearRegression</label><div class=\"sk-toggleable__content\"><pre>LinearRegression()</pre></div></div></div></div></div>"
     },
     "execution_count": 50,
     "metadata": {},
     "output_type": "execute_result"
    }
   ],
   "source": [
    "from sklearn.linear_model import Lasso, Ridge, LinearRegression\n",
    "\n",
    "model = LinearRegression()\n",
    "print(f'Training...')\n",
    "model.fit(X_train_v, y_train)"
   ],
   "metadata": {
    "collapsed": false,
    "ExecuteTime": {
     "end_time": "2023-05-31T10:24:08.321387500Z",
     "start_time": "2023-05-31T10:23:32.119973200Z"
    }
   }
  },
  {
   "cell_type": "code",
   "execution_count": 51,
   "outputs": [],
   "source": [
    "y_pred = model.predict(X_test_v)"
   ],
   "metadata": {
    "collapsed": false,
    "ExecuteTime": {
     "end_time": "2023-05-31T10:24:08.365384300Z",
     "start_time": "2023-05-31T10:24:08.323386500Z"
    }
   }
  },
  {
   "cell_type": "code",
   "execution_count": 52,
   "outputs": [],
   "source": [
    "from sklearn.metrics import r2_score\n",
    "from sklearn.metrics import mean_squared_error\n",
    "from sklearn.metrics import mean_absolute_percentage_error\n",
    "\n",
    "\n",
    "def evaluate_model(model_, X_train_, X_test_, y_train_, y_test_):\n",
    "    df = pd.DataFrame(index=['train', 'test'], columns=['R2', 'RMSE', 'MAPE'])\n",
    "\n",
    "    # Train\n",
    "    y_train_pred = model_.predict(X_train_)\n",
    "    df.loc['train', 'R2'] = r2_score(y_train_, y_train_pred)\n",
    "    df.loc['train', 'RMSE'] = np.sqrt(mean_squared_error(y_train_, y_train_pred))\n",
    "    df.loc['train', 'MAPE'] = round(100. * mean_absolute_percentage_error(y_train_, y_train_pred), 1)\n",
    "\n",
    "    # Test\n",
    "    y_test_pred = model_.predict(X_test_)\n",
    "    df.loc['test', 'R2'] = r2_score(y_test_, y_test_pred)\n",
    "    df.loc['test', 'RMSE'] = np.sqrt(mean_squared_error(y_test_, y_test_pred))\n",
    "    df.loc['test', 'MAPE'] = round(100. * mean_absolute_percentage_error(y_test_, y_test_pred), 1)\n",
    "\n",
    "    return df"
   ],
   "metadata": {
    "collapsed": false,
    "ExecuteTime": {
     "end_time": "2023-05-31T10:24:08.444898500Z",
     "start_time": "2023-05-31T10:24:08.351384600Z"
    }
   }
  },
  {
   "cell_type": "code",
   "execution_count": 53,
   "outputs": [
    {
     "name": "stdout",
     "output_type": "stream",
     "text": [
      "Testing...\n"
     ]
    },
    {
     "data": {
      "text/plain": "             R2      RMSE  MAPE\ntrain  0.999637  0.043409   0.3\ntest  -2.419829  4.151639  53.0",
      "text/html": "<div>\n<style scoped>\n    .dataframe tbody tr th:only-of-type {\n        vertical-align: middle;\n    }\n\n    .dataframe tbody tr th {\n        vertical-align: top;\n    }\n\n    .dataframe thead th {\n        text-align: right;\n    }\n</style>\n<table border=\"1\" class=\"dataframe\">\n  <thead>\n    <tr style=\"text-align: right;\">\n      <th></th>\n      <th>R2</th>\n      <th>RMSE</th>\n      <th>MAPE</th>\n    </tr>\n  </thead>\n  <tbody>\n    <tr>\n      <th>train</th>\n      <td>0.999637</td>\n      <td>0.043409</td>\n      <td>0.3</td>\n    </tr>\n    <tr>\n      <th>test</th>\n      <td>-2.419829</td>\n      <td>4.151639</td>\n      <td>53.0</td>\n    </tr>\n  </tbody>\n</table>\n</div>"
     },
     "execution_count": 53,
     "metadata": {},
     "output_type": "execute_result"
    }
   ],
   "source": [
    "print(f'Testing...')\n",
    "evaluate_model(model, X_train_v, X_test_v, y_train, y_test)"
   ],
   "metadata": {
    "collapsed": false,
    "ExecuteTime": {
     "end_time": "2023-05-31T10:24:08.636897600Z",
     "start_time": "2023-05-31T10:24:08.428384200Z"
    }
   }
  },
  {
   "cell_type": "code",
   "execution_count": 54,
   "outputs": [
    {
     "data": {
      "text/plain": "(10739.730715690584, 66850, 66914)"
     },
     "execution_count": 54,
     "metadata": {},
     "output_type": "execute_result"
    }
   ],
   "source": [
    "np.sum(abs(model.coef_)), np.sum(abs(model.coef_) > 0.0001), len(model.coef_)"
   ],
   "metadata": {
    "collapsed": false,
    "ExecuteTime": {
     "end_time": "2023-05-31T10:24:08.837897100Z",
     "start_time": "2023-05-31T10:24:08.636897600Z"
    }
   }
  },
  {
   "cell_type": "markdown",
   "source": [
    "### Модель сильно переобучилась."
   ],
   "metadata": {
    "collapsed": false
   }
  },
  {
   "cell_type": "markdown",
   "source": [
    "### Попробуем воспользоваться L2-регуляризацией."
   ],
   "metadata": {
    "collapsed": false
   }
  },
  {
   "cell_type": "code",
   "execution_count": 55,
   "outputs": [
    {
     "name": "stdout",
     "output_type": "stream",
     "text": [
      "Training...\n",
      "Testing...\n"
     ]
    },
    {
     "data": {
      "text/plain": "             R2      RMSE  MAPE\ntrain  0.567081  1.498515  26.1\ntest   0.410494  1.723699  30.2",
      "text/html": "<div>\n<style scoped>\n    .dataframe tbody tr th:only-of-type {\n        vertical-align: middle;\n    }\n\n    .dataframe tbody tr th {\n        vertical-align: top;\n    }\n\n    .dataframe thead th {\n        text-align: right;\n    }\n</style>\n<table border=\"1\" class=\"dataframe\">\n  <thead>\n    <tr style=\"text-align: right;\">\n      <th></th>\n      <th>R2</th>\n      <th>RMSE</th>\n      <th>MAPE</th>\n    </tr>\n  </thead>\n  <tbody>\n    <tr>\n      <th>train</th>\n      <td>0.567081</td>\n      <td>1.498515</td>\n      <td>26.1</td>\n    </tr>\n    <tr>\n      <th>test</th>\n      <td>0.410494</td>\n      <td>1.723699</td>\n      <td>30.2</td>\n    </tr>\n  </tbody>\n</table>\n</div>"
     },
     "execution_count": 55,
     "metadata": {},
     "output_type": "execute_result"
    }
   ],
   "source": [
    "model = Ridge(random_state=random_state, max_iter=2000, alpha=1000.)\n",
    "print(f'Training...')\n",
    "model.fit(X_train_v, y_train)\n",
    "print(f'Testing...')\n",
    "evaluate_model(model, X_train_v, X_test_v, y_train, y_test)"
   ],
   "metadata": {
    "collapsed": false,
    "ExecuteTime": {
     "end_time": "2023-05-31T10:24:16.076645400Z",
     "start_time": "2023-05-31T10:24:08.677898200Z"
    }
   }
  },
  {
   "cell_type": "code",
   "execution_count": 56,
   "outputs": [
    {
     "data": {
      "text/plain": "(243.04144427149927, 63873, 66914)"
     },
     "execution_count": 56,
     "metadata": {},
     "output_type": "execute_result"
    }
   ],
   "source": [
    "np.sum(abs(model.coef_)), np.sum(abs(model.coef_) > 0.0001), len(model.coef_)"
   ],
   "metadata": {
    "collapsed": false,
    "ExecuteTime": {
     "end_time": "2023-05-31T10:24:16.149640800Z",
     "start_time": "2023-05-31T10:24:16.082643600Z"
    }
   }
  },
  {
   "cell_type": "markdown",
   "source": [
    "### Так себе, но уже хоть что-то."
   ],
   "metadata": {
    "collapsed": false
   }
  },
  {
   "cell_type": "markdown",
   "source": [
    "### Попробуем L1-регуляризацию."
   ],
   "metadata": {
    "collapsed": false
   }
  },
  {
   "cell_type": "code",
   "execution_count": 57,
   "outputs": [
    {
     "name": "stdout",
     "output_type": "stream",
     "text": [
      "Training...\n",
      "Testing...\n"
     ]
    },
    {
     "data": {
      "text/plain": "             R2      RMSE  MAPE\ntrain  0.010465  2.265547  43.3\ntest   0.003408  2.241177  41.9",
      "text/html": "<div>\n<style scoped>\n    .dataframe tbody tr th:only-of-type {\n        vertical-align: middle;\n    }\n\n    .dataframe tbody tr th {\n        vertical-align: top;\n    }\n\n    .dataframe thead th {\n        text-align: right;\n    }\n</style>\n<table border=\"1\" class=\"dataframe\">\n  <thead>\n    <tr style=\"text-align: right;\">\n      <th></th>\n      <th>R2</th>\n      <th>RMSE</th>\n      <th>MAPE</th>\n    </tr>\n  </thead>\n  <tbody>\n    <tr>\n      <th>train</th>\n      <td>0.010465</td>\n      <td>2.265547</td>\n      <td>43.3</td>\n    </tr>\n    <tr>\n      <th>test</th>\n      <td>0.003408</td>\n      <td>2.241177</td>\n      <td>41.9</td>\n    </tr>\n  </tbody>\n</table>\n</div>"
     },
     "execution_count": 57,
     "metadata": {},
     "output_type": "execute_result"
    }
   ],
   "source": [
    "model = Lasso(random_state=random_state, max_iter=2000, alpha=1.)\n",
    "print(f'Training...')\n",
    "model.fit(X_train_v, y_train)\n",
    "print(f'Testing...')\n",
    "evaluate_model(model, X_train_v, X_test_v, y_train, y_test)"
   ],
   "metadata": {
    "collapsed": false,
    "ExecuteTime": {
     "end_time": "2023-05-31T10:24:35.465041200Z",
     "start_time": "2023-05-31T10:24:16.115647300Z"
    }
   }
  },
  {
   "cell_type": "code",
   "execution_count": 58,
   "outputs": [
    {
     "data": {
      "text/plain": "(0.012683577669485642, 1, 66914)"
     },
     "execution_count": 58,
     "metadata": {},
     "output_type": "execute_result"
    }
   ],
   "source": [
    "np.sum(abs(model.coef_)), np.sum(abs(model.coef_) > 0.0001), len(model.coef_)"
   ],
   "metadata": {
    "collapsed": false,
    "ExecuteTime": {
     "end_time": "2023-05-31T10:24:35.540043300Z",
     "start_time": "2023-05-31T10:24:35.470042700Z"
    }
   }
  },
  {
   "cell_type": "markdown",
   "source": [
    "### Ввиду особенностей наших данных и векторизации, Lasso выполняет \"отбор признаков\" слишком \"агрессивно\" -- почти все веса обнуляются даже при малых значениях коэффициента `alpha`. Пока остановимся на модели Ridge."
   ],
   "metadata": {
    "collapsed": false
   }
  },
  {
   "cell_type": "markdown",
   "source": [
    "### Попробуем взять более длинные n-граммы (n = 2)"
   ],
   "metadata": {
    "collapsed": false
   }
  },
  {
   "cell_type": "code",
   "execution_count": 59,
   "outputs": [
    {
     "name": "stdout",
     "output_type": "stream",
     "text": [
      "Preprocessing...\n",
      "Vectorizer vocabulary: 1278356\n",
      "Vectorization samples: [('more pics', 702941), ('pics overall', 831672), ('overall story', 806394), ('story animation', 1032891), ('animation sound', 64407)]\n",
      "Vectorized train data shape: (13447, 1278356)\n",
      "Training...\n",
      "Testing...\n"
     ]
    },
    {
     "data": {
      "text/plain": "             R2      RMSE  MAPE\ntrain  0.645852  1.355345  23.8\ntest   0.388641  1.755357  31.4",
      "text/html": "<div>\n<style scoped>\n    .dataframe tbody tr th:only-of-type {\n        vertical-align: middle;\n    }\n\n    .dataframe tbody tr th {\n        vertical-align: top;\n    }\n\n    .dataframe thead th {\n        text-align: right;\n    }\n</style>\n<table border=\"1\" class=\"dataframe\">\n  <thead>\n    <tr style=\"text-align: right;\">\n      <th></th>\n      <th>R2</th>\n      <th>RMSE</th>\n      <th>MAPE</th>\n    </tr>\n  </thead>\n  <tbody>\n    <tr>\n      <th>train</th>\n      <td>0.645852</td>\n      <td>1.355345</td>\n      <td>23.8</td>\n    </tr>\n    <tr>\n      <th>test</th>\n      <td>0.388641</td>\n      <td>1.755357</td>\n      <td>31.4</td>\n    </tr>\n  </tbody>\n</table>\n</div>"
     },
     "execution_count": 59,
     "metadata": {},
     "output_type": "execute_result"
    }
   ],
   "source": [
    "print(f'Preprocessing...')\n",
    "vectorizer = CountVectorizer(ngram_range=(2, 2))\n",
    "X_train_v = vectorizer.fit_transform(X_train)\n",
    "X_test_v = vectorizer.transform(X_test)\n",
    "print(f'Vectorizer vocabulary: {len(vectorizer.vocabulary_)}')\n",
    "print(f'Vectorization samples: {list(vectorizer.vocabulary_.items())[:5]}')\n",
    "print(f'Vectorized train data shape: {X_train_v.shape}')\n",
    "\n",
    "model = Ridge(random_state=random_state, max_iter=2000, alpha=1000.)\n",
    "print(f'Training...')\n",
    "model.fit(X_train_v, y_train)\n",
    "print(f'Testing...')\n",
    "evaluate_model(model, X_train_v, X_test_v, y_train, y_test)"
   ],
   "metadata": {
    "collapsed": false,
    "ExecuteTime": {
     "end_time": "2023-05-31T10:25:07.978117400Z",
     "start_time": "2023-05-31T10:24:35.485045600Z"
    }
   }
  },
  {
   "cell_type": "code",
   "execution_count": 60,
   "outputs": [
    {
     "data": {
      "text/plain": "(1632.2113934691024, 1177316, 1278356)"
     },
     "execution_count": 60,
     "metadata": {},
     "output_type": "execute_result"
    }
   ],
   "source": [
    "np.sum(abs(model.coef_)), np.sum(abs(model.coef_) > 0.0001), len(model.coef_)"
   ],
   "metadata": {
    "collapsed": false,
    "ExecuteTime": {
     "end_time": "2023-05-31T10:25:08.131113900Z",
     "start_time": "2023-05-31T10:25:07.980117500Z"
    }
   }
  },
  {
   "cell_type": "markdown",
   "source": [
    "### Попробуем n = 3"
   ],
   "metadata": {
    "collapsed": false
   }
  },
  {
   "cell_type": "code",
   "execution_count": 61,
   "outputs": [
    {
     "name": "stdout",
     "output_type": "stream",
     "text": [
      "Preprocessing...\n",
      "Vectorizer vocabulary: 3650738\n",
      "Vectorization samples: [('more pics overall', 1926871), ('pics overall story', 2307600), ('overall story animation', 2252731), ('story animation sound', 2792370), ('animation sound character', 225911)]\n",
      "Vectorized train data shape: (13447, 3650738)\n",
      "Training...\n",
      "Testing...\n"
     ]
    },
    {
     "data": {
      "text/plain": "             R2      RMSE  MAPE\ntrain  0.580844  1.474502  26.8\ntest   0.253923   1.93914  35.7",
      "text/html": "<div>\n<style scoped>\n    .dataframe tbody tr th:only-of-type {\n        vertical-align: middle;\n    }\n\n    .dataframe tbody tr th {\n        vertical-align: top;\n    }\n\n    .dataframe thead th {\n        text-align: right;\n    }\n</style>\n<table border=\"1\" class=\"dataframe\">\n  <thead>\n    <tr style=\"text-align: right;\">\n      <th></th>\n      <th>R2</th>\n      <th>RMSE</th>\n      <th>MAPE</th>\n    </tr>\n  </thead>\n  <tbody>\n    <tr>\n      <th>train</th>\n      <td>0.580844</td>\n      <td>1.474502</td>\n      <td>26.8</td>\n    </tr>\n    <tr>\n      <th>test</th>\n      <td>0.253923</td>\n      <td>1.93914</td>\n      <td>35.7</td>\n    </tr>\n  </tbody>\n</table>\n</div>"
     },
     "execution_count": 61,
     "metadata": {},
     "output_type": "execute_result"
    }
   ],
   "source": [
    "print(f'Preprocessing...')\n",
    "vectorizer = CountVectorizer(ngram_range=(3, 3))\n",
    "X_train_v = vectorizer.fit_transform(X_train)\n",
    "X_test_v = vectorizer.transform(X_test)\n",
    "print(f'Vectorizer vocabulary: {len(vectorizer.vocabulary_)}')\n",
    "print(f'Vectorization samples: {list(vectorizer.vocabulary_.items())[:5]}')\n",
    "print(f'Vectorized train data shape: {X_train_v.shape}')\n",
    "\n",
    "model = Ridge(random_state=random_state, max_iter=2000, alpha=1000.)\n",
    "print(f'Training...')\n",
    "model.fit(X_train_v, y_train)\n",
    "print(f'Testing...')\n",
    "evaluate_model(model, X_train_v, X_test_v, y_train, y_test)"
   ],
   "metadata": {
    "collapsed": false,
    "ExecuteTime": {
     "end_time": "2023-05-31T10:25:56.155344700Z",
     "start_time": "2023-05-31T10:25:08.267113900Z"
    }
   }
  },
  {
   "cell_type": "code",
   "execution_count": 62,
   "outputs": [
    {
     "data": {
      "text/plain": "(3876.165034111477, 3363751, 3650738)"
     },
     "execution_count": 62,
     "metadata": {},
     "output_type": "execute_result"
    }
   ],
   "source": [
    "np.sum(abs(model.coef_)), np.sum(abs(model.coef_) > 0.0001), len(model.coef_)"
   ],
   "metadata": {
    "collapsed": false,
    "ExecuteTime": {
     "end_time": "2023-05-31T10:25:56.636369700Z",
     "start_time": "2023-05-31T10:25:56.157346200Z"
    }
   }
  },
  {
   "cell_type": "markdown",
   "source": [
    "### Попробуем диапазон n-грамм для n=1,2"
   ],
   "metadata": {
    "collapsed": false
   }
  },
  {
   "cell_type": "code",
   "execution_count": 63,
   "outputs": [
    {
     "name": "stdout",
     "output_type": "stream",
     "text": [
      "Preprocessing...\n",
      "Vectorizer vocabulary: 1345270\n",
      "Vectorization samples: [('more', 738698), ('pics', 875390), ('overall', 847257), ('story', 1088692), ('animation', 65888)]\n",
      "Vectorized train data shape: (13447, 1345270)\n",
      "Training...\n",
      "Testing...\n"
     ]
    },
    {
     "data": {
      "text/plain": "             R2      RMSE  MAPE\ntrain  0.726523  1.191016  20.1\ntest   0.430344   1.69443  29.4",
      "text/html": "<div>\n<style scoped>\n    .dataframe tbody tr th:only-of-type {\n        vertical-align: middle;\n    }\n\n    .dataframe tbody tr th {\n        vertical-align: top;\n    }\n\n    .dataframe thead th {\n        text-align: right;\n    }\n</style>\n<table border=\"1\" class=\"dataframe\">\n  <thead>\n    <tr style=\"text-align: right;\">\n      <th></th>\n      <th>R2</th>\n      <th>RMSE</th>\n      <th>MAPE</th>\n    </tr>\n  </thead>\n  <tbody>\n    <tr>\n      <th>train</th>\n      <td>0.726523</td>\n      <td>1.191016</td>\n      <td>20.1</td>\n    </tr>\n    <tr>\n      <th>test</th>\n      <td>0.430344</td>\n      <td>1.69443</td>\n      <td>29.4</td>\n    </tr>\n  </tbody>\n</table>\n</div>"
     },
     "execution_count": 63,
     "metadata": {},
     "output_type": "execute_result"
    }
   ],
   "source": [
    "print(f'Preprocessing...')\n",
    "vectorizer = CountVectorizer(ngram_range=(1, 2))\n",
    "X_train_v = vectorizer.fit_transform(X_train)\n",
    "X_test_v = vectorizer.transform(X_test)\n",
    "print(f'Vectorizer vocabulary: {len(vectorizer.vocabulary_)}')\n",
    "print(f'Vectorization samples: {list(vectorizer.vocabulary_.items())[:5]}')\n",
    "print(f'Vectorized train data shape: {X_train_v.shape}')\n",
    "\n",
    "model = Ridge(random_state=random_state, max_iter=2000, alpha=1000.)\n",
    "print(f'Training...')\n",
    "model.fit(X_train_v, y_train)\n",
    "print(f'Testing...')\n",
    "evaluate_model(model, X_train_v, X_test_v, y_train, y_test)"
   ],
   "metadata": {
    "collapsed": false,
    "ExecuteTime": {
     "end_time": "2023-05-31T10:26:43.877769100Z",
     "start_time": "2023-05-31T10:25:56.493346100Z"
    }
   }
  },
  {
   "cell_type": "code",
   "execution_count": 64,
   "outputs": [
    {
     "data": {
      "text/plain": "(1496.7711892898853, 1213625, 1345270)"
     },
     "execution_count": 64,
     "metadata": {},
     "output_type": "execute_result"
    }
   ],
   "source": [
    "np.sum(abs(model.coef_)), np.sum(abs(model.coef_) > 0.0001), len(model.coef_)"
   ],
   "metadata": {
    "collapsed": false,
    "ExecuteTime": {
     "end_time": "2023-05-31T10:26:44.000768900Z",
     "start_time": "2023-05-31T10:26:43.881766900Z"
    }
   }
  },
  {
   "cell_type": "markdown",
   "source": [],
   "metadata": {
    "collapsed": false
   }
  },
  {
   "cell_type": "markdown",
   "source": [
    "### Любые попытки увеличить n приводят к переобучению линейных моделей.\n",
    "\n",
    "Остановимся пока на `n = 1`."
   ],
   "metadata": {
    "collapsed": false
   }
  },
  {
   "cell_type": "markdown",
   "source": [
    "### Пробуем метод опорных векторов (сразу с n = 1)\n",
    "\n",
    "Учитываем, что SVM особо чувствителен к масштабу данных. Так что применим масштабирование."
   ],
   "metadata": {
    "collapsed": false
   }
  },
  {
   "cell_type": "code",
   "execution_count": 65,
   "outputs": [
    {
     "name": "stdout",
     "output_type": "stream",
     "text": [
      "Preprocessing...\n",
      "Vectorizer vocabulary: 66914\n",
      "Vectorization samples: [('more', 37887), ('pics', 43723), ('overall', 41897), ('story', 55896), ('animation', 2382)]\n",
      "Vectorized train data shape: (13447, 66914)\n",
      "Training...\n"
     ]
    },
    {
     "name": "stderr",
     "output_type": "stream",
     "text": [
      "D:\\anaconda3\\lib\\site-packages\\sklearn\\svm\\_base.py:299: ConvergenceWarning: Solver terminated early (max_iter=5000).  Consider pre-processing your data with StandardScaler or MinMaxScaler.\n",
      "  warnings.warn(\n"
     ]
    },
    {
     "name": "stdout",
     "output_type": "stream",
     "text": [
      "Testing...\n"
     ]
    },
    {
     "data": {
      "text/plain": "             R2      RMSE  MAPE\ntrain  0.615559  1.412123  26.5\ntest   0.368186  1.784481  33.5",
      "text/html": "<div>\n<style scoped>\n    .dataframe tbody tr th:only-of-type {\n        vertical-align: middle;\n    }\n\n    .dataframe tbody tr th {\n        vertical-align: top;\n    }\n\n    .dataframe thead th {\n        text-align: right;\n    }\n</style>\n<table border=\"1\" class=\"dataframe\">\n  <thead>\n    <tr style=\"text-align: right;\">\n      <th></th>\n      <th>R2</th>\n      <th>RMSE</th>\n      <th>MAPE</th>\n    </tr>\n  </thead>\n  <tbody>\n    <tr>\n      <th>train</th>\n      <td>0.615559</td>\n      <td>1.412123</td>\n      <td>26.5</td>\n    </tr>\n    <tr>\n      <th>test</th>\n      <td>0.368186</td>\n      <td>1.784481</td>\n      <td>33.5</td>\n    </tr>\n  </tbody>\n</table>\n</div>"
     },
     "execution_count": 65,
     "metadata": {},
     "output_type": "execute_result"
    }
   ],
   "source": [
    "print(f'Preprocessing...')\n",
    "vectorizer = CountVectorizer(ngram_range=(1, 1))\n",
    "X_train_v = vectorizer.fit_transform(X_train)\n",
    "X_test_v = vectorizer.transform(X_test)\n",
    "print(f'Vectorizer vocabulary: {len(vectorizer.vocabulary_)}')\n",
    "print(f'Vectorization samples: {list(vectorizer.vocabulary_.items())[:5]}')\n",
    "print(f'Vectorized train data shape: {X_train_v.shape}')\n",
    "\n",
    "\n",
    "from sklearn.svm import SVR\n",
    "from sklearn.preprocessing import MaxAbsScaler\n",
    "\n",
    "\n",
    "scaler = MaxAbsScaler()\n",
    "X_train_vs = scaler.fit_transform(X_train_v)\n",
    "X_test_vs = scaler.transform(X_test_v)\n",
    "\n",
    "\n",
    "model = SVR(max_iter=5000)\n",
    "print(f'Training...')\n",
    "model.fit(X_train_vs, y_train)\n",
    "print(f'Testing...')\n",
    "evaluate_model(model, X_train_vs, X_test_vs, y_train, y_test)"
   ],
   "metadata": {
    "collapsed": false,
    "ExecuteTime": {
     "end_time": "2023-05-31T10:40:18.660753500Z",
     "start_time": "2023-05-31T10:26:43.912768100Z"
    }
   }
  },
  {
   "cell_type": "markdown",
   "source": [
    "### Модель сильно подвергается переобучению."
   ],
   "metadata": {
    "collapsed": false
   }
  },
  {
   "cell_type": "markdown",
   "source": [
    "### Попробуем дерево решений. (n_grams = 1)"
   ],
   "metadata": {
    "collapsed": false
   }
  },
  {
   "cell_type": "code",
   "execution_count": 66,
   "outputs": [
    {
     "name": "stdout",
     "output_type": "stream",
     "text": [
      "Preprocessing...\n",
      "Vectorizer vocabulary: 66914\n",
      "Vectorization samples: [('more', 37887), ('pics', 43723), ('overall', 41897), ('story', 55896), ('animation', 2382)]\n",
      "Vectorized train data shape: (13447, 66914)\n",
      "Training...\n",
      "Testing...\n"
     ]
    },
    {
     "data": {
      "text/plain": "             R2      RMSE  MAPE\ntrain  0.205853  2.029588  36.2\ntest   0.142087  2.079405  36.7",
      "text/html": "<div>\n<style scoped>\n    .dataframe tbody tr th:only-of-type {\n        vertical-align: middle;\n    }\n\n    .dataframe tbody tr th {\n        vertical-align: top;\n    }\n\n    .dataframe thead th {\n        text-align: right;\n    }\n</style>\n<table border=\"1\" class=\"dataframe\">\n  <thead>\n    <tr style=\"text-align: right;\">\n      <th></th>\n      <th>R2</th>\n      <th>RMSE</th>\n      <th>MAPE</th>\n    </tr>\n  </thead>\n  <tbody>\n    <tr>\n      <th>train</th>\n      <td>0.205853</td>\n      <td>2.029588</td>\n      <td>36.2</td>\n    </tr>\n    <tr>\n      <th>test</th>\n      <td>0.142087</td>\n      <td>2.079405</td>\n      <td>36.7</td>\n    </tr>\n  </tbody>\n</table>\n</div>"
     },
     "execution_count": 66,
     "metadata": {},
     "output_type": "execute_result"
    }
   ],
   "source": [
    "print(f'Preprocessing...')\n",
    "vectorizer = CountVectorizer(ngram_range=(1, 1))\n",
    "X_train_v = vectorizer.fit_transform(X_train)\n",
    "X_test_v = vectorizer.transform(X_test)\n",
    "print(f'Vectorizer vocabulary: {len(vectorizer.vocabulary_)}')\n",
    "print(f'Vectorization samples: {list(vectorizer.vocabulary_.items())[:5]}')\n",
    "print(f'Vectorized train data shape: {X_train_v.shape}')\n",
    "\n",
    "\n",
    "from sklearn.tree import DecisionTreeRegressor\n",
    "\n",
    "\n",
    "model = DecisionTreeRegressor(random_state=random_state, max_depth=5)\n",
    "print(f'Training...')\n",
    "model.fit(X_train_v, y_train)\n",
    "print(f'Testing...')\n",
    "evaluate_model(model, X_train_v, X_test_v, y_train, y_test)"
   ],
   "metadata": {
    "collapsed": false,
    "ExecuteTime": {
     "end_time": "2023-05-31T10:40:30.272007200Z",
     "start_time": "2023-05-31T10:40:18.664753600Z"
    }
   }
  },
  {
   "cell_type": "markdown",
   "source": [
    "### Дереву плохо при любом количестве n-грамм и при любом значении глубины."
   ],
   "metadata": {
    "collapsed": false
   }
  },
  {
   "cell_type": "markdown",
   "source": [
    "### Попробуем ансамбль из XGBoost."
   ],
   "metadata": {
    "collapsed": false
   }
  },
  {
   "cell_type": "code",
   "execution_count": 67,
   "outputs": [
    {
     "name": "stdout",
     "output_type": "stream",
     "text": [
      "Preprocessing...\n",
      "Vectorizer vocabulary: 66914\n",
      "Vectorization samples: [('more', 37887), ('pics', 43723), ('overall', 41897), ('story', 55896), ('animation', 2382)]\n",
      "Vectorized train data shape: (13447, 66914)\n",
      "Training...\n",
      "Testing...\n"
     ]
    },
    {
     "data": {
      "text/plain": "             R2      RMSE  MAPE\ntrain   0.60094  1.438721  24.1\ntest   0.478119  1.621821  27.8",
      "text/html": "<div>\n<style scoped>\n    .dataframe tbody tr th:only-of-type {\n        vertical-align: middle;\n    }\n\n    .dataframe tbody tr th {\n        vertical-align: top;\n    }\n\n    .dataframe thead th {\n        text-align: right;\n    }\n</style>\n<table border=\"1\" class=\"dataframe\">\n  <thead>\n    <tr style=\"text-align: right;\">\n      <th></th>\n      <th>R2</th>\n      <th>RMSE</th>\n      <th>MAPE</th>\n    </tr>\n  </thead>\n  <tbody>\n    <tr>\n      <th>train</th>\n      <td>0.60094</td>\n      <td>1.438721</td>\n      <td>24.1</td>\n    </tr>\n    <tr>\n      <th>test</th>\n      <td>0.478119</td>\n      <td>1.621821</td>\n      <td>27.8</td>\n    </tr>\n  </tbody>\n</table>\n</div>"
     },
     "execution_count": 67,
     "metadata": {},
     "output_type": "execute_result"
    }
   ],
   "source": [
    "print(f'Preprocessing...')\n",
    "vectorizer = CountVectorizer(ngram_range=(1, 1))\n",
    "X_train_v = vectorizer.fit_transform(X_train)\n",
    "X_test_v = vectorizer.transform(X_test)\n",
    "print(f'Vectorizer vocabulary: {len(vectorizer.vocabulary_)}')\n",
    "print(f'Vectorization samples: {list(vectorizer.vocabulary_.items())[:5]}')\n",
    "print(f'Vectorized train data shape: {X_train_v.shape}')\n",
    "\n",
    "\n",
    "import xgboost as xgb\n",
    "\n",
    "\n",
    "model = xgb.XGBRegressor(\n",
    "    random_state=random_state,\n",
    "    max_depth=3,\n",
    "    objective='reg:squarederror',\n",
    "    reg_alpha=10.,\n",
    "    reg_lambda=10.,\n",
    ")\n",
    "print(f'Training...')\n",
    "model.fit(X_train_v, y_train)\n",
    "print(f'Testing...')\n",
    "evaluate_model(model, X_train_v, X_test_v, y_train, y_test)"
   ],
   "metadata": {
    "collapsed": false,
    "ExecuteTime": {
     "end_time": "2023-05-31T10:40:43.963415400Z",
     "start_time": "2023-05-31T10:40:30.268043500Z"
    }
   }
  },
  {
   "cell_type": "markdown",
   "source": [
    "### Попробуем нейросети. Может, получится лучше отловить какие-то нелинейные зависимости в данных.\n",
    "\n",
    "Нейросети чувствительны к масштабу, так что здесь тоже масштабируем данные."
   ],
   "metadata": {
    "collapsed": false
   }
  },
  {
   "cell_type": "code",
   "execution_count": 69,
   "outputs": [
    {
     "name": "stdout",
     "output_type": "stream",
     "text": [
      "Preprocessing...\n",
      "Vectorizer vocabulary: 66914\n",
      "Vectorization samples: [('more', 37887), ('pics', 43723), ('overall', 41897), ('story', 55896), ('animation', 2382)]\n",
      "Vectorized train data shape: (13447, 66914)\n",
      "Training...\n",
      "Testing...\n"
     ]
    },
    {
     "data": {
      "text/plain": "             R2      RMSE  MAPE\ntrain  0.826831  0.947747  14.5\ntest   0.491713  1.600559  26.7",
      "text/html": "<div>\n<style scoped>\n    .dataframe tbody tr th:only-of-type {\n        vertical-align: middle;\n    }\n\n    .dataframe tbody tr th {\n        vertical-align: top;\n    }\n\n    .dataframe thead th {\n        text-align: right;\n    }\n</style>\n<table border=\"1\" class=\"dataframe\">\n  <thead>\n    <tr style=\"text-align: right;\">\n      <th></th>\n      <th>R2</th>\n      <th>RMSE</th>\n      <th>MAPE</th>\n    </tr>\n  </thead>\n  <tbody>\n    <tr>\n      <th>train</th>\n      <td>0.826831</td>\n      <td>0.947747</td>\n      <td>14.5</td>\n    </tr>\n    <tr>\n      <th>test</th>\n      <td>0.491713</td>\n      <td>1.600559</td>\n      <td>26.7</td>\n    </tr>\n  </tbody>\n</table>\n</div>"
     },
     "execution_count": 69,
     "metadata": {},
     "output_type": "execute_result"
    }
   ],
   "source": [
    "print(f'Preprocessing...')\n",
    "vectorizer = CountVectorizer(ngram_range=(1, 1))\n",
    "X_train_v = vectorizer.fit_transform(X_train)\n",
    "X_test_v = vectorizer.transform(X_test)\n",
    "print(f'Vectorizer vocabulary: {len(vectorizer.vocabulary_)}')\n",
    "print(f'Vectorization samples: {list(vectorizer.vocabulary_.items())[:5]}')\n",
    "print(f'Vectorized train data shape: {X_train_v.shape}')\n",
    "\n",
    "\n",
    "scaler = MaxAbsScaler()\n",
    "X_train_vs = scaler.fit_transform(X_train_v)\n",
    "X_test_vs = scaler.transform(X_test_v)\n",
    "\n",
    "\n",
    "from sklearn.neural_network import MLPRegressor\n",
    "\n",
    "\n",
    "model = MLPRegressor(\n",
    "    random_state=random_state,\n",
    "    hidden_layer_sizes=(128, 64),\n",
    "    activation='relu',\n",
    "    alpha=10.,\n",
    ")\n",
    "print(f'Training...')\n",
    "model.fit(X_train_vs, y_train)\n",
    "print(f'Testing...')\n",
    "evaluate_model(model, X_train_vs, X_test_vs, y_train, y_test)"
   ],
   "metadata": {
    "collapsed": false,
    "ExecuteTime": {
     "end_time": "2023-05-31T11:45:36.022974400Z",
     "start_time": "2023-05-31T10:51:46.715010800Z"
    }
   }
  },
  {
   "cell_type": "markdown",
   "source": [
    "### Из нейросети получилось выжать лучший результат на тестовых данных, однако она довольно сильно переобучается."
   ],
   "metadata": {
    "collapsed": false
   }
  },
  {
   "cell_type": "markdown",
   "source": [
    "### Пока что модель XGB с n_grams=1 -- лучший кандидат."
   ],
   "metadata": {
    "collapsed": false
   }
  },
  {
   "cell_type": "markdown",
   "source": [
    "# Обработаем входные данные\n",
    "\n",
    "Удалим ненужные слова и символы, сведём всё к единому формату."
   ],
   "metadata": {
    "collapsed": false
   }
  },
  {
   "cell_type": "code",
   "execution_count": 91,
   "outputs": [
    {
     "name": "stdout",
     "output_type": "stream",
     "text": [
      "noise len: 211\n",
      "noise sample: ... [\"shouldn't\", 'wasn', \"wasn't\", 'weren', \"weren't\", 'won', \"won't\", 'wouldn', \"wouldn't\", '!', '\"', '#', '$', '%', '&', \"'\", '(', ')', '*', '+'] ...\n"
     ]
    }
   ],
   "source": [
    "from nltk.corpus import stopwords\n",
    "from string import punctuation\n",
    "from nltk import word_tokenize\n",
    "\n",
    "noise = stopwords.words('english') + list(punctuation)\n",
    "print(f'noise len: {len(noise)}')\n",
    "print(f'noise sample: ... {noise[170:190]} ...')"
   ],
   "metadata": {
    "collapsed": false,
    "ExecuteTime": {
     "end_time": "2023-05-31T12:26:34.038901Z",
     "start_time": "2023-05-31T12:26:33.974373900Z"
    }
   }
  },
  {
   "cell_type": "code",
   "execution_count": 117,
   "outputs": [],
   "source": [
    "import re\n",
    "\n",
    "\n",
    "def preproc(text: str) -> str:\n",
    "    text = text.lower()\n",
    "    text = re.sub(r'\\s+', ' ', text)\n",
    "    text = re.sub(r'\\d+', '', text)\n",
    "    text = text.replace('more pics overall story animation sound character enjoyment', '')\n",
    "    text = text.replace('helpful', '')\n",
    "    text = text.strip()\n",
    "    return text"
   ],
   "metadata": {
    "collapsed": false,
    "ExecuteTime": {
     "end_time": "2023-05-31T13:01:13.224422900Z",
     "start_time": "2023-05-31T13:01:13.200429900Z"
    }
   }
  },
  {
   "cell_type": "code",
   "execution_count": 93,
   "outputs": [
    {
     "name": "stdout",
     "output_type": "stream",
     "text": [
      "Preprocessing...\n"
     ]
    }
   ],
   "source": [
    "print(f'Preprocessing...')\n",
    "\n",
    "X_train_p = X_train.apply(preproc)\n",
    "X_test_p = X_test.apply(preproc)"
   ],
   "metadata": {
    "collapsed": false,
    "ExecuteTime": {
     "end_time": "2023-05-31T12:26:43.103646500Z",
     "start_time": "2023-05-31T12:26:36.002809100Z"
    }
   }
  },
  {
   "cell_type": "code",
   "execution_count": 94,
   "outputs": [
    {
     "data": {
      "text/plain": "'deadman wonderland is heartfelt and painfully human.one of the most original stories i have read.the story is a of in my opinion. its unique and terrifying.it has something other stories lack and thats uniqueness.the thought of a middle school student framed for the murder of his best friends,and being sent to a prison filled with psycho paths,and having to fight to the death,is so surprising,so warm and yet so chilling.the only thing that pissed me the hell off was the fact that the anime got cut short.it had a unfinished feel to it,do to low view stats.the manga still is a out of ,because its still running.but for the anime i cant say the same. its a of at best,because there was so much unexplained.the anime left out so much good materiel,and it was a shame because it had awesome art and good english dub voice actors.over all i was left with a emptiness in my heart after watching the anime.it had such good side character but did jack shit with them.in the manga it has the full ending,more back story on the supporting character and over all better.i would personally recommend the manga over the anime. do you agree with me? did you think the ending to the anime was shit? if you dis agree send a message to me and tell me why. :d thanks for reading have a awesome day.'"
     },
     "execution_count": 94,
     "metadata": {},
     "output_type": "execute_result"
    }
   ],
   "source": [
    "X_test_p.iloc[100]"
   ],
   "metadata": {
    "collapsed": false,
    "ExecuteTime": {
     "end_time": "2023-05-31T12:26:43.151645700Z",
     "start_time": "2023-05-31T12:26:43.079650100Z"
    }
   }
  },
  {
   "cell_type": "code",
   "execution_count": 95,
   "outputs": [
    {
     "name": "stderr",
     "output_type": "stream",
     "text": [
      "D:\\anaconda3\\lib\\site-packages\\sklearn\\feature_extraction\\text.py:409: UserWarning: Your stop_words may be inconsistent with your preprocessing. Tokenizing the stop words generated tokens [\"'d\", \"'ll\", \"'re\", \"'s\", \"'ve\", '``', 'could', 'might', 'must', \"n't\", 'need', 'sha', 'wo', 'would'] not in stop_words.\n",
      "  warnings.warn(\n"
     ]
    },
    {
     "name": "stdout",
     "output_type": "stream",
     "text": [
      "Vectorizer vocabulary: 88651\n",
      "Vectorization samples: [('excellent', 26539), ('winter', 85586), ('anime', 5932), ('seriously', 68950), (\"n't\", 51538)]\n",
      "Vectorized train data shape: (13447, 88651)\n"
     ]
    }
   ],
   "source": [
    "vectorizer = CountVectorizer(\n",
    "    ngram_range=(1, 1),\n",
    "    token_pattern=None,\n",
    "    tokenizer=word_tokenize,\n",
    "    stop_words=noise,\n",
    ")\n",
    "\n",
    "X_train_vp = vectorizer.fit_transform(X_train_p)\n",
    "X_test_vp = vectorizer.transform(X_test_p)\n",
    "\n",
    "print(f'Vectorizer vocabulary: {len(vectorizer.vocabulary_)}')\n",
    "print(f'Vectorization samples: {list(vectorizer.vocabulary_.items())[:5]}')\n",
    "print(f'Vectorized train data shape: {X_train_vp.shape}')"
   ],
   "metadata": {
    "collapsed": false,
    "ExecuteTime": {
     "end_time": "2023-05-31T12:28:10.571256400Z",
     "start_time": "2023-05-31T12:26:43.103646500Z"
    }
   }
  },
  {
   "cell_type": "markdown",
   "source": [
    "### Обучим нашу лучшую модель на \"чистых\" данных"
   ],
   "metadata": {
    "collapsed": false
   }
  },
  {
   "cell_type": "code",
   "execution_count": 97,
   "outputs": [
    {
     "name": "stdout",
     "output_type": "stream",
     "text": [
      "Training...\n",
      "Testing...\n"
     ]
    },
    {
     "data": {
      "text/plain": "             R2      RMSE  MAPE\ntrain   0.58172   1.47296  24.8\ntest   0.466332  1.640035  28.3",
      "text/html": "<div>\n<style scoped>\n    .dataframe tbody tr th:only-of-type {\n        vertical-align: middle;\n    }\n\n    .dataframe tbody tr th {\n        vertical-align: top;\n    }\n\n    .dataframe thead th {\n        text-align: right;\n    }\n</style>\n<table border=\"1\" class=\"dataframe\">\n  <thead>\n    <tr style=\"text-align: right;\">\n      <th></th>\n      <th>R2</th>\n      <th>RMSE</th>\n      <th>MAPE</th>\n    </tr>\n  </thead>\n  <tbody>\n    <tr>\n      <th>train</th>\n      <td>0.58172</td>\n      <td>1.47296</td>\n      <td>24.8</td>\n    </tr>\n    <tr>\n      <th>test</th>\n      <td>0.466332</td>\n      <td>1.640035</td>\n      <td>28.3</td>\n    </tr>\n  </tbody>\n</table>\n</div>"
     },
     "execution_count": 97,
     "metadata": {},
     "output_type": "execute_result"
    }
   ],
   "source": [
    "model = xgb.XGBRegressor(\n",
    "    random_state=random_state,\n",
    "    max_depth=3,\n",
    "    objective='reg:squarederror',\n",
    "    reg_alpha=10.,\n",
    "    reg_lambda=10.,\n",
    ")\n",
    "print(f'Training...')\n",
    "model.fit(X_train_vp, y_train)\n",
    "print(f'Testing...')\n",
    "evaluate_model(model, X_train_vp, X_test_vp, y_train, y_test)"
   ],
   "metadata": {
    "collapsed": false,
    "ExecuteTime": {
     "end_time": "2023-05-31T12:28:52.781051900Z",
     "start_time": "2023-05-31T12:28:48.611003300Z"
    }
   }
  },
  {
   "cell_type": "markdown",
   "source": [
    "### Результат стал чуть хуже, однако эффект переобучения уменьшился."
   ],
   "metadata": {
    "collapsed": false
   }
  },
  {
   "cell_type": "markdown",
   "source": [
    "### Проведём немного ручных тестов."
   ],
   "metadata": {
    "collapsed": false
   }
  },
  {
   "cell_type": "code",
   "execution_count": 100,
   "outputs": [],
   "source": [
    "def manual_test(model_, text: str) -> float:\n",
    "    X_test_manual = pd.Series([text])\n",
    "    X_test_manual_p = X_test_manual.apply(preproc)\n",
    "    X_test_manual_vp = vectorizer.transform(X_test_manual_p)\n",
    "    return model_.predict(X_test_manual_vp)[0]"
   ],
   "metadata": {
    "collapsed": false,
    "ExecuteTime": {
     "end_time": "2023-05-31T12:33:23.961162800Z",
     "start_time": "2023-05-31T12:33:23.946459400Z"
    }
   }
  },
  {
   "cell_type": "code",
   "execution_count": 114,
   "outputs": [
    {
     "data": {
      "text/plain": "8.125796"
     },
     "execution_count": 114,
     "metadata": {},
     "output_type": "execute_result"
    }
   ],
   "source": [
    "manual_test(model, 'Loving it! Best anime ever! The story is excellent, the drawing style is picturesque, the plot is so intriguing! Totally worth watching. The characters are so cute and adorable that you cant miss this! The romantic storyline was probably on par with Clannad itself. The voice actors did their best to ensure full immersion.')"
   ],
   "metadata": {
    "collapsed": false,
    "ExecuteTime": {
     "end_time": "2023-05-31T12:38:40.561399600Z",
     "start_time": "2023-05-31T12:38:40.533406200Z"
    }
   }
  },
  {
   "cell_type": "code",
   "execution_count": 112,
   "outputs": [
    {
     "data": {
      "text/plain": "4.755459"
     },
     "execution_count": 112,
     "metadata": {},
     "output_type": "execute_result"
    }
   ],
   "source": [
    "manual_test(model, 'Absolute trash! I dont understand how could anybody ever watch this. Dropped halfway, wont even consider finishing this. I really cant imagine an anime being as bad as this one. This is legit the worst way to spend your time in the world. Why? The drawing is okay I mean. But the story. Wtf. Is like some drunk unskilled writer did it in under 5 mins. Literally no sense.')"
   ],
   "metadata": {
    "collapsed": false,
    "ExecuteTime": {
     "end_time": "2023-05-31T12:37:10.156563Z",
     "start_time": "2023-05-31T12:37:10.126446Z"
    }
   }
  },
  {
   "cell_type": "markdown",
   "source": [
    "### В целом, неплохо. Попробуем дать модели больше данных и посмотрим, как это повлияет на её точность."
   ],
   "metadata": {
    "collapsed": false
   }
  },
  {
   "cell_type": "code",
   "execution_count": 146,
   "outputs": [
    {
     "name": "stdout",
     "output_type": "stream",
     "text": [
      "Reading...\n"
     ]
    }
   ],
   "source": [
    "#############################################################################################################\n",
    "\n",
    "print(f'Reading...')\n",
    "\n",
    "df = pd.read_csv(f'{dir}/reviews.csv')\n",
    "df = df.sample(frac=0.5, random_state=random_state)\n",
    "df = df[['text', 'score']]\n",
    "X = df['text']\n",
    "y = df['score']\n",
    "X_train, X_test, y_train, y_test = train_test_split(X, y, test_size=0.3, random_state=random_state)"
   ],
   "metadata": {
    "collapsed": false,
    "ExecuteTime": {
     "end_time": "2023-05-31T13:57:06.161447600Z",
     "start_time": "2023-05-31T13:56:54.136497100Z"
    }
   }
  },
  {
   "cell_type": "code",
   "execution_count": 147,
   "outputs": [
    {
     "name": "stdout",
     "output_type": "stream",
     "text": [
      "Preprocessing...\n"
     ]
    },
    {
     "name": "stderr",
     "output_type": "stream",
     "text": [
      "D:\\anaconda3\\lib\\site-packages\\sklearn\\feature_extraction\\text.py:409: UserWarning: Your stop_words may be inconsistent with your preprocessing. Tokenizing the stop words generated tokens [\"'d\", \"'ll\", \"'re\", \"'s\", \"'ve\", '``', 'could', 'might', 'must', \"n't\", 'need', 'sha', 'wo', 'would'] not in stop_words.\n",
      "  warnings.warn(\n"
     ]
    },
    {
     "name": "stdout",
     "output_type": "stream",
     "text": [
      "Vectorizer vocabulary: 212827\n",
      "Vectorization samples: [('pics', 140669), ('overall', 135524), ('story', 176990), ('animation', 15999), ('sound', 173456)]\n",
      "Vectorized train data shape: (67239, 212827)\n"
     ]
    }
   ],
   "source": [
    "print(f'Preprocessing...')\n",
    "\n",
    "X_train_p = X_train.apply(preproc)\n",
    "X_test_p = X_test.apply(preproc)\n",
    "\n",
    "vectorizer = CountVectorizer(\n",
    "    ngram_range=(1, 1),\n",
    "    token_pattern=None,\n",
    "    tokenizer=word_tokenize,\n",
    "    stop_words=noise,\n",
    ")\n",
    "\n",
    "X_train_vp = vectorizer.fit_transform(X_train_p)\n",
    "X_test_vp = vectorizer.transform(X_test_p)\n",
    "\n",
    "print(f'Vectorizer vocabulary: {len(vectorizer.vocabulary_)}')\n",
    "print(f'Vectorization samples: {list(vectorizer.vocabulary_.items())[:5]}')\n",
    "print(f'Vectorized train data shape: {X_train_vp.shape}')"
   ],
   "metadata": {
    "collapsed": false,
    "ExecuteTime": {
     "end_time": "2023-05-31T14:03:26.677047300Z",
     "start_time": "2023-05-31T13:57:06.171500900Z"
    }
   }
  },
  {
   "cell_type": "code",
   "execution_count": 148,
   "outputs": [
    {
     "name": "stdout",
     "output_type": "stream",
     "text": [
      "Training...\n"
     ]
    }
   ],
   "source": [
    "print(f'Training...')\n",
    "\n",
    "\n",
    "from sklearn.metrics import make_scorer\n",
    "from sklearn.model_selection import learning_curve\n",
    "from sklearn.model_selection import LearningCurveDisplay\n",
    "\n",
    "\n",
    "rmse_scorer = make_scorer(lambda y_true, y_pred:\n",
    "                          np.sqrt(mean_squared_error(y_true, y_pred)))\n",
    "\n",
    "train_sizes, train_scores, test_scores = learning_curve(\n",
    "    model,\n",
    "    X_train_vp,\n",
    "    y_train,\n",
    "    cv=3,\n",
    "    scoring=rmse_scorer,\n",
    "    train_sizes=np.linspace(0.1, 1.0, 5),\n",
    "    shuffle=True,\n",
    "    random_state=random_state\n",
    ")"
   ],
   "metadata": {
    "collapsed": false,
    "ExecuteTime": {
     "end_time": "2023-05-31T14:05:29.007095900Z",
     "start_time": "2023-05-31T14:03:26.677101500Z"
    }
   }
  },
  {
   "cell_type": "code",
   "execution_count": 149,
   "outputs": [],
   "source": [
    "display = LearningCurveDisplay(\n",
    "    train_sizes=train_sizes,\n",
    "    train_scores=train_scores,\n",
    "    test_scores=test_scores,\n",
    "    score_name='RMSE',\n",
    ")"
   ],
   "metadata": {
    "collapsed": false,
    "ExecuteTime": {
     "end_time": "2023-05-31T14:05:29.017215Z",
     "start_time": "2023-05-31T14:05:29.011630500Z"
    }
   }
  },
  {
   "cell_type": "code",
   "execution_count": 150,
   "outputs": [
    {
     "data": {
      "text/plain": "<sklearn.model_selection._plot.LearningCurveDisplay at 0x249a9d8bb50>"
     },
     "execution_count": 150,
     "metadata": {},
     "output_type": "execute_result"
    },
    {
     "data": {
      "text/plain": "<Figure size 640x480 with 1 Axes>",
      "image/png": "[encoded data removed]"
     },
     "metadata": {},
     "output_type": "display_data"
    }
   ],
   "source": [
    "display.plot(score_type='both')"
   ],
   "metadata": {
    "collapsed": false,
    "ExecuteTime": {
     "end_time": "2023-05-31T14:05:29.335116200Z",
     "start_time": "2023-05-31T14:05:29.023795400Z"
    }
   }
  },
  {
   "cell_type": "code",
   "execution_count": 155,
   "outputs": [
    {
     "data": {
      "text/plain": "(5, 5)"
     },
     "execution_count": 155,
     "metadata": {},
     "output_type": "execute_result"
    }
   ],
   "source": [
    "len(train_scores), len(test_scores)"
   ],
   "metadata": {
    "collapsed": false,
    "ExecuteTime": {
     "end_time": "2023-05-31T14:23:23.508267600Z",
     "start_time": "2023-05-31T14:23:23.468350Z"
    }
   }
  },
  {
   "cell_type": "code",
   "execution_count": 151,
   "outputs": [
    {
     "data": {
      "text/plain": "array([[1.33217899, 1.31624927, 1.34578441],\n       [1.47467712, 1.47176991, 1.47661168],\n       [1.51329027, 1.50969095, 1.50923967],\n       [1.5360074 , 1.53421592, 1.5253732 ],\n       [1.54160415, 1.54516239, 1.541118  ]])"
     },
     "execution_count": 151,
     "metadata": {},
     "output_type": "execute_result"
    }
   ],
   "source": [
    "train_scores"
   ],
   "metadata": {
    "collapsed": false,
    "ExecuteTime": {
     "end_time": "2023-05-31T14:05:29.347246400Z",
     "start_time": "2023-05-31T14:05:29.337153700Z"
    }
   }
  },
  {
   "cell_type": "code",
   "execution_count": 152,
   "outputs": [
    {
     "data": {
      "text/plain": "array([[1.69494444, 1.67866173, 1.68907935],\n       [1.63389163, 1.63784739, 1.63394122],\n       [1.61923252, 1.62285192, 1.61693016],\n       [1.61734077, 1.61415762, 1.60974759],\n       [1.61515299, 1.60829498, 1.60986677]])"
     },
     "execution_count": 152,
     "metadata": {},
     "output_type": "execute_result"
    }
   ],
   "source": [
    "test_scores"
   ],
   "metadata": {
    "collapsed": false,
    "ExecuteTime": {
     "end_time": "2023-05-31T14:05:29.392032Z",
     "start_time": "2023-05-31T14:05:29.347246400Z"
    }
   }
  },
  {
   "cell_type": "code",
   "execution_count": 156,
   "outputs": [
    {
     "data": {
      "text/plain": "(1.6334627384792961, 0)"
     },
     "execution_count": 156,
     "metadata": {},
     "output_type": "execute_result"
    }
   ],
   "source": [
    "best_score = np.min(np.mean(test_scores))\n",
    "best_train_samples = np.argmin(np.mean(test_scores))\n",
    "best_score, best_train_samples"
   ],
   "metadata": {
    "collapsed": false,
    "ExecuteTime": {
     "end_time": "2023-05-31T14:27:45.075015Z",
     "start_time": "2023-05-31T14:27:44.995009200Z"
    }
   }
  },
  {
   "cell_type": "markdown",
   "source": [
    "### Видно, что алгоритм сходится, хоть и довольно медленно.\n",
    "\n",
    "При 45K входных образцов качество модели немного улучшилось (по сравнению с 13K образцов). Однако для получения ещё более существенного улучшения качества потребуется либо гораздо больше данных (возможно, сотни тысяч или даже миллионы образцов), подбор более качественной модели, либо же ещё более умная предобработка данных (токенизация, векторизация...)."
   ],
   "metadata": {
    "collapsed": false
   }
  }
 ],
 "metadata": {
  "kernelspec": {
   "display_name": "Python 3",
   "language": "python",
   "name": "python3"
  },
  "language_info": {
   "codemirror_mode": {
    "name": "ipython",
    "version": 2
   },
   "file_extension": ".py",
   "mimetype": "text/x-python",
   "name": "python",
   "nbconvert_exporter": "python",
   "pygments_lexer": "ipython2",
   "version": "2.7.6"
  }
 },
 "nbformat": 4,
 "nbformat_minor": 0
}
